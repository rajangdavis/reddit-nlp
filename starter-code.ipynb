{
 "cells": [
  {
   "cell_type": "markdown",
   "metadata": {
    "focus": false,
    "id": "69b9a648-bcc7-490d-9f9b-ea244d156bd6"
   },
   "source": [
    "# Using Reddit's API for Predicting Comments"
   ]
  },
  {
   "cell_type": "markdown",
   "metadata": {
    "ExecuteTime": {
     "end_time": "2017-10-23T19:28:02.619411Z",
     "start_time": "2017-10-23T19:28:02.600856Z"
    }
   },
   "source": [
    "In this project, we will practice two major skills. Collecting data via an API request and then building a binary predictor.\n",
    "\n",
    "As we discussed in week 2, and earlier today, there are two components to starting a data science problem: the problem statement, and acquiring the data.\n",
    "\n",
    "For this article, your problem statement will be: _What characteristics of a post on Reddit contribute most to what subreddit it belongs to?_\n",
    "\n",
    "Your method for acquiring the data will be scraping threads from at least two subreddits. \n",
    "\n",
    "Once you've got the data, you will build a classification model that, using Natural Language Processing and any other relevant features, predicts which subreddit a given post belongs to."
   ]
  },
  {
   "cell_type": "markdown",
   "metadata": {
    "focus": false,
    "id": "a948d79c-5527-4c0d-ab23-f5d43ce72056"
   },
   "source": [
    "### Scraping Thread Info from Reddit.com"
   ]
  },
  {
   "cell_type": "code",
   "execution_count": 1,
   "metadata": {},
   "outputs": [
    {
     "name": "stderr",
     "output_type": "stream",
     "text": [
      "C:\\Program Files\\Anaconda3\\lib\\site-packages\\sklearn\\ensemble\\weight_boosting.py:29: DeprecationWarning: numpy.core.umath_tests is an internal NumPy module and should not be imported. It will be removed in a future NumPy release.\n",
      "  from numpy.core.umath_tests import inner1d\n"
     ]
    }
   ],
   "source": [
    "import json\n",
    "import pandas as pd\n",
    "import numpy as np\n",
    "from sklearn.feature_extraction.text import TfidfVectorizer, CountVectorizer\n",
    "# borrowed from http://scikit-learn.org/stable/auto_examples/classification/plot_classifier_comparison.html\n",
    "from sklearn.pipeline import Pipeline\n",
    "from sklearn.neighbors import KNeighborsClassifier\n",
    "from sklearn.svm import SVC\n",
    "from sklearn.linear_model import LogisticRegression\n",
    "from sklearn.pipeline import Pipeline\n",
    "from sklearn.model_selection import train_test_split, GridSearchCV\n",
    "from sklearn.gaussian_process import GaussianProcessClassifier\n",
    "from sklearn.gaussian_process.kernels import RBF\n",
    "from sklearn.tree import DecisionTreeClassifier\n",
    "from sklearn.neural_network import MLPClassifier\n",
    "from sklearn.ensemble import RandomForestClassifier, AdaBoostClassifier, GradientBoostingClassifier\n",
    "from sklearn.naive_bayes import GaussianNB, BernoulliNB, MultinomialNB\n",
    "from sklearn.discriminant_analysis import QuadraticDiscriminantAnalysis"
   ]
  },
  {
   "cell_type": "code",
   "execution_count": 2,
   "metadata": {},
   "outputs": [],
   "source": [
    "# I ended up using Node and the pushshift.io API\n",
    "\n",
    "# the code for getting the files is located in the pushshift.js file\n",
    "\n",
    "# I also made a function for merging all of the files in the merge.js file"
   ]
  },
  {
   "cell_type": "code",
   "execution_count": null,
   "metadata": {
    "focus": false,
    "id": "783fd153-28ac-47ab-bfca-27e7c1de95b4"
   },
   "outputs": [],
   "source": []
  },
  {
   "cell_type": "code",
   "execution_count": 3,
   "metadata": {
    "scrolled": false
   },
   "outputs": [],
   "source": [
    "sm = pd.read_json(\"./json2/SequelMemes.json\")\n",
    "pm = pd.read_json(\"./json2/PrequelMemes.json\")"
   ]
  },
  {
   "cell_type": "code",
   "execution_count": 4,
   "metadata": {},
   "outputs": [
    {
     "name": "stdout",
     "output_type": "stream",
     "text": [
      "                                title  is_sequel_meme\n",
      "0                      Drunk Politics               0\n",
      "1                 When the Fun Begins               0\n",
      "2                      Just one Windu               0\n",
      "3  dlmoisttlotjidnftdsaydihbpjfastmne               0\n",
      "4                     Drunk Democracy               0\n",
      "                                                   title  is_sequel_meme\n",
      "14595                        His swoleness got him #6!!!               1\n",
      "14596  Looks like someone at my local brewery is a Se...               1\n",
      "14597  MAGA.... Nah! Time to make the Republic great ...               1\n",
      "14598           Take On Me except it's Leia slapping Poe               1\n",
      "14599           Take On Me except it's Leia slapping Poe               1\n"
     ]
    },
    {
     "name": "stderr",
     "output_type": "stream",
     "text": [
      "C:\\Program Files\\Anaconda3\\lib\\site-packages\\ipykernel_launcher.py:4: SettingWithCopyWarning: \n",
      "A value is trying to be set on a copy of a slice from a DataFrame.\n",
      "Try using .loc[row_indexer,col_indexer] = value instead\n",
      "\n",
      "See the caveats in the documentation: http://pandas.pydata.org/pandas-docs/stable/indexing.html#indexing-view-versus-copy\n",
      "  after removing the cwd from sys.path.\n",
      "C:\\Program Files\\Anaconda3\\lib\\site-packages\\ipykernel_launcher.py:5: SettingWithCopyWarning: \n",
      "A value is trying to be set on a copy of a slice from a DataFrame.\n",
      "Try using .loc[row_indexer,col_indexer] = value instead\n",
      "\n",
      "See the caveats in the documentation: http://pandas.pydata.org/pandas-docs/stable/indexing.html#indexing-view-versus-copy\n",
      "  \"\"\"\n"
     ]
    }
   ],
   "source": [
    "sm_titles = sm[[\"title\"]]\n",
    "pm_titles = pm[[\"title\"]]\n",
    "\n",
    "sm_titles[\"is_sequel_meme\"] = 1\n",
    "pm_titles[\"is_sequel_meme\"] = 0\n",
    "\n",
    "meme_titles = pd.concat([pm_titles,sm_titles])\n",
    "print(meme_titles.head())\n",
    "print(meme_titles.tail())"
   ]
  },
  {
   "cell_type": "code",
   "execution_count": 5,
   "metadata": {},
   "outputs": [],
   "source": [
    "corpus = [title[0] for title in meme_titles[[\"title\"]].values]"
   ]
  },
  {
   "cell_type": "markdown",
   "metadata": {
    "focus": false,
    "id": "db045898-1d2d-4af2-8e79-437c4c7546b4"
   },
   "source": [
    "## NLP\n",
    "\n",
    "#### Use `CountVectorizer` or `TfidfVectorizer` from scikit-learn to create features from the thread titles and descriptions (NOTE: Not all threads have a description)\n",
    "- Examine using count or binary features in the model\n",
    "- Re-evaluate your models using these. Does this improve the model performance? \n",
    "- What text features are the most valuable? "
   ]
  },
  {
   "cell_type": "code",
   "execution_count": 6,
   "metadata": {},
   "outputs": [],
   "source": [
    "## YOUR CODE HERE\n",
    "\n",
    "\n",
    "# Fit the vectorizer on our corpus\n",
    "cvec = CountVectorizer()\n",
    "cvec.fit(corpus)\n",
    "\n",
    "# Transform the corpus\n",
    "new_corpus = cvec.transform(corpus)"
   ]
  },
  {
   "cell_type": "code",
   "execution_count": 7,
   "metadata": {},
   "outputs": [
    {
     "data": {
      "text/html": [
       "<div>\n",
       "<style scoped>\n",
       "    .dataframe tbody tr th:only-of-type {\n",
       "        vertical-align: middle;\n",
       "    }\n",
       "\n",
       "    .dataframe tbody tr th {\n",
       "        vertical-align: top;\n",
       "    }\n",
       "\n",
       "    .dataframe thead th {\n",
       "        text-align: right;\n",
       "    }\n",
       "</style>\n",
       "<table border=\"1\" class=\"dataframe\">\n",
       "  <thead>\n",
       "    <tr style=\"text-align: right;\">\n",
       "      <th></th>\n",
       "      <th>00</th>\n",
       "      <th>000</th>\n",
       "      <th>00001</th>\n",
       "      <th>00100000</th>\n",
       "      <th>007</th>\n",
       "      <th>009</th>\n",
       "      <th>00am</th>\n",
       "      <th>01</th>\n",
       "      <th>01100001</th>\n",
       "      <th>01100100</th>\n",
       "      <th>...</th>\n",
       "      <th>œìž</th>\n",
       "      <th>œðÿ</th>\n",
       "      <th>širl</th>\n",
       "      <th>šã</th>\n",
       "      <th>šðÿ</th>\n",
       "      <th>žirl</th>\n",
       "      <th>žã</th>\n",
       "      <th>žæ</th>\n",
       "      <th>žè</th>\n",
       "      <th>ˆì</th>\n",
       "    </tr>\n",
       "  </thead>\n",
       "  <tbody>\n",
       "    <tr>\n",
       "      <th>0</th>\n",
       "      <td>0</td>\n",
       "      <td>0</td>\n",
       "      <td>0</td>\n",
       "      <td>0</td>\n",
       "      <td>0</td>\n",
       "      <td>0</td>\n",
       "      <td>0</td>\n",
       "      <td>0</td>\n",
       "      <td>0</td>\n",
       "      <td>0</td>\n",
       "      <td>...</td>\n",
       "      <td>0</td>\n",
       "      <td>0</td>\n",
       "      <td>0</td>\n",
       "      <td>0</td>\n",
       "      <td>0</td>\n",
       "      <td>0</td>\n",
       "      <td>0</td>\n",
       "      <td>0</td>\n",
       "      <td>0</td>\n",
       "      <td>0</td>\n",
       "    </tr>\n",
       "    <tr>\n",
       "      <th>1</th>\n",
       "      <td>0</td>\n",
       "      <td>0</td>\n",
       "      <td>0</td>\n",
       "      <td>0</td>\n",
       "      <td>0</td>\n",
       "      <td>0</td>\n",
       "      <td>0</td>\n",
       "      <td>0</td>\n",
       "      <td>0</td>\n",
       "      <td>0</td>\n",
       "      <td>...</td>\n",
       "      <td>0</td>\n",
       "      <td>0</td>\n",
       "      <td>0</td>\n",
       "      <td>0</td>\n",
       "      <td>0</td>\n",
       "      <td>0</td>\n",
       "      <td>0</td>\n",
       "      <td>0</td>\n",
       "      <td>0</td>\n",
       "      <td>0</td>\n",
       "    </tr>\n",
       "    <tr>\n",
       "      <th>2</th>\n",
       "      <td>0</td>\n",
       "      <td>0</td>\n",
       "      <td>0</td>\n",
       "      <td>0</td>\n",
       "      <td>0</td>\n",
       "      <td>0</td>\n",
       "      <td>0</td>\n",
       "      <td>0</td>\n",
       "      <td>0</td>\n",
       "      <td>0</td>\n",
       "      <td>...</td>\n",
       "      <td>0</td>\n",
       "      <td>0</td>\n",
       "      <td>0</td>\n",
       "      <td>0</td>\n",
       "      <td>0</td>\n",
       "      <td>0</td>\n",
       "      <td>0</td>\n",
       "      <td>0</td>\n",
       "      <td>0</td>\n",
       "      <td>0</td>\n",
       "    </tr>\n",
       "    <tr>\n",
       "      <th>3</th>\n",
       "      <td>0</td>\n",
       "      <td>0</td>\n",
       "      <td>0</td>\n",
       "      <td>0</td>\n",
       "      <td>0</td>\n",
       "      <td>0</td>\n",
       "      <td>0</td>\n",
       "      <td>0</td>\n",
       "      <td>0</td>\n",
       "      <td>0</td>\n",
       "      <td>...</td>\n",
       "      <td>0</td>\n",
       "      <td>0</td>\n",
       "      <td>0</td>\n",
       "      <td>0</td>\n",
       "      <td>0</td>\n",
       "      <td>0</td>\n",
       "      <td>0</td>\n",
       "      <td>0</td>\n",
       "      <td>0</td>\n",
       "      <td>0</td>\n",
       "    </tr>\n",
       "    <tr>\n",
       "      <th>4</th>\n",
       "      <td>0</td>\n",
       "      <td>0</td>\n",
       "      <td>0</td>\n",
       "      <td>0</td>\n",
       "      <td>0</td>\n",
       "      <td>0</td>\n",
       "      <td>0</td>\n",
       "      <td>0</td>\n",
       "      <td>0</td>\n",
       "      <td>0</td>\n",
       "      <td>...</td>\n",
       "      <td>0</td>\n",
       "      <td>0</td>\n",
       "      <td>0</td>\n",
       "      <td>0</td>\n",
       "      <td>0</td>\n",
       "      <td>0</td>\n",
       "      <td>0</td>\n",
       "      <td>0</td>\n",
       "      <td>0</td>\n",
       "      <td>0</td>\n",
       "    </tr>\n",
       "  </tbody>\n",
       "</table>\n",
       "<p>5 rows × 13470 columns</p>\n",
       "</div>"
      ],
      "text/plain": [
       "   00  000  00001  00100000  007  009  00am  01  01100001  01100100 ...  œìž  \\\n",
       "0   0    0      0         0    0    0     0   0         0         0 ...    0   \n",
       "1   0    0      0         0    0    0     0   0         0         0 ...    0   \n",
       "2   0    0      0         0    0    0     0   0         0         0 ...    0   \n",
       "3   0    0      0         0    0    0     0   0         0         0 ...    0   \n",
       "4   0    0      0         0    0    0     0   0         0         0 ...    0   \n",
       "\n",
       "   œðÿ  širl  šã  šðÿ  žirl  žã  žæ  žè  ˆì  \n",
       "0    0     0   0    0     0   0   0   0   0  \n",
       "1    0     0   0    0     0   0   0   0   0  \n",
       "2    0     0   0    0     0   0   0   0   0  \n",
       "3    0     0   0    0     0   0   0   0   0  \n",
       "4    0     0   0    0     0   0   0   0   0  \n",
       "\n",
       "[5 rows x 13470 columns]"
      ]
     },
     "execution_count": 7,
     "metadata": {},
     "output_type": "execute_result"
    }
   ],
   "source": [
    "df  = pd.DataFrame(new_corpus.todense(),\n",
    "                   columns=cvec.get_feature_names())\n",
    "df.head()"
   ]
  },
  {
   "cell_type": "code",
   "execution_count": 8,
   "metadata": {},
   "outputs": [],
   "source": [
    "# Visualize Top Features\n",
    "# https://medium.com/@aneesha/visualising-top-features-in-linear-svm-with-scikit-learn-and-matplotlib-3454ab18a14d\n",
    "\n",
    "# Visualize frequency\n",
    "# http://sdsawtelle.github.io/blog/output/spam-classification-part2-vectorization-and-svm-pipeline.html\n",
    "\n"
   ]
  },
  {
   "cell_type": "code",
   "execution_count": 22,
   "metadata": {
    "scrolled": false
   },
   "outputs": [
    {
     "name": "stdout",
     "output_type": "stream",
     "text": [
      "Fitting cvec\n",
      "Scores for cvec using bnb Classifier\n"
     ]
    },
    {
     "name": "stderr",
     "output_type": "stream",
     "text": [
      "C:\\Program Files\\Anaconda3\\lib\\site-packages\\sklearn\\utils\\validation.py:578: DataConversionWarning: A column-vector y was passed when a 1d array was expected. Please change the shape of y to (n_samples, ), for example using ravel().\n",
      "  y = column_or_1d(y, warn=True)\n"
     ]
    },
    {
     "name": "stdout",
     "output_type": "stream",
     "text": [
      "Train data: 0.8430602767271509\n",
      "BernoulliNB(alpha=1.0, binarize=0.0, class_prior=None, fit_prior=True)\n",
      "{'alpha': 1.0}\n",
      "Test data: 0.7528364210828666\n",
      "BernoulliNB(alpha=1.0, binarize=0.0, class_prior=None, fit_prior=True)\n",
      "{'alpha': 1.0}\n",
      "\n",
      "\n",
      "\n",
      "Scores for cvec using mnb Classifier\n"
     ]
    },
    {
     "name": "stderr",
     "output_type": "stream",
     "text": [
      "C:\\Program Files\\Anaconda3\\lib\\site-packages\\sklearn\\utils\\validation.py:578: DataConversionWarning: A column-vector y was passed when a 1d array was expected. Please change the shape of y to (n_samples, ), for example using ravel().\n",
      "  y = column_or_1d(y, warn=True)\n"
     ]
    },
    {
     "name": "stdout",
     "output_type": "stream",
     "text": [
      "Train data: 0.8424857566907646\n",
      "MultinomialNB(alpha=0.8888888888888888, class_prior=None, fit_prior=True)\n",
      "{'alpha': 0.8888888888888888}\n",
      "Test data: 0.7539853511417492\n",
      "MultinomialNB(alpha=0.8888888888888888, class_prior=None, fit_prior=True)\n",
      "{'alpha': 0.8888888888888888}\n",
      "\n",
      "\n",
      "\n",
      "Scores for cvec using logr Classifier\n"
     ]
    },
    {
     "name": "stderr",
     "output_type": "stream",
     "text": [
      "C:\\Program Files\\Anaconda3\\lib\\site-packages\\sklearn\\utils\\validation.py:578: DataConversionWarning: A column-vector y was passed when a 1d array was expected. Please change the shape of y to (n_samples, ), for example using ravel().\n",
      "  y = column_or_1d(y, warn=True)\n"
     ]
    },
    {
     "name": "stdout",
     "output_type": "stream",
     "text": [
      "Train data: 0.8680518983099536\n",
      "LogisticRegression(C=1.0, class_weight=None, dual=False, fit_intercept=True,\n",
      "          intercept_scaling=1, max_iter=100, multi_class='ovr', n_jobs=1,\n",
      "          penalty='l2', random_state=None, solver='liblinear', tol=0.0001,\n",
      "          verbose=0, warm_start=False)\n",
      "{'C': 1.0, 'penalty': 'l2'}\n",
      "Test data: 0.7529800373402269\n",
      "LogisticRegression(C=1.0, class_weight=None, dual=False, fit_intercept=True,\n",
      "          intercept_scaling=1, max_iter=100, multi_class='ovr', n_jobs=1,\n",
      "          penalty='l2', random_state=None, solver='liblinear', tol=0.0001,\n",
      "          verbose=0, warm_start=False)\n",
      "{'C': 1.0, 'penalty': 'l2'}\n",
      "\n",
      "\n",
      "\n",
      "Scores for cvec using rfc Classifier\n"
     ]
    },
    {
     "name": "stderr",
     "output_type": "stream",
     "text": [
      "C:\\Program Files\\Anaconda3\\lib\\site-packages\\sklearn\\model_selection\\_search.py:739: DataConversionWarning: A column-vector y was passed when a 1d array was expected. Please change the shape of y to (n_samples,), for example using ravel().\n",
      "  self.best_estimator_.fit(X, y, **fit_params)\n"
     ]
    },
    {
     "name": "stdout",
     "output_type": "stream",
     "text": [
      "Train data: 0.9568152439316321\n",
      "RandomForestClassifier(bootstrap=True, class_weight=None, criterion='gini',\n",
      "            max_depth=None, max_features='auto', max_leaf_nodes=None,\n",
      "            min_impurity_decrease=0.0, min_impurity_split=None,\n",
      "            min_samples_leaf=1, min_samples_split=2,\n",
      "            min_weight_fraction_leaf=0.0, n_estimators=10, n_jobs=1,\n",
      "            oob_score=False, random_state=None, verbose=0,\n",
      "            warm_start=False)\n",
      "{}\n",
      "Test data: 0.7340226913686629\n",
      "RandomForestClassifier(bootstrap=True, class_weight=None, criterion='gini',\n",
      "            max_depth=None, max_features='auto', max_leaf_nodes=None,\n",
      "            min_impurity_decrease=0.0, min_impurity_split=None,\n",
      "            min_samples_leaf=1, min_samples_split=2,\n",
      "            min_weight_fraction_leaf=0.0, n_estimators=10, n_jobs=1,\n",
      "            oob_score=False, random_state=None, verbose=0,\n",
      "            warm_start=False)\n",
      "{}\n",
      "\n",
      "\n",
      "\n",
      "Fitting cvec__max_df_of_0.25\n",
      "Scores for cvec__max_df_of_0.25 using bnb Classifier\n"
     ]
    },
    {
     "name": "stderr",
     "output_type": "stream",
     "text": [
      "C:\\Program Files\\Anaconda3\\lib\\site-packages\\sklearn\\utils\\validation.py:578: DataConversionWarning: A column-vector y was passed when a 1d array was expected. Please change the shape of y to (n_samples, ), for example using ravel().\n",
      "  y = column_or_1d(y, warn=True)\n"
     ]
    },
    {
     "name": "stdout",
     "output_type": "stream",
     "text": [
      "Train data: 0.8504811605304735\n",
      "BernoulliNB(alpha=0.4444444444444444, binarize=0.0, class_prior=None,\n",
      "      fit_prior=True)\n",
      "{'alpha': 0.4444444444444444}\n",
      "Test data: 0.7598736176935229\n",
      "BernoulliNB(alpha=0.4444444444444444, binarize=0.0, class_prior=None,\n",
      "      fit_prior=True)\n",
      "{'alpha': 0.4444444444444444}\n",
      "\n",
      "\n",
      "\n",
      "Scores for cvec__max_df_of_0.25 using mnb Classifier\n"
     ]
    },
    {
     "name": "stderr",
     "output_type": "stream",
     "text": [
      "C:\\Program Files\\Anaconda3\\lib\\site-packages\\sklearn\\utils\\validation.py:578: DataConversionWarning: A column-vector y was passed when a 1d array was expected. Please change the shape of y to (n_samples, ), for example using ravel().\n",
      "  y = column_or_1d(y, warn=True)\n"
     ]
    },
    {
     "name": "stdout",
     "output_type": "stream",
     "text": [
      "Train data: 0.8490927371092066\n",
      "MultinomialNB(alpha=0.4444444444444444, class_prior=None, fit_prior=True)\n",
      "{'alpha': 0.4444444444444444}\n",
      "Test data: 0.756426827516875\n",
      "MultinomialNB(alpha=0.4444444444444444, class_prior=None, fit_prior=True)\n",
      "{'alpha': 0.4444444444444444}\n",
      "\n",
      "\n",
      "\n",
      "Scores for cvec__max_df_of_0.25 using logr Classifier\n"
     ]
    },
    {
     "name": "stderr",
     "output_type": "stream",
     "text": [
      "C:\\Program Files\\Anaconda3\\lib\\site-packages\\sklearn\\utils\\validation.py:578: DataConversionWarning: A column-vector y was passed when a 1d array was expected. Please change the shape of y to (n_samples, ), for example using ravel().\n",
      "  y = column_or_1d(y, warn=True)\n"
     ]
    },
    {
     "name": "stdout",
     "output_type": "stream",
     "text": [
      "Train data: 0.8667113515583856\n",
      "LogisticRegression(C=1.0, class_weight=None, dual=False, fit_intercept=True,\n",
      "          intercept_scaling=1, max_iter=100, multi_class='ovr', n_jobs=1,\n",
      "          penalty='l2', random_state=None, solver='liblinear', tol=0.0001,\n",
      "          verbose=0, warm_start=False)\n",
      "{'C': 1.0, 'penalty': 'l2'}\n",
      "Test data: 0.7588683038920006\n",
      "LogisticRegression(C=1.0, class_weight=None, dual=False, fit_intercept=True,\n",
      "          intercept_scaling=1, max_iter=100, multi_class='ovr', n_jobs=1,\n",
      "          penalty='l2', random_state=None, solver='liblinear', tol=0.0001,\n",
      "          verbose=0, warm_start=False)\n",
      "{'C': 1.0, 'penalty': 'l2'}\n",
      "\n",
      "\n",
      "\n",
      "Scores for cvec__max_df_of_0.25 using rfc Classifier\n"
     ]
    },
    {
     "name": "stderr",
     "output_type": "stream",
     "text": [
      "C:\\Program Files\\Anaconda3\\lib\\site-packages\\sklearn\\model_selection\\_search.py:739: DataConversionWarning: A column-vector y was passed when a 1d array was expected. Please change the shape of y to (n_samples,), for example using ravel().\n",
      "  self.best_estimator_.fit(X, y, **fit_params)\n"
     ]
    },
    {
     "name": "stdout",
     "output_type": "stream",
     "text": [
      "Train data: 0.9548044238042802\n",
      "RandomForestClassifier(bootstrap=True, class_weight=None, criterion='gini',\n",
      "            max_depth=None, max_features='auto', max_leaf_nodes=None,\n",
      "            min_impurity_decrease=0.0, min_impurity_split=None,\n",
      "            min_samples_leaf=1, min_samples_split=2,\n",
      "            min_weight_fraction_leaf=0.0, n_estimators=10, n_jobs=1,\n",
      "            oob_score=False, random_state=None, verbose=0,\n",
      "            warm_start=False)\n",
      "{}\n",
      "Test data: 0.7465173057590119\n",
      "RandomForestClassifier(bootstrap=True, class_weight=None, criterion='gini',\n",
      "            max_depth=None, max_features='auto', max_leaf_nodes=None,\n",
      "            min_impurity_decrease=0.0, min_impurity_split=None,\n",
      "            min_samples_leaf=1, min_samples_split=2,\n",
      "            min_weight_fraction_leaf=0.0, n_estimators=10, n_jobs=1,\n",
      "            oob_score=False, random_state=None, verbose=0,\n",
      "            warm_start=False)\n",
      "{}\n",
      "\n",
      "\n",
      "\n",
      "Fitting cvec__n_gram_range_of_(1, 1)\n",
      "Scores for cvec__n_gram_range_of_(1, 1) using bnb Classifier\n"
     ]
    },
    {
     "name": "stderr",
     "output_type": "stream",
     "text": [
      "C:\\Program Files\\Anaconda3\\lib\\site-packages\\sklearn\\utils\\validation.py:578: DataConversionWarning: A column-vector y was passed when a 1d array was expected. Please change the shape of y to (n_samples, ), for example using ravel().\n",
      "  y = column_or_1d(y, warn=True)\n"
     ]
    },
    {
     "name": "stdout",
     "output_type": "stream",
     "text": [
      "Train data: 0.850337530521377\n",
      "BernoulliNB(alpha=0.6666666666666666, binarize=0.0, class_prior=None,\n",
      "      fit_prior=True)\n",
      "{'alpha': 0.6666666666666666}\n",
      "Test data: 0.7495332471635789\n",
      "BernoulliNB(alpha=0.6666666666666666, binarize=0.0, class_prior=None,\n",
      "      fit_prior=True)\n",
      "{'alpha': 0.6666666666666666}\n",
      "\n",
      "\n",
      "\n",
      "Scores for cvec__n_gram_range_of_(1, 1) using mnb Classifier\n"
     ]
    },
    {
     "name": "stderr",
     "output_type": "stream",
     "text": [
      "C:\\Program Files\\Anaconda3\\lib\\site-packages\\sklearn\\utils\\validation.py:578: DataConversionWarning: A column-vector y was passed when a 1d array was expected. Please change the shape of y to (n_samples, ), for example using ravel().\n",
      "  y = column_or_1d(y, warn=True)\n"
     ]
    },
    {
     "name": "stdout",
     "output_type": "stream",
     "text": [
      "Train data: 0.8417676066452817\n",
      "MultinomialNB(alpha=1.0, class_prior=None, fit_prior=True)\n",
      "{'alpha': 1.0}\n",
      "Test data: 0.7463736895016516\n",
      "MultinomialNB(alpha=1.0, class_prior=None, fit_prior=True)\n",
      "{'alpha': 1.0}\n",
      "\n",
      "\n",
      "\n",
      "Scores for cvec__n_gram_range_of_(1, 1) using logr Classifier\n"
     ]
    },
    {
     "name": "stderr",
     "output_type": "stream",
     "text": [
      "C:\\Program Files\\Anaconda3\\lib\\site-packages\\sklearn\\utils\\validation.py:578: DataConversionWarning: A column-vector y was passed when a 1d array was expected. Please change the shape of y to (n_samples, ), for example using ravel().\n",
      "  y = column_or_1d(y, warn=True)\n"
     ]
    },
    {
     "name": "stdout",
     "output_type": "stream",
     "text": [
      "Train data: 0.8698233350888113\n",
      "LogisticRegression(C=1.0, class_weight=None, dual=False, fit_intercept=True,\n",
      "          intercept_scaling=1, max_iter=100, multi_class='ovr', n_jobs=1,\n",
      "          penalty='l2', random_state=None, solver='liblinear', tol=0.0001,\n",
      "          verbose=0, warm_start=False)\n",
      "{'C': 1.0, 'penalty': 'l2'}\n",
      "Test data: 0.7509694097371823\n",
      "LogisticRegression(C=1.0, class_weight=None, dual=False, fit_intercept=True,\n",
      "          intercept_scaling=1, max_iter=100, multi_class='ovr', n_jobs=1,\n",
      "          penalty='l2', random_state=None, solver='liblinear', tol=0.0001,\n",
      "          verbose=0, warm_start=False)\n",
      "{'C': 1.0, 'penalty': 'l2'}\n",
      "\n",
      "\n",
      "\n",
      "Scores for cvec__n_gram_range_of_(1, 1) using rfc Classifier\n"
     ]
    },
    {
     "name": "stderr",
     "output_type": "stream",
     "text": [
      "C:\\Program Files\\Anaconda3\\lib\\site-packages\\sklearn\\model_selection\\_search.py:739: DataConversionWarning: A column-vector y was passed when a 1d array was expected. Please change the shape of y to (n_samples,), for example using ravel().\n",
      "  self.best_estimator_.fit(X, y, **fit_params)\n"
     ]
    },
    {
     "name": "stdout",
     "output_type": "stream",
     "text": [
      "Train data: 0.9552831905012688\n",
      "RandomForestClassifier(bootstrap=True, class_weight=None, criterion='gini',\n",
      "            max_depth=None, max_features='auto', max_leaf_nodes=None,\n",
      "            min_impurity_decrease=0.0, min_impurity_split=None,\n",
      "            min_samples_leaf=1, min_samples_split=2,\n",
      "            min_weight_fraction_leaf=0.0, n_estimators=10, n_jobs=1,\n",
      "            oob_score=False, random_state=None, verbose=0,\n",
      "            warm_start=False)\n",
      "{}\n",
      "Test data: 0.7304322849346546\n",
      "RandomForestClassifier(bootstrap=True, class_weight=None, criterion='gini',\n",
      "            max_depth=None, max_features='auto', max_leaf_nodes=None,\n",
      "            min_impurity_decrease=0.0, min_impurity_split=None,\n",
      "            min_samples_leaf=1, min_samples_split=2,\n",
      "            min_weight_fraction_leaf=0.0, n_estimators=10, n_jobs=1,\n",
      "            oob_score=False, random_state=None, verbose=0,\n",
      "            warm_start=False)\n",
      "{}\n",
      "\n",
      "\n",
      "\n",
      "Fitting cvec__n_gram_range_of_(1, 1)_max_df_of0.25\n",
      "Scores for cvec__n_gram_range_of_(1, 1)_max_df_of0.25 using bnb Classifier\n"
     ]
    },
    {
     "name": "stderr",
     "output_type": "stream",
     "text": [
      "C:\\Program Files\\Anaconda3\\lib\\site-packages\\sklearn\\utils\\validation.py:578: DataConversionWarning: A column-vector y was passed when a 1d array was expected. Please change the shape of y to (n_samples, ), for example using ravel().\n",
      "  y = column_or_1d(y, warn=True)\n"
     ]
    },
    {
     "name": "stdout",
     "output_type": "stream",
     "text": [
      "Train data: 0.8500502705031838\n",
      "BernoulliNB(alpha=0.6666666666666666, binarize=0.0, class_prior=None,\n",
      "      fit_prior=True)\n",
      "{'alpha': 0.6666666666666666}\n",
      "Test data: 0.7552778974579922\n",
      "BernoulliNB(alpha=0.6666666666666666, binarize=0.0, class_prior=None,\n",
      "      fit_prior=True)\n",
      "{'alpha': 0.6666666666666666}\n",
      "\n",
      "\n",
      "\n",
      "Scores for cvec__n_gram_range_of_(1, 1)_max_df_of0.25 using mnb Classifier\n"
     ]
    },
    {
     "name": "stderr",
     "output_type": "stream",
     "text": [
      "C:\\Program Files\\Anaconda3\\lib\\site-packages\\sklearn\\utils\\validation.py:578: DataConversionWarning: A column-vector y was passed when a 1d array was expected. Please change the shape of y to (n_samples, ), for example using ravel().\n",
      "  y = column_or_1d(y, warn=True)\n"
     ]
    },
    {
     "name": "stdout",
     "output_type": "stream",
     "text": [
      "Train data: 0.8463637669363719\n",
      "MultinomialNB(alpha=0.7777777777777777, class_prior=None, fit_prior=True)\n",
      "{'alpha': 0.7777777777777777}\n",
      "Test data: 0.755995978744794\n",
      "MultinomialNB(alpha=0.7777777777777777, class_prior=None, fit_prior=True)\n",
      "{'alpha': 0.7777777777777777}\n",
      "\n",
      "\n",
      "\n",
      "Scores for cvec__n_gram_range_of_(1, 1)_max_df_of0.25 using logr Classifier\n"
     ]
    },
    {
     "name": "stderr",
     "output_type": "stream",
     "text": [
      "C:\\Program Files\\Anaconda3\\lib\\site-packages\\sklearn\\utils\\validation.py:578: DataConversionWarning: A column-vector y was passed when a 1d array was expected. Please change the shape of y to (n_samples, ), for example using ravel().\n",
      "  y = column_or_1d(y, warn=True)\n"
     ]
    },
    {
     "name": "stdout",
     "output_type": "stream",
     "text": [
      "Train data: 0.8682912816584478\n",
      "LogisticRegression(C=1.0, class_weight=None, dual=False, fit_intercept=True,\n",
      "          intercept_scaling=1, max_iter=100, multi_class='ovr', n_jobs=1,\n",
      "          penalty='l2', random_state=None, solver='liblinear', tol=0.0001,\n",
      "          verbose=0, warm_start=False)\n",
      "{'C': 1.0, 'penalty': 'l2'}\n",
      "Test data: 0.7555651299727129\n",
      "LogisticRegression(C=1.0, class_weight=None, dual=False, fit_intercept=True,\n",
      "          intercept_scaling=1, max_iter=100, multi_class='ovr', n_jobs=1,\n",
      "          penalty='l2', random_state=None, solver='liblinear', tol=0.0001,\n",
      "          verbose=0, warm_start=False)\n",
      "{'C': 1.0, 'penalty': 'l2'}\n",
      "\n",
      "\n",
      "\n",
      "Scores for cvec__n_gram_range_of_(1, 1)_max_df_of0.25 using rfc Classifier\n"
     ]
    },
    {
     "name": "stderr",
     "output_type": "stream",
     "text": [
      "C:\\Program Files\\Anaconda3\\lib\\site-packages\\sklearn\\model_selection\\_search.py:739: DataConversionWarning: A column-vector y was passed when a 1d array was expected. Please change the shape of y to (n_samples,), for example using ravel().\n",
      "  self.best_estimator_.fit(X, y, **fit_params)\n"
     ]
    },
    {
     "name": "stdout",
     "output_type": "stream",
     "text": [
      "Train data: 0.9570067506104275\n",
      "RandomForestClassifier(bootstrap=True, class_weight=None, criterion='gini',\n",
      "            max_depth=None, max_features='auto', max_leaf_nodes=None,\n",
      "            min_impurity_decrease=0.0, min_impurity_split=None,\n",
      "            min_samples_leaf=1, min_samples_split=2,\n",
      "            min_weight_fraction_leaf=0.0, n_estimators=10, n_jobs=1,\n",
      "            oob_score=False, random_state=None, verbose=0,\n",
      "            warm_start=False)\n",
      "{}\n",
      "Test data: 0.7291397386184116\n",
      "RandomForestClassifier(bootstrap=True, class_weight=None, criterion='gini',\n",
      "            max_depth=None, max_features='auto', max_leaf_nodes=None,\n",
      "            min_impurity_decrease=0.0, min_impurity_split=None,\n",
      "            min_samples_leaf=1, min_samples_split=2,\n",
      "            min_weight_fraction_leaf=0.0, n_estimators=10, n_jobs=1,\n",
      "            oob_score=False, random_state=None, verbose=0,\n",
      "            warm_start=False)\n",
      "{}\n",
      "\n",
      "\n",
      "\n",
      "Fitting cvec__n_gram_range_of_(1, 2)\n",
      "Scores for cvec__n_gram_range_of_(1, 2) using bnb Classifier\n"
     ]
    },
    {
     "name": "stderr",
     "output_type": "stream",
     "text": [
      "C:\\Program Files\\Anaconda3\\lib\\site-packages\\sklearn\\utils\\validation.py:578: DataConversionWarning: A column-vector y was passed when a 1d array was expected. Please change the shape of y to (n_samples, ), for example using ravel().\n",
      "  y = column_or_1d(y, warn=True)\n"
     ]
    },
    {
     "name": "stdout",
     "output_type": "stream",
     "text": [
      "Train data: 0.9219131517211663\n",
      "BernoulliNB(alpha=0.7777777777777777, binarize=0.0, class_prior=None,\n",
      "      fit_prior=True)\n",
      "{'alpha': 0.7777777777777777}\n",
      "Test data: 0.7610225477524055\n",
      "BernoulliNB(alpha=0.7777777777777777, binarize=0.0, class_prior=None,\n",
      "      fit_prior=True)\n",
      "{'alpha': 0.7777777777777777}\n",
      "\n",
      "\n",
      "\n",
      "Scores for cvec__n_gram_range_of_(1, 2) using mnb Classifier\n"
     ]
    },
    {
     "name": "stderr",
     "output_type": "stream",
     "text": [
      "C:\\Program Files\\Anaconda3\\lib\\site-packages\\sklearn\\utils\\validation.py:578: DataConversionWarning: A column-vector y was passed when a 1d array was expected. Please change the shape of y to (n_samples, ), for example using ravel().\n",
      "  y = column_or_1d(y, warn=True)\n"
     ]
    },
    {
     "name": "stdout",
     "output_type": "stream",
     "text": [
      "Train data: 0.9152582946330253\n",
      "MultinomialNB(alpha=1.0, class_prior=None, fit_prior=True)\n",
      "{'alpha': 1.0}\n",
      "Test data: 0.7590119201493609\n",
      "MultinomialNB(alpha=1.0, class_prior=None, fit_prior=True)\n",
      "{'alpha': 1.0}\n",
      "\n",
      "\n",
      "\n",
      "Scores for cvec__n_gram_range_of_(1, 2) using logr Classifier\n"
     ]
    },
    {
     "name": "stderr",
     "output_type": "stream",
     "text": [
      "C:\\Program Files\\Anaconda3\\lib\\site-packages\\sklearn\\utils\\validation.py:578: DataConversionWarning: A column-vector y was passed when a 1d array was expected. Please change the shape of y to (n_samples, ), for example using ravel().\n",
      "  y = column_or_1d(y, warn=True)\n"
     ]
    },
    {
     "name": "stdout",
     "output_type": "stream",
     "text": [
      "Train data: 0.9398669028582372\n",
      "LogisticRegression(C=1.0, class_weight=None, dual=False, fit_intercept=True,\n",
      "          intercept_scaling=1, max_iter=100, multi_class='ovr', n_jobs=1,\n",
      "          penalty='l2', random_state=None, solver='liblinear', tol=0.0001,\n",
      "          verbose=0, warm_start=False)\n",
      "{'C': 1.0, 'penalty': 'l2'}\n",
      "Test data: 0.764182105414333\n",
      "LogisticRegression(C=1.0, class_weight=None, dual=False, fit_intercept=True,\n",
      "          intercept_scaling=1, max_iter=100, multi_class='ovr', n_jobs=1,\n",
      "          penalty='l2', random_state=None, solver='liblinear', tol=0.0001,\n",
      "          verbose=0, warm_start=False)\n",
      "{'C': 1.0, 'penalty': 'l2'}\n",
      "\n",
      "\n",
      "\n",
      "Scores for cvec__n_gram_range_of_(1, 2) using rfc Classifier\n"
     ]
    },
    {
     "name": "stderr",
     "output_type": "stream",
     "text": [
      "C:\\Program Files\\Anaconda3\\lib\\site-packages\\sklearn\\model_selection\\_search.py:739: DataConversionWarning: A column-vector y was passed when a 1d array was expected. Please change the shape of y to (n_samples,), for example using ravel().\n",
      "  self.best_estimator_.fit(X, y, **fit_params)\n"
     ]
    },
    {
     "name": "stdout",
     "output_type": "stream",
     "text": [
      "Train data: 0.9557619571982573\n",
      "RandomForestClassifier(bootstrap=True, class_weight=None, criterion='gini',\n",
      "            max_depth=None, max_features='auto', max_leaf_nodes=None,\n",
      "            min_impurity_decrease=0.0, min_impurity_split=None,\n",
      "            min_samples_leaf=1, min_samples_split=2,\n",
      "            min_weight_fraction_leaf=0.0, n_estimators=10, n_jobs=1,\n",
      "            oob_score=False, random_state=None, verbose=0,\n",
      "            warm_start=False)\n",
      "{}\n",
      "Test data: 0.7347407726554646\n",
      "RandomForestClassifier(bootstrap=True, class_weight=None, criterion='gini',\n",
      "            max_depth=None, max_features='auto', max_leaf_nodes=None,\n",
      "            min_impurity_decrease=0.0, min_impurity_split=None,\n",
      "            min_samples_leaf=1, min_samples_split=2,\n",
      "            min_weight_fraction_leaf=0.0, n_estimators=10, n_jobs=1,\n",
      "            oob_score=False, random_state=None, verbose=0,\n",
      "            warm_start=False)\n",
      "{}\n",
      "\n",
      "\n",
      "\n",
      "Fitting cvec__n_gram_range_of_(1, 2)_max_df_of0.25\n",
      "Scores for cvec__n_gram_range_of_(1, 2)_max_df_of0.25 using bnb Classifier\n"
     ]
    },
    {
     "name": "stderr",
     "output_type": "stream",
     "text": [
      "C:\\Program Files\\Anaconda3\\lib\\site-packages\\sklearn\\utils\\validation.py:578: DataConversionWarning: A column-vector y was passed when a 1d array was expected. Please change the shape of y to (n_samples, ), for example using ravel().\n",
      "  y = column_or_1d(y, warn=True)\n"
     ]
    },
    {
     "name": "stdout",
     "output_type": "stream",
     "text": [
      "Train data: 0.9215301383635754\n",
      "BernoulliNB(alpha=0.7777777777777777, binarize=0.0, class_prior=None,\n",
      "      fit_prior=True)\n",
      "{'alpha': 0.7777777777777777}\n",
      "Test data: 0.7679161281057015\n",
      "BernoulliNB(alpha=0.7777777777777777, binarize=0.0, class_prior=None,\n",
      "      fit_prior=True)\n",
      "{'alpha': 0.7777777777777777}\n",
      "\n",
      "\n",
      "\n",
      "Scores for cvec__n_gram_range_of_(1, 2)_max_df_of0.25 using mnb Classifier\n"
     ]
    },
    {
     "name": "stderr",
     "output_type": "stream",
     "text": [
      "C:\\Program Files\\Anaconda3\\lib\\site-packages\\sklearn\\utils\\validation.py:578: DataConversionWarning: A column-vector y was passed when a 1d array was expected. Please change the shape of y to (n_samples, ), for example using ravel().\n",
      "  y = column_or_1d(y, warn=True)\n"
     ]
    },
    {
     "name": "stdout",
     "output_type": "stream",
     "text": [
      "Train data: 0.9247378752333988\n",
      "MultinomialNB(alpha=0.5555555555555556, class_prior=None, fit_prior=True)\n",
      "{'alpha': 0.5555555555555556}\n",
      "Test data: 0.7663363492747379\n",
      "MultinomialNB(alpha=0.5555555555555556, class_prior=None, fit_prior=True)\n",
      "{'alpha': 0.5555555555555556}\n",
      "\n",
      "\n",
      "\n",
      "Scores for cvec__n_gram_range_of_(1, 2)_max_df_of0.25 using logr Classifier\n"
     ]
    },
    {
     "name": "stderr",
     "output_type": "stream",
     "text": [
      "C:\\Program Files\\Anaconda3\\lib\\site-packages\\sklearn\\utils\\validation.py:578: DataConversionWarning: A column-vector y was passed when a 1d array was expected. Please change the shape of y to (n_samples, ), for example using ravel().\n",
      "  y = column_or_1d(y, warn=True)\n"
     ]
    },
    {
     "name": "stdout",
     "output_type": "stream",
     "text": [
      "Train data: 0.9397232728491406\n",
      "LogisticRegression(C=1.0, class_weight=None, dual=False, fit_intercept=True,\n",
      "          intercept_scaling=1, max_iter=100, multi_class='ovr', n_jobs=1,\n",
      "          penalty='l2', random_state=None, solver='liblinear', tol=0.0001,\n",
      "          verbose=0, warm_start=False)\n",
      "{'C': 1.0, 'penalty': 'l2'}\n",
      "Test data: 0.7630331753554502\n",
      "LogisticRegression(C=1.0, class_weight=None, dual=False, fit_intercept=True,\n",
      "          intercept_scaling=1, max_iter=100, multi_class='ovr', n_jobs=1,\n",
      "          penalty='l2', random_state=None, solver='liblinear', tol=0.0001,\n",
      "          verbose=0, warm_start=False)\n",
      "{'C': 1.0, 'penalty': 'l2'}\n",
      "\n",
      "\n",
      "\n",
      "Scores for cvec__n_gram_range_of_(1, 2)_max_df_of0.25 using rfc Classifier\n"
     ]
    },
    {
     "name": "stderr",
     "output_type": "stream",
     "text": [
      "C:\\Program Files\\Anaconda3\\lib\\site-packages\\sklearn\\model_selection\\_search.py:739: DataConversionWarning: A column-vector y was passed when a 1d array was expected. Please change the shape of y to (n_samples,), for example using ravel().\n",
      "  self.best_estimator_.fit(X, y, **fit_params)\n"
     ]
    },
    {
     "name": "stdout",
     "output_type": "stream",
     "text": [
      "Train data: 0.9548523004739791\n",
      "RandomForestClassifier(bootstrap=True, class_weight=None, criterion='gini',\n",
      "            max_depth=None, max_features='auto', max_leaf_nodes=None,\n",
      "            min_impurity_decrease=0.0, min_impurity_split=None,\n",
      "            min_samples_leaf=1, min_samples_split=2,\n",
      "            min_weight_fraction_leaf=0.0, n_estimators=10, n_jobs=1,\n",
      "            oob_score=False, random_state=None, verbose=0,\n",
      "            warm_start=False)\n",
      "{}\n",
      "Test data: 0.7343099238833836\n",
      "RandomForestClassifier(bootstrap=True, class_weight=None, criterion='gini',\n",
      "            max_depth=None, max_features='auto', max_leaf_nodes=None,\n",
      "            min_impurity_decrease=0.0, min_impurity_split=None,\n",
      "            min_samples_leaf=1, min_samples_split=2,\n",
      "            min_weight_fraction_leaf=0.0, n_estimators=10, n_jobs=1,\n",
      "            oob_score=False, random_state=None, verbose=0,\n",
      "            warm_start=False)\n",
      "{}\n",
      "\n",
      "\n",
      "\n",
      "Fitting cvec__n_gram_range_of_(1, 3)\n",
      "Scores for cvec__n_gram_range_of_(1, 3) using bnb Classifier\n"
     ]
    },
    {
     "name": "stderr",
     "output_type": "stream",
     "text": [
      "C:\\Program Files\\Anaconda3\\lib\\site-packages\\sklearn\\utils\\validation.py:578: DataConversionWarning: A column-vector y was passed when a 1d array was expected. Please change the shape of y to (n_samples, ), for example using ravel().\n",
      "  y = column_or_1d(y, warn=True)\n"
     ]
    },
    {
     "name": "stdout",
     "output_type": "stream",
     "text": [
      "Train data: 0.9368027959975104\n",
      "BernoulliNB(alpha=0.5555555555555556, binarize=0.0, class_prior=None,\n",
      "      fit_prior=True)\n",
      "{'alpha': 0.5555555555555556}\n",
      "Test data: 0.7627459428407296\n",
      "BernoulliNB(alpha=0.5555555555555556, binarize=0.0, class_prior=None,\n",
      "      fit_prior=True)\n",
      "{'alpha': 0.5555555555555556}\n",
      "\n",
      "\n",
      "\n",
      "Scores for cvec__n_gram_range_of_(1, 3) using mnb Classifier\n"
     ]
    },
    {
     "name": "stderr",
     "output_type": "stream",
     "text": [
      "C:\\Program Files\\Anaconda3\\lib\\site-packages\\sklearn\\utils\\validation.py:578: DataConversionWarning: A column-vector y was passed when a 1d array was expected. Please change the shape of y to (n_samples, ), for example using ravel().\n",
      "  y = column_or_1d(y, warn=True)\n"
     ]
    },
    {
     "name": "stdout",
     "output_type": "stream",
     "text": [
      "Train data: 0.9351271125580505\n",
      "MultinomialNB(alpha=0.5555555555555556, class_prior=None, fit_prior=True)\n",
      "{'alpha': 0.5555555555555556}\n",
      "Test data: 0.7617406290392073\n",
      "MultinomialNB(alpha=0.5555555555555556, class_prior=None, fit_prior=True)\n",
      "{'alpha': 0.5555555555555556}\n",
      "\n",
      "\n",
      "\n",
      "Scores for cvec__n_gram_range_of_(1, 3) using logr Classifier\n"
     ]
    },
    {
     "name": "stderr",
     "output_type": "stream",
     "text": [
      "C:\\Program Files\\Anaconda3\\lib\\site-packages\\sklearn\\utils\\validation.py:578: DataConversionWarning: A column-vector y was passed when a 1d array was expected. Please change the shape of y to (n_samples, ), for example using ravel().\n",
      "  y = column_or_1d(y, warn=True)\n"
     ]
    },
    {
     "name": "stdout",
     "output_type": "stream",
     "text": [
      "Train data: 0.9477186766888496\n",
      "LogisticRegression(C=1.0, class_weight=None, dual=False, fit_intercept=True,\n",
      "          intercept_scaling=1, max_iter=100, multi_class='ovr', n_jobs=1,\n",
      "          penalty='l2', random_state=None, solver='liblinear', tol=0.0001,\n",
      "          verbose=0, warm_start=False)\n",
      "{'C': 1.0, 'penalty': 'l2'}\n",
      "Test data: 0.7595863851788023\n",
      "LogisticRegression(C=1.0, class_weight=None, dual=False, fit_intercept=True,\n",
      "          intercept_scaling=1, max_iter=100, multi_class='ovr', n_jobs=1,\n",
      "          penalty='l2', random_state=None, solver='liblinear', tol=0.0001,\n",
      "          verbose=0, warm_start=False)\n",
      "{'C': 1.0, 'penalty': 'l2'}\n",
      "\n",
      "\n",
      "\n",
      "Scores for cvec__n_gram_range_of_(1, 3) using rfc Classifier\n"
     ]
    },
    {
     "name": "stderr",
     "output_type": "stream",
     "text": [
      "C:\\Program Files\\Anaconda3\\lib\\site-packages\\sklearn\\model_selection\\_search.py:739: DataConversionWarning: A column-vector y was passed when a 1d array was expected. Please change the shape of y to (n_samples,), for example using ravel().\n",
      "  self.best_estimator_.fit(X, y, **fit_params)\n"
     ]
    },
    {
     "name": "stdout",
     "output_type": "stream",
     "text": [
      "Train data: 0.9571025039498252\n",
      "RandomForestClassifier(bootstrap=True, class_weight=None, criterion='gini',\n",
      "            max_depth=None, max_features='auto', max_leaf_nodes=None,\n",
      "            min_impurity_decrease=0.0, min_impurity_split=None,\n",
      "            min_samples_leaf=1, min_samples_split=2,\n",
      "            min_weight_fraction_leaf=0.0, n_estimators=10, n_jobs=1,\n",
      "            oob_score=False, random_state=None, verbose=0,\n",
      "            warm_start=False)\n",
      "{}\n",
      "Test data: 0.73273014505242\n",
      "RandomForestClassifier(bootstrap=True, class_weight=None, criterion='gini',\n",
      "            max_depth=None, max_features='auto', max_leaf_nodes=None,\n",
      "            min_impurity_decrease=0.0, min_impurity_split=None,\n",
      "            min_samples_leaf=1, min_samples_split=2,\n",
      "            min_weight_fraction_leaf=0.0, n_estimators=10, n_jobs=1,\n",
      "            oob_score=False, random_state=None, verbose=0,\n",
      "            warm_start=False)\n",
      "{}\n",
      "\n",
      "\n",
      "\n",
      "Fitting cvec__n_gram_range_of_(1, 3)_max_df_of0.25\n",
      "Scores for cvec__n_gram_range_of_(1, 3)_max_df_of0.25 using bnb Classifier\n"
     ]
    },
    {
     "name": "stderr",
     "output_type": "stream",
     "text": [
      "C:\\Program Files\\Anaconda3\\lib\\site-packages\\sklearn\\utils\\validation.py:578: DataConversionWarning: A column-vector y was passed when a 1d array was expected. Please change the shape of y to (n_samples, ), for example using ravel().\n",
      "  y = column_or_1d(y, warn=True)\n"
     ]
    },
    {
     "name": "stdout",
     "output_type": "stream",
     "text": [
      "Train data: 0.9320151290276248\n",
      "BernoulliNB(alpha=0.5555555555555556, binarize=0.0, class_prior=None,\n",
      "      fit_prior=True)\n",
      "{'alpha': 0.5555555555555556}\n",
      "Test data: 0.7795490449518886\n",
      "BernoulliNB(alpha=0.5555555555555556, binarize=0.0, class_prior=None,\n",
      "      fit_prior=True)\n",
      "{'alpha': 0.5555555555555556}\n",
      "\n",
      "\n",
      "\n",
      "Scores for cvec__n_gram_range_of_(1, 3)_max_df_of0.25 using mnb Classifier\n"
     ]
    },
    {
     "name": "stderr",
     "output_type": "stream",
     "text": [
      "C:\\Program Files\\Anaconda3\\lib\\site-packages\\sklearn\\utils\\validation.py:578: DataConversionWarning: A column-vector y was passed when a 1d array was expected. Please change the shape of y to (n_samples, ), for example using ravel().\n",
      "  y = column_or_1d(y, warn=True)\n"
     ]
    },
    {
     "name": "stdout",
     "output_type": "stream",
     "text": [
      "Train data: 0.9300043089002729\n",
      "MultinomialNB(alpha=0.6666666666666666, class_prior=None, fit_prior=True)\n",
      "{'alpha': 0.6666666666666666}\n",
      "Test data: 0.7772511848341233\n",
      "MultinomialNB(alpha=0.6666666666666666, class_prior=None, fit_prior=True)\n",
      "{'alpha': 0.6666666666666666}\n",
      "\n",
      "\n",
      "\n",
      "Scores for cvec__n_gram_range_of_(1, 3)_max_df_of0.25 using logr Classifier\n"
     ]
    },
    {
     "name": "stderr",
     "output_type": "stream",
     "text": [
      "C:\\Program Files\\Anaconda3\\lib\\site-packages\\sklearn\\utils\\validation.py:578: DataConversionWarning: A column-vector y was passed when a 1d array was expected. Please change the shape of y to (n_samples, ), for example using ravel().\n",
      "  y = column_or_1d(y, warn=True)\n"
     ]
    },
    {
     "name": "stdout",
     "output_type": "stream",
     "text": [
      "Train data: 0.9469047733039689\n",
      "LogisticRegression(C=1.0, class_weight=None, dual=False, fit_intercept=True,\n",
      "          intercept_scaling=1, max_iter=100, multi_class='ovr', n_jobs=1,\n",
      "          penalty='l2', random_state=None, solver='liblinear', tol=0.0001,\n",
      "          verbose=0, warm_start=False)\n",
      "{'C': 1.0, 'penalty': 'l2'}\n",
      "Test data: 0.7805543587534108\n",
      "LogisticRegression(C=1.0, class_weight=None, dual=False, fit_intercept=True,\n",
      "          intercept_scaling=1, max_iter=100, multi_class='ovr', n_jobs=1,\n",
      "          penalty='l2', random_state=None, solver='liblinear', tol=0.0001,\n",
      "          verbose=0, warm_start=False)\n",
      "{'C': 1.0, 'penalty': 'l2'}\n",
      "\n",
      "\n",
      "\n",
      "Scores for cvec__n_gram_range_of_(1, 3)_max_df_of0.25 using rfc Classifier\n"
     ]
    },
    {
     "name": "stderr",
     "output_type": "stream",
     "text": [
      "C:\\Program Files\\Anaconda3\\lib\\site-packages\\sklearn\\model_selection\\_search.py:739: DataConversionWarning: A column-vector y was passed when a 1d array was expected. Please change the shape of y to (n_samples,), for example using ravel().\n",
      "  self.best_estimator_.fit(X, y, **fit_params)\n"
     ]
    },
    {
     "name": "stdout",
     "output_type": "stream",
     "text": [
      "Train data: 0.9561449705558481\n",
      "RandomForestClassifier(bootstrap=True, class_weight=None, criterion='gini',\n",
      "            max_depth=None, max_features='auto', max_leaf_nodes=None,\n",
      "            min_impurity_decrease=0.0, min_impurity_split=None,\n",
      "            min_samples_leaf=1, min_samples_split=2,\n",
      "            min_weight_fraction_leaf=0.0, n_estimators=10, n_jobs=1,\n",
      "            oob_score=False, random_state=None, verbose=0,\n",
      "            warm_start=False)\n",
      "{}\n",
      "Test data: 0.740916271721959\n",
      "RandomForestClassifier(bootstrap=True, class_weight=None, criterion='gini',\n",
      "            max_depth=None, max_features='auto', max_leaf_nodes=None,\n",
      "            min_impurity_decrease=0.0, min_impurity_split=None,\n",
      "            min_samples_leaf=1, min_samples_split=2,\n",
      "            min_weight_fraction_leaf=0.0, n_estimators=10, n_jobs=1,\n",
      "            oob_score=False, random_state=None, verbose=0,\n",
      "            warm_start=False)\n",
      "{}\n",
      "\n",
      "\n",
      "\n",
      "Fitting cvec__n_gram_range_of_(1, 4)\n",
      "Scores for cvec__n_gram_range_of_(1, 4) using bnb Classifier\n"
     ]
    },
    {
     "name": "stderr",
     "output_type": "stream",
     "text": [
      "C:\\Program Files\\Anaconda3\\lib\\site-packages\\sklearn\\utils\\validation.py:578: DataConversionWarning: A column-vector y was passed when a 1d array was expected. Please change the shape of y to (n_samples, ), for example using ravel().\n",
      "  y = column_or_1d(y, warn=True)\n"
     ]
    },
    {
     "name": "stdout",
     "output_type": "stream",
     "text": [
      "Train data: 0.933259922439795\n",
      "BernoulliNB(alpha=0.5555555555555556, binarize=0.0, class_prior=None,\n",
      "      fit_prior=True)\n",
      "{'alpha': 0.5555555555555556}\n",
      "Test data: 0.7605916989803245\n",
      "BernoulliNB(alpha=0.5555555555555556, binarize=0.0, class_prior=None,\n",
      "      fit_prior=True)\n",
      "{'alpha': 0.5555555555555556}\n",
      "\n",
      "\n",
      "\n",
      "Scores for cvec__n_gram_range_of_(1, 4) using mnb Classifier\n"
     ]
    },
    {
     "name": "stderr",
     "output_type": "stream",
     "text": [
      "C:\\Program Files\\Anaconda3\\lib\\site-packages\\sklearn\\utils\\validation.py:578: DataConversionWarning: A column-vector y was passed when a 1d array was expected. Please change the shape of y to (n_samples, ), for example using ravel().\n",
      "  y = column_or_1d(y, warn=True)\n"
     ]
    },
    {
     "name": "stdout",
     "output_type": "stream",
     "text": [
      "Train data: 0.931632115670034\n",
      "MultinomialNB(alpha=0.6666666666666666, class_prior=None, fit_prior=True)\n",
      "{'alpha': 0.6666666666666666}\n",
      "Test data: 0.7620278615539279\n",
      "MultinomialNB(alpha=0.6666666666666666, class_prior=None, fit_prior=True)\n",
      "{'alpha': 0.6666666666666666}\n",
      "\n",
      "\n",
      "\n",
      "Scores for cvec__n_gram_range_of_(1, 4) using logr Classifier\n"
     ]
    },
    {
     "name": "stderr",
     "output_type": "stream",
     "text": [
      "C:\\Program Files\\Anaconda3\\lib\\site-packages\\sklearn\\utils\\validation.py:578: DataConversionWarning: A column-vector y was passed when a 1d array was expected. Please change the shape of y to (n_samples, ), for example using ravel().\n",
      "  y = column_or_1d(y, warn=True)\n"
     ]
    },
    {
     "name": "stdout",
     "output_type": "stream",
     "text": [
      "Train data: 0.9492507301192129\n",
      "LogisticRegression(C=1.0, class_weight=None, dual=False, fit_intercept=True,\n",
      "          intercept_scaling=1, max_iter=100, multi_class='ovr', n_jobs=1,\n",
      "          penalty='l2', random_state=None, solver='liblinear', tol=0.0001,\n",
      "          verbose=0, warm_start=False)\n",
      "{'C': 1.0, 'penalty': 'l2'}\n",
      "Test data: 0.7677725118483413\n",
      "LogisticRegression(C=1.0, class_weight=None, dual=False, fit_intercept=True,\n",
      "          intercept_scaling=1, max_iter=100, multi_class='ovr', n_jobs=1,\n",
      "          penalty='l2', random_state=None, solver='liblinear', tol=0.0001,\n",
      "          verbose=0, warm_start=False)\n",
      "{'C': 1.0, 'penalty': 'l2'}\n",
      "\n",
      "\n",
      "\n",
      "Scores for cvec__n_gram_range_of_(1, 4) using rfc Classifier\n"
     ]
    },
    {
     "name": "stderr",
     "output_type": "stream",
     "text": [
      "C:\\Program Files\\Anaconda3\\lib\\site-packages\\sklearn\\model_selection\\_search.py:739: DataConversionWarning: A column-vector y was passed when a 1d array was expected. Please change the shape of y to (n_samples,), for example using ravel().\n",
      "  self.best_estimator_.fit(X, y, **fit_params)\n"
     ]
    },
    {
     "name": "stdout",
     "output_type": "stream",
     "text": [
      "Train data: 0.9540383970890984\n",
      "RandomForestClassifier(bootstrap=True, class_weight=None, criterion='gini',\n",
      "            max_depth=None, max_features='auto', max_leaf_nodes=None,\n",
      "            min_impurity_decrease=0.0, min_impurity_split=None,\n",
      "            min_samples_leaf=1, min_samples_split=2,\n",
      "            min_weight_fraction_leaf=0.0, n_estimators=10, n_jobs=1,\n",
      "            oob_score=False, random_state=None, verbose=0,\n",
      "            warm_start=False)\n",
      "{}\n",
      "Test data: 0.733160993824501\n",
      "RandomForestClassifier(bootstrap=True, class_weight=None, criterion='gini',\n",
      "            max_depth=None, max_features='auto', max_leaf_nodes=None,\n",
      "            min_impurity_decrease=0.0, min_impurity_split=None,\n",
      "            min_samples_leaf=1, min_samples_split=2,\n",
      "            min_weight_fraction_leaf=0.0, n_estimators=10, n_jobs=1,\n",
      "            oob_score=False, random_state=None, verbose=0,\n",
      "            warm_start=False)\n",
      "{}\n",
      "\n",
      "\n",
      "\n",
      "Fitting cvec__n_gram_range_of_(1, 4)_max_df_of0.25\n",
      "Scores for cvec__n_gram_range_of_(1, 4)_max_df_of0.25 using bnb Classifier\n"
     ]
    },
    {
     "name": "stderr",
     "output_type": "stream",
     "text": [
      "C:\\Program Files\\Anaconda3\\lib\\site-packages\\sklearn\\utils\\validation.py:578: DataConversionWarning: A column-vector y was passed when a 1d array was expected. Please change the shape of y to (n_samples, ), for example using ravel().\n",
      "  y = column_or_1d(y, warn=True)\n"
     ]
    },
    {
     "name": "stdout",
     "output_type": "stream",
     "text": [
      "Train data: 0.9328290324125054\n",
      "BernoulliNB(alpha=0.6666666666666666, binarize=0.0, class_prior=None,\n",
      "      fit_prior=True)\n",
      "{'alpha': 0.6666666666666666}\n",
      "Test data: 0.7626023265833692\n",
      "BernoulliNB(alpha=0.6666666666666666, binarize=0.0, class_prior=None,\n",
      "      fit_prior=True)\n",
      "{'alpha': 0.6666666666666666}\n",
      "\n",
      "\n",
      "\n",
      "Scores for cvec__n_gram_range_of_(1, 4)_max_df_of0.25 using mnb Classifier\n"
     ]
    },
    {
     "name": "stderr",
     "output_type": "stream",
     "text": [
      "C:\\Program Files\\Anaconda3\\lib\\site-packages\\sklearn\\utils\\validation.py:578: DataConversionWarning: A column-vector y was passed when a 1d array was expected. Please change the shape of y to (n_samples, ), for example using ravel().\n",
      "  y = column_or_1d(y, warn=True)\n"
     ]
    },
    {
     "name": "stdout",
     "output_type": "stream",
     "text": [
      "Train data: 0.9350792358883516\n",
      "MultinomialNB(alpha=0.5555555555555556, class_prior=None, fit_prior=True)\n",
      "{'alpha': 0.5555555555555556}\n",
      "Test data: 0.7607353152376849\n",
      "MultinomialNB(alpha=0.5555555555555556, class_prior=None, fit_prior=True)\n",
      "{'alpha': 0.5555555555555556}\n",
      "\n",
      "\n",
      "\n",
      "Scores for cvec__n_gram_range_of_(1, 4)_max_df_of0.25 using logr Classifier\n"
     ]
    },
    {
     "name": "stderr",
     "output_type": "stream",
     "text": [
      "C:\\Program Files\\Anaconda3\\lib\\site-packages\\sklearn\\utils\\validation.py:578: DataConversionWarning: A column-vector y was passed when a 1d array was expected. Please change the shape of y to (n_samples, ), for example using ravel().\n",
      "  y = column_or_1d(y, warn=True)\n"
     ]
    },
    {
     "name": "stdout",
     "output_type": "stream",
     "text": [
      "Train data: 0.9484368267343324\n",
      "LogisticRegression(C=1.0, class_weight=None, dual=False, fit_intercept=True,\n",
      "          intercept_scaling=1, max_iter=100, multi_class='ovr', n_jobs=1,\n",
      "          penalty='l2', random_state=None, solver='liblinear', tol=0.0001,\n",
      "          verbose=0, warm_start=False)\n",
      "{'C': 1.0, 'penalty': 'l2'}\n",
      "Test data: 0.7644693379290536\n",
      "LogisticRegression(C=1.0, class_weight=None, dual=False, fit_intercept=True,\n",
      "          intercept_scaling=1, max_iter=100, multi_class='ovr', n_jobs=1,\n",
      "          penalty='l2', random_state=None, solver='liblinear', tol=0.0001,\n",
      "          verbose=0, warm_start=False)\n",
      "{'C': 1.0, 'penalty': 'l2'}\n",
      "\n",
      "\n",
      "\n",
      "Scores for cvec__n_gram_range_of_(1, 4)_max_df_of0.25 using rfc Classifier\n"
     ]
    },
    {
     "name": "stderr",
     "output_type": "stream",
     "text": [
      "C:\\Program Files\\Anaconda3\\lib\\site-packages\\sklearn\\model_selection\\_search.py:739: DataConversionWarning: A column-vector y was passed when a 1d array was expected. Please change the shape of y to (n_samples,), for example using ravel().\n",
      "  self.best_estimator_.fit(X, y, **fit_params)\n"
     ]
    },
    {
     "name": "stdout",
     "output_type": "stream",
     "text": [
      "Train data: 0.9549480538133768\n",
      "RandomForestClassifier(bootstrap=True, class_weight=None, criterion='gini',\n",
      "            max_depth=None, max_features='auto', max_leaf_nodes=None,\n",
      "            min_impurity_decrease=0.0, min_impurity_split=None,\n",
      "            min_samples_leaf=1, min_samples_split=2,\n",
      "            min_weight_fraction_leaf=0.0, n_estimators=10, n_jobs=1,\n",
      "            oob_score=False, random_state=None, verbose=0,\n",
      "            warm_start=False)\n",
      "{}\n",
      "Test data: 0.7410598879793192\n",
      "RandomForestClassifier(bootstrap=True, class_weight=None, criterion='gini',\n",
      "            max_depth=None, max_features='auto', max_leaf_nodes=None,\n",
      "            min_impurity_decrease=0.0, min_impurity_split=None,\n",
      "            min_samples_leaf=1, min_samples_split=2,\n",
      "            min_weight_fraction_leaf=0.0, n_estimators=10, n_jobs=1,\n",
      "            oob_score=False, random_state=None, verbose=0,\n",
      "            warm_start=False)\n",
      "{}\n",
      "\n",
      "\n",
      "\n",
      "Fitting cvec__max_df_of_0.5\n",
      "Scores for cvec__max_df_of_0.5 using bnb Classifier\n"
     ]
    },
    {
     "name": "stderr",
     "output_type": "stream",
     "text": [
      "C:\\Program Files\\Anaconda3\\lib\\site-packages\\sklearn\\utils\\validation.py:578: DataConversionWarning: A column-vector y was passed when a 1d array was expected. Please change the shape of y to (n_samples, ), for example using ravel().\n",
      "  y = column_or_1d(y, warn=True)\n"
     ]
    },
    {
     "name": "stdout",
     "output_type": "stream",
     "text": [
      "Train data: 0.843347536745344\n",
      "BernoulliNB(alpha=1.0, binarize=0.0, class_prior=None, fit_prior=True)\n",
      "{'alpha': 1.0}\n",
      "Test data: 0.749102398391498\n",
      "BernoulliNB(alpha=1.0, binarize=0.0, class_prior=None, fit_prior=True)\n",
      "{'alpha': 1.0}\n",
      "\n",
      "\n",
      "\n",
      "Scores for cvec__max_df_of_0.5 using mnb Classifier\n"
     ]
    },
    {
     "name": "stderr",
     "output_type": "stream",
     "text": [
      "C:\\Program Files\\Anaconda3\\lib\\site-packages\\sklearn\\utils\\validation.py:578: DataConversionWarning: A column-vector y was passed when a 1d array was expected. Please change the shape of y to (n_samples, ), for example using ravel().\n",
      "  y = column_or_1d(y, warn=True)\n"
     ]
    },
    {
     "name": "stdout",
     "output_type": "stream",
     "text": [
      "Train data: 0.8473691770000479\n",
      "MultinomialNB(alpha=0.5555555555555556, class_prior=None, fit_prior=True)\n",
      "{'alpha': 0.5555555555555556}\n",
      "Test data: 0.7455119919574896\n",
      "MultinomialNB(alpha=0.5555555555555556, class_prior=None, fit_prior=True)\n",
      "{'alpha': 0.5555555555555556}\n",
      "\n",
      "\n",
      "\n",
      "Scores for cvec__max_df_of_0.5 using logr Classifier\n"
     ]
    },
    {
     "name": "stderr",
     "output_type": "stream",
     "text": [
      "C:\\Program Files\\Anaconda3\\lib\\site-packages\\sklearn\\utils\\validation.py:578: DataConversionWarning: A column-vector y was passed when a 1d array was expected. Please change the shape of y to (n_samples, ), for example using ravel().\n",
      "  y = column_or_1d(y, warn=True)\n"
     ]
    },
    {
     "name": "stdout",
     "output_type": "stream",
     "text": [
      "Train data: 0.8673816249341696\n",
      "LogisticRegression(C=1.0, class_weight=None, dual=False, fit_intercept=True,\n",
      "          intercept_scaling=1, max_iter=100, multi_class='ovr', n_jobs=1,\n",
      "          penalty='l2', random_state=None, solver='liblinear', tol=0.0001,\n",
      "          verbose=0, warm_start=False)\n",
      "{'C': 1.0, 'penalty': 'l2'}\n",
      "Test data: 0.7521183397960649\n",
      "LogisticRegression(C=1.0, class_weight=None, dual=False, fit_intercept=True,\n",
      "          intercept_scaling=1, max_iter=100, multi_class='ovr', n_jobs=1,\n",
      "          penalty='l2', random_state=None, solver='liblinear', tol=0.0001,\n",
      "          verbose=0, warm_start=False)\n",
      "{'C': 1.0, 'penalty': 'l2'}\n",
      "\n",
      "\n",
      "\n",
      "Scores for cvec__max_df_of_0.5 using rfc Classifier\n"
     ]
    },
    {
     "name": "stderr",
     "output_type": "stream",
     "text": [
      "C:\\Program Files\\Anaconda3\\lib\\site-packages\\sklearn\\model_selection\\_search.py:739: DataConversionWarning: A column-vector y was passed when a 1d array was expected. Please change the shape of y to (n_samples,), for example using ravel().\n",
      "  self.best_estimator_.fit(X, y, **fit_params)\n"
     ]
    },
    {
     "name": "stdout",
     "output_type": "stream",
     "text": [
      "Train data: 0.9553310671709676\n",
      "RandomForestClassifier(bootstrap=True, class_weight=None, criterion='gini',\n",
      "            max_depth=None, max_features='auto', max_leaf_nodes=None,\n",
      "            min_impurity_decrease=0.0, min_impurity_split=None,\n",
      "            min_samples_leaf=1, min_samples_split=2,\n",
      "            min_weight_fraction_leaf=0.0, n_estimators=10, n_jobs=1,\n",
      "            oob_score=False, random_state=None, verbose=0,\n",
      "            warm_start=False)\n",
      "{}\n",
      "Test data: 0.740916271721959\n",
      "RandomForestClassifier(bootstrap=True, class_weight=None, criterion='gini',\n",
      "            max_depth=None, max_features='auto', max_leaf_nodes=None,\n",
      "            min_impurity_decrease=0.0, min_impurity_split=None,\n",
      "            min_samples_leaf=1, min_samples_split=2,\n",
      "            min_weight_fraction_leaf=0.0, n_estimators=10, n_jobs=1,\n",
      "            oob_score=False, random_state=None, verbose=0,\n",
      "            warm_start=False)\n",
      "{}\n",
      "\n",
      "\n",
      "\n",
      "Fitting cvec__n_gram_range_of_(1, 1)_max_df_of0.5\n",
      "Scores for cvec__n_gram_range_of_(1, 1)_max_df_of0.5 using bnb Classifier\n"
     ]
    },
    {
     "name": "stderr",
     "output_type": "stream",
     "text": [
      "C:\\Program Files\\Anaconda3\\lib\\site-packages\\sklearn\\utils\\validation.py:578: DataConversionWarning: A column-vector y was passed when a 1d array was expected. Please change the shape of y to (n_samples, ), for example using ravel().\n",
      "  y = column_or_1d(y, warn=True)\n"
     ]
    },
    {
     "name": "stdout",
     "output_type": "stream",
     "text": [
      "Train data: 0.8505290372001724\n",
      "BernoulliNB(alpha=0.5555555555555556, binarize=0.0, class_prior=None,\n",
      "      fit_prior=True)\n",
      "{'alpha': 0.5555555555555556}\n",
      "Test data: 0.7534108861123079\n",
      "BernoulliNB(alpha=0.5555555555555556, binarize=0.0, class_prior=None,\n",
      "      fit_prior=True)\n",
      "{'alpha': 0.5555555555555556}\n",
      "\n",
      "\n",
      "\n",
      "Scores for cvec__n_gram_range_of_(1, 1)_max_df_of0.5 using mnb Classifier\n"
     ]
    },
    {
     "name": "stderr",
     "output_type": "stream",
     "text": [
      "C:\\Program Files\\Anaconda3\\lib\\site-packages\\sklearn\\utils\\validation.py:578: DataConversionWarning: A column-vector y was passed when a 1d array was expected. Please change the shape of y to (n_samples, ), for example using ravel().\n",
      "  y = column_or_1d(y, warn=True)\n"
     ]
    },
    {
     "name": "stdout",
     "output_type": "stream",
     "text": [
      "Train data: 0.8506247905395701\n",
      "MultinomialNB(alpha=0.5555555555555556, class_prior=None, fit_prior=True)\n",
      "{'alpha': 0.5555555555555556}\n",
      "Test data: 0.7502513284503806\n",
      "MultinomialNB(alpha=0.5555555555555556, class_prior=None, fit_prior=True)\n",
      "{'alpha': 0.5555555555555556}\n",
      "\n",
      "\n",
      "\n",
      "Scores for cvec__n_gram_range_of_(1, 1)_max_df_of0.5 using logr Classifier\n"
     ]
    },
    {
     "name": "stderr",
     "output_type": "stream",
     "text": [
      "C:\\Program Files\\Anaconda3\\lib\\site-packages\\sklearn\\utils\\validation.py:578: DataConversionWarning: A column-vector y was passed when a 1d array was expected. Please change the shape of y to (n_samples, ), for example using ravel().\n",
      "  y = column_or_1d(y, warn=True)\n"
     ]
    },
    {
     "name": "stdout",
     "output_type": "stream",
     "text": [
      "Train data: 0.893809546607938\n",
      "LogisticRegression(C=3.3598182862837818, class_weight=None, dual=False,\n",
      "          fit_intercept=True, intercept_scaling=1, max_iter=100,\n",
      "          multi_class='ovr', n_jobs=1, penalty='l2', random_state=None,\n",
      "          solver='liblinear', tol=0.0001, verbose=0, warm_start=False)\n",
      "{'C': 3.3598182862837818, 'penalty': 'l2'}\n",
      "Test data: 0.7528364210828666\n",
      "LogisticRegression(C=3.3598182862837818, class_weight=None, dual=False,\n",
      "          fit_intercept=True, intercept_scaling=1, max_iter=100,\n",
      "          multi_class='ovr', n_jobs=1, penalty='l2', random_state=None,\n",
      "          solver='liblinear', tol=0.0001, verbose=0, warm_start=False)\n",
      "{'C': 3.3598182862837818, 'penalty': 'l2'}\n",
      "\n",
      "\n",
      "\n",
      "Scores for cvec__n_gram_range_of_(1, 1)_max_df_of0.5 using rfc Classifier\n"
     ]
    },
    {
     "name": "stderr",
     "output_type": "stream",
     "text": [
      "C:\\Program Files\\Anaconda3\\lib\\site-packages\\sklearn\\model_selection\\_search.py:739: DataConversionWarning: A column-vector y was passed when a 1d array was expected. Please change the shape of y to (n_samples,), for example using ravel().\n",
      "  self.best_estimator_.fit(X, y, **fit_params)\n"
     ]
    },
    {
     "name": "stdout",
     "output_type": "stream",
     "text": [
      "Train data: 0.9552353138315699\n",
      "RandomForestClassifier(bootstrap=True, class_weight=None, criterion='gini',\n",
      "            max_depth=None, max_features='auto', max_leaf_nodes=None,\n",
      "            min_impurity_decrease=0.0, min_impurity_split=None,\n",
      "            min_samples_leaf=1, min_samples_split=2,\n",
      "            min_weight_fraction_leaf=0.0, n_estimators=10, n_jobs=1,\n",
      "            oob_score=False, random_state=None, verbose=0,\n",
      "            warm_start=False)\n",
      "{}\n",
      "Test data: 0.7390492603762746\n",
      "RandomForestClassifier(bootstrap=True, class_weight=None, criterion='gini',\n",
      "            max_depth=None, max_features='auto', max_leaf_nodes=None,\n",
      "            min_impurity_decrease=0.0, min_impurity_split=None,\n",
      "            min_samples_leaf=1, min_samples_split=2,\n",
      "            min_weight_fraction_leaf=0.0, n_estimators=10, n_jobs=1,\n",
      "            oob_score=False, random_state=None, verbose=0,\n",
      "            warm_start=False)\n",
      "{}\n",
      "\n",
      "\n",
      "\n",
      "Fitting cvec__n_gram_range_of_(1, 2)_max_df_of0.5\n",
      "Scores for cvec__n_gram_range_of_(1, 2)_max_df_of0.5 using bnb Classifier\n"
     ]
    },
    {
     "name": "stderr",
     "output_type": "stream",
     "text": [
      "C:\\Program Files\\Anaconda3\\lib\\site-packages\\sklearn\\utils\\validation.py:578: DataConversionWarning: A column-vector y was passed when a 1d array was expected. Please change the shape of y to (n_samples, ), for example using ravel().\n",
      "  y = column_or_1d(y, warn=True)\n"
     ]
    },
    {
     "name": "stdout",
     "output_type": "stream",
     "text": [
      "Train data: 0.9253602719394839\n",
      "BernoulliNB(alpha=0.5555555555555556, binarize=0.0, class_prior=None,\n",
      "      fit_prior=True)\n",
      "{'alpha': 0.5555555555555556}\n",
      "Test data: 0.7738043946574752\n",
      "BernoulliNB(alpha=0.5555555555555556, binarize=0.0, class_prior=None,\n",
      "      fit_prior=True)\n",
      "{'alpha': 0.5555555555555556}\n",
      "\n",
      "\n",
      "\n",
      "Scores for cvec__n_gram_range_of_(1, 2)_max_df_of0.5 using mnb Classifier\n"
     ]
    },
    {
     "name": "stderr",
     "output_type": "stream",
     "text": [
      "C:\\Program Files\\Anaconda3\\lib\\site-packages\\sklearn\\utils\\validation.py:578: DataConversionWarning: A column-vector y was passed when a 1d array was expected. Please change the shape of y to (n_samples, ), for example using ravel().\n",
      "  y = column_or_1d(y, warn=True)\n"
     ]
    },
    {
     "name": "stdout",
     "output_type": "stream",
     "text": [
      "Train data: 0.9219610283908651\n",
      "MultinomialNB(alpha=0.6666666666666666, class_prior=None, fit_prior=True)\n",
      "{'alpha': 0.6666666666666666}\n",
      "Test data: 0.7689214419072239\n",
      "MultinomialNB(alpha=0.6666666666666666, class_prior=None, fit_prior=True)\n",
      "{'alpha': 0.6666666666666666}\n",
      "\n",
      "\n",
      "\n",
      "Scores for cvec__n_gram_range_of_(1, 2)_max_df_of0.5 using logr Classifier\n"
     ]
    },
    {
     "name": "stderr",
     "output_type": "stream",
     "text": [
      "C:\\Program Files\\Anaconda3\\lib\\site-packages\\sklearn\\utils\\validation.py:578: DataConversionWarning: A column-vector y was passed when a 1d array was expected. Please change the shape of y to (n_samples, ), for example using ravel().\n",
      "  y = column_or_1d(y, warn=True)\n"
     ]
    },
    {
     "name": "stdout",
     "output_type": "stream",
     "text": [
      "Train data: 0.9399626561976349\n",
      "LogisticRegression(C=1.0, class_weight=None, dual=False, fit_intercept=True,\n",
      "          intercept_scaling=1, max_iter=100, multi_class='ovr', n_jobs=1,\n",
      "          penalty='l2', random_state=None, solver='liblinear', tol=0.0001,\n",
      "          verbose=0, warm_start=False)\n",
      "{'C': 1.0, 'penalty': 'l2'}\n",
      "Test data: 0.7762458710326009\n",
      "LogisticRegression(C=1.0, class_weight=None, dual=False, fit_intercept=True,\n",
      "          intercept_scaling=1, max_iter=100, multi_class='ovr', n_jobs=1,\n",
      "          penalty='l2', random_state=None, solver='liblinear', tol=0.0001,\n",
      "          verbose=0, warm_start=False)\n",
      "{'C': 1.0, 'penalty': 'l2'}\n",
      "\n",
      "\n",
      "\n",
      "Scores for cvec__n_gram_range_of_(1, 2)_max_df_of0.5 using rfc Classifier\n"
     ]
    },
    {
     "name": "stderr",
     "output_type": "stream",
     "text": [
      "C:\\Program Files\\Anaconda3\\lib\\site-packages\\sklearn\\model_selection\\_search.py:739: DataConversionWarning: A column-vector y was passed when a 1d array was expected. Please change the shape of y to (n_samples,), for example using ravel().\n",
      "  self.best_estimator_.fit(X, y, **fit_params)\n"
     ]
    },
    {
     "name": "stdout",
     "output_type": "stream",
     "text": [
      "Train data: 0.9557619571982573\n",
      "RandomForestClassifier(bootstrap=True, class_weight=None, criterion='gini',\n",
      "            max_depth=None, max_features='auto', max_leaf_nodes=None,\n",
      "            min_impurity_decrease=0.0, min_impurity_split=None,\n",
      "            min_samples_leaf=1, min_samples_split=2,\n",
      "            min_weight_fraction_leaf=0.0, n_estimators=10, n_jobs=1,\n",
      "            oob_score=False, random_state=None, verbose=0,\n",
      "            warm_start=False)\n",
      "{}\n",
      "Test data: 0.7453683757001293\n",
      "RandomForestClassifier(bootstrap=True, class_weight=None, criterion='gini',\n",
      "            max_depth=None, max_features='auto', max_leaf_nodes=None,\n",
      "            min_impurity_decrease=0.0, min_impurity_split=None,\n",
      "            min_samples_leaf=1, min_samples_split=2,\n",
      "            min_weight_fraction_leaf=0.0, n_estimators=10, n_jobs=1,\n",
      "            oob_score=False, random_state=None, verbose=0,\n",
      "            warm_start=False)\n",
      "{}\n",
      "\n",
      "\n",
      "\n",
      "Fitting cvec__n_gram_range_of_(1, 3)_max_df_of0.5\n",
      "Scores for cvec__n_gram_range_of_(1, 3)_max_df_of0.5 using bnb Classifier\n"
     ]
    },
    {
     "name": "stderr",
     "output_type": "stream",
     "text": [
      "C:\\Program Files\\Anaconda3\\lib\\site-packages\\sklearn\\utils\\validation.py:578: DataConversionWarning: A column-vector y was passed when a 1d array was expected. Please change the shape of y to (n_samples, ), for example using ravel().\n",
      "  y = column_or_1d(y, warn=True)\n"
     ]
    },
    {
     "name": "stdout",
     "output_type": "stream",
     "text": [
      "Train data: 0.9367549193278115\n",
      "BernoulliNB(alpha=0.5555555555555556, binarize=0.0, class_prior=None,\n",
      "      fit_prior=True)\n",
      "{'alpha': 0.5555555555555556}\n",
      "Test data: 0.764612954186414\n",
      "BernoulliNB(alpha=0.5555555555555556, binarize=0.0, class_prior=None,\n",
      "      fit_prior=True)\n",
      "{'alpha': 0.5555555555555556}\n",
      "\n",
      "\n",
      "\n",
      "Scores for cvec__n_gram_range_of_(1, 3)_max_df_of0.5 using mnb Classifier\n"
     ]
    },
    {
     "name": "stderr",
     "output_type": "stream",
     "text": [
      "C:\\Program Files\\Anaconda3\\lib\\site-packages\\sklearn\\utils\\validation.py:578: DataConversionWarning: A column-vector y was passed when a 1d array was expected. Please change the shape of y to (n_samples, ), for example using ravel().\n",
      "  y = column_or_1d(y, warn=True)\n"
     ]
    },
    {
     "name": "stdout",
     "output_type": "stream",
     "text": [
      "Train data: 0.9264135586728587\n",
      "MultinomialNB(alpha=1.0, class_prior=None, fit_prior=True)\n",
      "{'alpha': 1.0}\n",
      "Test data: 0.7649001867011346\n",
      "MultinomialNB(alpha=1.0, class_prior=None, fit_prior=True)\n",
      "{'alpha': 1.0}\n",
      "\n",
      "\n",
      "\n",
      "Scores for cvec__n_gram_range_of_(1, 3)_max_df_of0.5 using logr Classifier\n"
     ]
    },
    {
     "name": "stderr",
     "output_type": "stream",
     "text": [
      "C:\\Program Files\\Anaconda3\\lib\\site-packages\\sklearn\\utils\\validation.py:578: DataConversionWarning: A column-vector y was passed when a 1d array was expected. Please change the shape of y to (n_samples, ), for example using ravel().\n",
      "  y = column_or_1d(y, warn=True)\n"
     ]
    },
    {
     "name": "stdout",
     "output_type": "stream",
     "text": [
      "Train data: 0.9490113467707186\n",
      "LogisticRegression(C=1.0, class_weight=None, dual=False, fit_intercept=True,\n",
      "          intercept_scaling=1, max_iter=100, multi_class='ovr', n_jobs=1,\n",
      "          penalty='l2', random_state=None, solver='liblinear', tol=0.0001,\n",
      "          verbose=0, warm_start=False)\n",
      "{'C': 1.0, 'penalty': 'l2'}\n",
      "Test data: 0.7628895590980899\n",
      "LogisticRegression(C=1.0, class_weight=None, dual=False, fit_intercept=True,\n",
      "          intercept_scaling=1, max_iter=100, multi_class='ovr', n_jobs=1,\n",
      "          penalty='l2', random_state=None, solver='liblinear', tol=0.0001,\n",
      "          verbose=0, warm_start=False)\n",
      "{'C': 1.0, 'penalty': 'l2'}\n",
      "\n",
      "\n",
      "\n",
      "Scores for cvec__n_gram_range_of_(1, 3)_max_df_of0.5 using rfc Classifier\n"
     ]
    },
    {
     "name": "stderr",
     "output_type": "stream",
     "text": [
      "C:\\Program Files\\Anaconda3\\lib\\site-packages\\sklearn\\model_selection\\_search.py:739: DataConversionWarning: A column-vector y was passed when a 1d array was expected. Please change the shape of y to (n_samples,), for example using ravel().\n",
      "  self.best_estimator_.fit(X, y, **fit_params)\n"
     ]
    },
    {
     "name": "stdout",
     "output_type": "stream",
     "text": [
      "Train data: 0.9574376406377172\n",
      "RandomForestClassifier(bootstrap=True, class_weight=None, criterion='gini',\n",
      "            max_depth=None, max_features='auto', max_leaf_nodes=None,\n",
      "            min_impurity_decrease=0.0, min_impurity_split=None,\n",
      "            min_samples_leaf=1, min_samples_split=2,\n",
      "            min_weight_fraction_leaf=0.0, n_estimators=10, n_jobs=1,\n",
      "            oob_score=False, random_state=None, verbose=0,\n",
      "            warm_start=False)\n",
      "{}\n",
      "Test data: 0.7341663076260233\n",
      "RandomForestClassifier(bootstrap=True, class_weight=None, criterion='gini',\n",
      "            max_depth=None, max_features='auto', max_leaf_nodes=None,\n",
      "            min_impurity_decrease=0.0, min_impurity_split=None,\n",
      "            min_samples_leaf=1, min_samples_split=2,\n",
      "            min_weight_fraction_leaf=0.0, n_estimators=10, n_jobs=1,\n",
      "            oob_score=False, random_state=None, verbose=0,\n",
      "            warm_start=False)\n",
      "{}\n",
      "\n",
      "\n",
      "\n",
      "Fitting cvec__n_gram_range_of_(1, 4)_max_df_of0.5\n",
      "Scores for cvec__n_gram_range_of_(1, 4)_max_df_of0.5 using bnb Classifier\n"
     ]
    },
    {
     "name": "stderr",
     "output_type": "stream",
     "text": [
      "C:\\Program Files\\Anaconda3\\lib\\site-packages\\sklearn\\utils\\validation.py:578: DataConversionWarning: A column-vector y was passed when a 1d array was expected. Please change the shape of y to (n_samples, ), for example using ravel().\n",
      "  y = column_or_1d(y, warn=True)\n"
     ]
    },
    {
     "name": "stdout",
     "output_type": "stream",
     "text": [
      "Train data: 0.9375688227126922\n",
      "BernoulliNB(alpha=0.5555555555555556, binarize=0.0, class_prior=None,\n",
      "      fit_prior=True)\n",
      "{'alpha': 0.5555555555555556}\n",
      "Test data: 0.7663363492747379\n",
      "BernoulliNB(alpha=0.5555555555555556, binarize=0.0, class_prior=None,\n",
      "      fit_prior=True)\n",
      "{'alpha': 0.5555555555555556}\n",
      "\n",
      "\n",
      "\n",
      "Scores for cvec__n_gram_range_of_(1, 4)_max_df_of0.5 using mnb Classifier\n"
     ]
    },
    {
     "name": "stderr",
     "output_type": "stream",
     "text": [
      "C:\\Program Files\\Anaconda3\\lib\\site-packages\\sklearn\\utils\\validation.py:578: DataConversionWarning: A column-vector y was passed when a 1d array was expected. Please change the shape of y to (n_samples, ), for example using ravel().\n",
      "  y = column_or_1d(y, warn=True)\n"
     ]
    },
    {
     "name": "stdout",
     "output_type": "stream",
     "text": [
      "Train data: 0.9313927323215397\n",
      "MultinomialNB(alpha=0.8888888888888888, class_prior=None, fit_prior=True)\n",
      "{'alpha': 0.8888888888888888}\n",
      "Test data: 0.7653310354732156\n",
      "MultinomialNB(alpha=0.8888888888888888, class_prior=None, fit_prior=True)\n",
      "{'alpha': 0.8888888888888888}\n",
      "\n",
      "\n",
      "\n",
      "Scores for cvec__n_gram_range_of_(1, 4)_max_df_of0.5 using logr Classifier\n"
     ]
    },
    {
     "name": "stderr",
     "output_type": "stream",
     "text": [
      "C:\\Program Files\\Anaconda3\\lib\\site-packages\\sklearn\\utils\\validation.py:578: DataConversionWarning: A column-vector y was passed when a 1d array was expected. Please change the shape of y to (n_samples, ), for example using ravel().\n",
      "  y = column_or_1d(y, warn=True)\n"
     ]
    },
    {
     "name": "stdout",
     "output_type": "stream",
     "text": [
      "Train data: 0.9497773734859003\n",
      "LogisticRegression(C=1.0, class_weight=None, dual=False, fit_intercept=True,\n",
      "          intercept_scaling=1, max_iter=100, multi_class='ovr', n_jobs=1,\n",
      "          penalty='l2', random_state=None, solver='liblinear', tol=0.0001,\n",
      "          verbose=0, warm_start=False)\n",
      "{'C': 1.0, 'penalty': 'l2'}\n",
      "Test data: 0.764612954186414\n",
      "LogisticRegression(C=1.0, class_weight=None, dual=False, fit_intercept=True,\n",
      "          intercept_scaling=1, max_iter=100, multi_class='ovr', n_jobs=1,\n",
      "          penalty='l2', random_state=None, solver='liblinear', tol=0.0001,\n",
      "          verbose=0, warm_start=False)\n",
      "{'C': 1.0, 'penalty': 'l2'}\n",
      "\n",
      "\n",
      "\n",
      "Scores for cvec__n_gram_range_of_(1, 4)_max_df_of0.5 using rfc Classifier\n"
     ]
    },
    {
     "name": "stderr",
     "output_type": "stream",
     "text": [
      "C:\\Program Files\\Anaconda3\\lib\\site-packages\\sklearn\\model_selection\\_search.py:739: DataConversionWarning: A column-vector y was passed when a 1d array was expected. Please change the shape of y to (n_samples,), for example using ravel().\n",
      "  self.best_estimator_.fit(X, y, **fit_params)\n"
     ]
    },
    {
     "name": "stdout",
     "output_type": "stream",
     "text": [
      "Train data: 0.956527983913439\n",
      "RandomForestClassifier(bootstrap=True, class_weight=None, criterion='gini',\n",
      "            max_depth=None, max_features='auto', max_leaf_nodes=None,\n",
      "            min_impurity_decrease=0.0, min_impurity_split=None,\n",
      "            min_samples_leaf=1, min_samples_split=2,\n",
      "            min_weight_fraction_leaf=0.0, n_estimators=10, n_jobs=1,\n",
      "            oob_score=False, random_state=None, verbose=0,\n",
      "            warm_start=False)\n",
      "{}\n",
      "Test data: 0.7367514002585093\n",
      "RandomForestClassifier(bootstrap=True, class_weight=None, criterion='gini',\n",
      "            max_depth=None, max_features='auto', max_leaf_nodes=None,\n",
      "            min_impurity_decrease=0.0, min_impurity_split=None,\n",
      "            min_samples_leaf=1, min_samples_split=2,\n",
      "            min_weight_fraction_leaf=0.0, n_estimators=10, n_jobs=1,\n",
      "            oob_score=False, random_state=None, verbose=0,\n",
      "            warm_start=False)\n",
      "{}\n",
      "\n",
      "\n",
      "\n",
      "Fitting cvec__max_df_of_0.75\n",
      "Scores for cvec__max_df_of_0.75 using bnb Classifier\n"
     ]
    },
    {
     "name": "stderr",
     "output_type": "stream",
     "text": [
      "C:\\Program Files\\Anaconda3\\lib\\site-packages\\sklearn\\utils\\validation.py:578: DataConversionWarning: A column-vector y was passed when a 1d array was expected. Please change the shape of y to (n_samples, ), for example using ravel().\n",
      "  y = column_or_1d(y, warn=True)\n"
     ]
    },
    {
     "name": "stdout",
     "output_type": "stream",
     "text": [
      "Train data: 0.8523483506487288\n",
      "BernoulliNB(alpha=0.4444444444444444, binarize=0.0, class_prior=None,\n",
      "      fit_prior=True)\n",
      "{'alpha': 0.4444444444444444}\n",
      "Test data: 0.7525491885681459\n",
      "BernoulliNB(alpha=0.4444444444444444, binarize=0.0, class_prior=None,\n",
      "      fit_prior=True)\n",
      "{'alpha': 0.4444444444444444}\n",
      "\n",
      "\n",
      "\n",
      "Scores for cvec__max_df_of_0.75 using mnb Classifier\n"
     ]
    },
    {
     "name": "stderr",
     "output_type": "stream",
     "text": [
      "C:\\Program Files\\Anaconda3\\lib\\site-packages\\sklearn\\utils\\validation.py:578: DataConversionWarning: A column-vector y was passed when a 1d array was expected. Please change the shape of y to (n_samples, ), for example using ravel().\n",
      "  y = column_or_1d(y, warn=True)\n"
     ]
    },
    {
     "name": "stdout",
     "output_type": "stream",
     "text": [
      "Train data: 0.8517738306123426\n",
      "MultinomialNB(alpha=0.4444444444444444, class_prior=None, fit_prior=True)\n",
      "{'alpha': 0.4444444444444444}\n",
      "Test data: 0.7536981186270286\n",
      "MultinomialNB(alpha=0.4444444444444444, class_prior=None, fit_prior=True)\n",
      "{'alpha': 0.4444444444444444}\n",
      "\n",
      "\n",
      "\n",
      "Scores for cvec__max_df_of_0.75 using logr Classifier\n"
     ]
    },
    {
     "name": "stderr",
     "output_type": "stream",
     "text": [
      "C:\\Program Files\\Anaconda3\\lib\\site-packages\\sklearn\\utils\\validation.py:578: DataConversionWarning: A column-vector y was passed when a 1d array was expected. Please change the shape of y to (n_samples, ), for example using ravel().\n",
      "  y = column_or_1d(y, warn=True)\n"
     ]
    },
    {
     "name": "stdout",
     "output_type": "stream",
     "text": [
      "Train data: 0.8959639967443864\n",
      "LogisticRegression(C=3.3598182862837818, class_weight=None, dual=False,\n",
      "          fit_intercept=True, intercept_scaling=1, max_iter=100,\n",
      "          multi_class='ovr', n_jobs=1, penalty='l2', random_state=None,\n",
      "          solver='liblinear', tol=0.0001, verbose=0, warm_start=False)\n",
      "{'C': 3.3598182862837818, 'penalty': 'l2'}\n",
      "Test data: 0.7518311072813443\n",
      "LogisticRegression(C=3.3598182862837818, class_weight=None, dual=False,\n",
      "          fit_intercept=True, intercept_scaling=1, max_iter=100,\n",
      "          multi_class='ovr', n_jobs=1, penalty='l2', random_state=None,\n",
      "          solver='liblinear', tol=0.0001, verbose=0, warm_start=False)\n",
      "{'C': 3.3598182862837818, 'penalty': 'l2'}\n",
      "\n",
      "\n",
      "\n",
      "Scores for cvec__max_df_of_0.75 using rfc Classifier\n"
     ]
    },
    {
     "name": "stderr",
     "output_type": "stream",
     "text": [
      "C:\\Program Files\\Anaconda3\\lib\\site-packages\\sklearn\\model_selection\\_search.py:739: DataConversionWarning: A column-vector y was passed when a 1d array was expected. Please change the shape of y to (n_samples,), for example using ravel().\n",
      "  self.best_estimator_.fit(X, y, **fit_params)\n"
     ]
    },
    {
     "name": "stdout",
     "output_type": "stream",
     "text": [
      "Train data: 0.9529851103557236\n",
      "RandomForestClassifier(bootstrap=True, class_weight=None, criterion='gini',\n",
      "            max_depth=None, max_features='auto', max_leaf_nodes=None,\n",
      "            min_impurity_decrease=0.0, min_impurity_split=None,\n",
      "            min_samples_leaf=1, min_samples_split=2,\n",
      "            min_weight_fraction_leaf=0.0, n_estimators=10, n_jobs=1,\n",
      "            oob_score=False, random_state=None, verbose=0,\n",
      "            warm_start=False)\n",
      "{}\n",
      "Test data: 0.7386184116041936\n",
      "RandomForestClassifier(bootstrap=True, class_weight=None, criterion='gini',\n",
      "            max_depth=None, max_features='auto', max_leaf_nodes=None,\n",
      "            min_impurity_decrease=0.0, min_impurity_split=None,\n",
      "            min_samples_leaf=1, min_samples_split=2,\n",
      "            min_weight_fraction_leaf=0.0, n_estimators=10, n_jobs=1,\n",
      "            oob_score=False, random_state=None, verbose=0,\n",
      "            warm_start=False)\n",
      "{}\n",
      "\n",
      "\n",
      "\n",
      "Fitting cvec__n_gram_range_of_(1, 1)_max_df_of0.75\n",
      "Scores for cvec__n_gram_range_of_(1, 1)_max_df_of0.75 using bnb Classifier\n"
     ]
    },
    {
     "name": "stderr",
     "output_type": "stream",
     "text": [
      "C:\\Program Files\\Anaconda3\\lib\\site-packages\\sklearn\\utils\\validation.py:578: DataConversionWarning: A column-vector y was passed when a 1d array was expected. Please change the shape of y to (n_samples, ), for example using ravel().\n",
      "  y = column_or_1d(y, warn=True)\n"
     ]
    },
    {
     "name": "stdout",
     "output_type": "stream",
     "text": [
      "Train data: 0.8431081533968497\n",
      "BernoulliNB(alpha=1.0, binarize=0.0, class_prior=None, fit_prior=True)\n",
      "{'alpha': 1.0}\n",
      "Test data: 0.749102398391498\n",
      "BernoulliNB(alpha=1.0, binarize=0.0, class_prior=None, fit_prior=True)\n",
      "{'alpha': 1.0}\n",
      "\n",
      "\n",
      "\n",
      "Scores for cvec__n_gram_range_of_(1, 1)_max_df_of0.75 using mnb Classifier\n"
     ]
    },
    {
     "name": "stderr",
     "output_type": "stream",
     "text": [
      "C:\\Program Files\\Anaconda3\\lib\\site-packages\\sklearn\\utils\\validation.py:578: DataConversionWarning: A column-vector y was passed when a 1d array was expected. Please change the shape of y to (n_samples, ), for example using ravel().\n",
      "  y = column_or_1d(y, warn=True)\n"
     ]
    },
    {
     "name": "stdout",
     "output_type": "stream",
     "text": [
      "Train data: 0.8424857566907646\n",
      "MultinomialNB(alpha=0.8888888888888888, class_prior=None, fit_prior=True)\n",
      "{'alpha': 0.8888888888888888}\n",
      "Test data: 0.7468045382737326\n",
      "MultinomialNB(alpha=0.8888888888888888, class_prior=None, fit_prior=True)\n",
      "{'alpha': 0.8888888888888888}\n",
      "\n",
      "\n",
      "\n",
      "Scores for cvec__n_gram_range_of_(1, 1)_max_df_of0.75 using logr Classifier\n"
     ]
    },
    {
     "name": "stderr",
     "output_type": "stream",
     "text": [
      "C:\\Program Files\\Anaconda3\\lib\\site-packages\\sklearn\\utils\\validation.py:578: DataConversionWarning: A column-vector y was passed when a 1d array was expected. Please change the shape of y to (n_samples, ), for example using ravel().\n",
      "  y = column_or_1d(y, warn=True)\n"
     ]
    },
    {
     "name": "stdout",
     "output_type": "stream",
     "text": [
      "Train data: 0.8694881984009192\n",
      "LogisticRegression(C=1.0, class_weight=None, dual=False, fit_intercept=True,\n",
      "          intercept_scaling=1, max_iter=100, multi_class='ovr', n_jobs=1,\n",
      "          penalty='l2', random_state=None, solver='liblinear', tol=0.0001,\n",
      "          verbose=0, warm_start=False)\n",
      "{'C': 1.0, 'penalty': 'l2'}\n",
      "Test data: 0.7567140600315956\n",
      "LogisticRegression(C=1.0, class_weight=None, dual=False, fit_intercept=True,\n",
      "          intercept_scaling=1, max_iter=100, multi_class='ovr', n_jobs=1,\n",
      "          penalty='l2', random_state=None, solver='liblinear', tol=0.0001,\n",
      "          verbose=0, warm_start=False)\n",
      "{'C': 1.0, 'penalty': 'l2'}\n",
      "\n",
      "\n",
      "\n",
      "Scores for cvec__n_gram_range_of_(1, 1)_max_df_of0.75 using rfc Classifier\n"
     ]
    },
    {
     "name": "stderr",
     "output_type": "stream",
     "text": [
      "C:\\Program Files\\Anaconda3\\lib\\site-packages\\sklearn\\model_selection\\_search.py:739: DataConversionWarning: A column-vector y was passed when a 1d array was expected. Please change the shape of y to (n_samples,), for example using ravel().\n",
      "  self.best_estimator_.fit(X, y, **fit_params)\n"
     ]
    },
    {
     "name": "stdout",
     "output_type": "stream",
     "text": [
      "Train data: 0.9557140805285584\n",
      "RandomForestClassifier(bootstrap=True, class_weight=None, criterion='gini',\n",
      "            max_depth=None, max_features='auto', max_leaf_nodes=None,\n",
      "            min_impurity_decrease=0.0, min_impurity_split=None,\n",
      "            min_samples_leaf=1, min_samples_split=2,\n",
      "            min_weight_fraction_leaf=0.0, n_estimators=10, n_jobs=1,\n",
      "            oob_score=False, random_state=None, verbose=0,\n",
      "            warm_start=False)\n",
      "{}\n",
      "Test data: 0.7406290392072382\n",
      "RandomForestClassifier(bootstrap=True, class_weight=None, criterion='gini',\n",
      "            max_depth=None, max_features='auto', max_leaf_nodes=None,\n",
      "            min_impurity_decrease=0.0, min_impurity_split=None,\n",
      "            min_samples_leaf=1, min_samples_split=2,\n",
      "            min_weight_fraction_leaf=0.0, n_estimators=10, n_jobs=1,\n",
      "            oob_score=False, random_state=None, verbose=0,\n",
      "            warm_start=False)\n",
      "{}\n",
      "\n",
      "\n",
      "\n",
      "Fitting cvec__n_gram_range_of_(1, 2)_max_df_of0.75\n",
      "Scores for cvec__n_gram_range_of_(1, 2)_max_df_of0.75 using bnb Classifier\n"
     ]
    },
    {
     "name": "stderr",
     "output_type": "stream",
     "text": [
      "C:\\Program Files\\Anaconda3\\lib\\site-packages\\sklearn\\utils\\validation.py:578: DataConversionWarning: A column-vector y was passed when a 1d array was expected. Please change the shape of y to (n_samples, ), for example using ravel().\n",
      "  y = column_or_1d(y, warn=True)\n"
     ]
    },
    {
     "name": "stdout",
     "output_type": "stream",
     "text": [
      "Train data: 0.9237803418394217\n",
      "BernoulliNB(alpha=0.6666666666666666, binarize=0.0, class_prior=None,\n",
      "      fit_prior=True)\n",
      "{'alpha': 0.6666666666666666}\n",
      "Test data: 0.7687778256498635\n",
      "BernoulliNB(alpha=0.6666666666666666, binarize=0.0, class_prior=None,\n",
      "      fit_prior=True)\n",
      "{'alpha': 0.6666666666666666}\n",
      "\n",
      "\n",
      "\n",
      "Scores for cvec__n_gram_range_of_(1, 2)_max_df_of0.75 using mnb Classifier\n"
     ]
    },
    {
     "name": "stderr",
     "output_type": "stream",
     "text": [
      "C:\\Program Files\\Anaconda3\\lib\\site-packages\\sklearn\\utils\\validation.py:578: DataConversionWarning: A column-vector y was passed when a 1d array was expected. Please change the shape of y to (n_samples, ), for example using ravel().\n",
      "  y = column_or_1d(y, warn=True)\n"
     ]
    },
    {
     "name": "stdout",
     "output_type": "stream",
     "text": [
      "Train data: 0.9324460190549145\n",
      "MultinomialNB(alpha=0.3333333333333333, class_prior=None, fit_prior=True)\n",
      "{'alpha': 0.3333333333333333}\n",
      "Test data: 0.7679161281057015\n",
      "MultinomialNB(alpha=0.3333333333333333, class_prior=None, fit_prior=True)\n",
      "{'alpha': 0.3333333333333333}\n",
      "\n",
      "\n",
      "\n",
      "Scores for cvec__n_gram_range_of_(1, 2)_max_df_of0.75 using logr Classifier\n"
     ]
    },
    {
     "name": "stderr",
     "output_type": "stream",
     "text": [
      "C:\\Program Files\\Anaconda3\\lib\\site-packages\\sklearn\\utils\\validation.py:578: DataConversionWarning: A column-vector y was passed when a 1d array was expected. Please change the shape of y to (n_samples, ), for example using ravel().\n",
      "  y = column_or_1d(y, warn=True)\n"
     ]
    },
    {
     "name": "stdout",
     "output_type": "stream",
     "text": [
      "Train data: 0.9397232728491406\n",
      "LogisticRegression(C=1.0, class_weight=None, dual=False, fit_intercept=True,\n",
      "          intercept_scaling=1, max_iter=100, multi_class='ovr', n_jobs=1,\n",
      "          penalty='l2', random_state=None, solver='liblinear', tol=0.0001,\n",
      "          verbose=0, warm_start=False)\n",
      "{'C': 1.0, 'penalty': 'l2'}\n",
      "Test data: 0.7686342093925033\n",
      "LogisticRegression(C=1.0, class_weight=None, dual=False, fit_intercept=True,\n",
      "          intercept_scaling=1, max_iter=100, multi_class='ovr', n_jobs=1,\n",
      "          penalty='l2', random_state=None, solver='liblinear', tol=0.0001,\n",
      "          verbose=0, warm_start=False)\n",
      "{'C': 1.0, 'penalty': 'l2'}\n",
      "\n",
      "\n",
      "\n",
      "Scores for cvec__n_gram_range_of_(1, 2)_max_df_of0.75 using rfc Classifier\n"
     ]
    },
    {
     "name": "stderr",
     "output_type": "stream",
     "text": [
      "C:\\Program Files\\Anaconda3\\lib\\site-packages\\sklearn\\model_selection\\_search.py:739: DataConversionWarning: A column-vector y was passed when a 1d array was expected. Please change the shape of y to (n_samples,), for example using ravel().\n",
      "  self.best_estimator_.fit(X, y, **fit_params)\n"
     ]
    },
    {
     "name": "stdout",
     "output_type": "stream",
     "text": [
      "Train data: 0.9548044238042802\n",
      "RandomForestClassifier(bootstrap=True, class_weight=None, criterion='gini',\n",
      "            max_depth=None, max_features='auto', max_leaf_nodes=None,\n",
      "            min_impurity_decrease=0.0, min_impurity_split=None,\n",
      "            min_samples_leaf=1, min_samples_split=2,\n",
      "            min_weight_fraction_leaf=0.0, n_estimators=10, n_jobs=1,\n",
      "            oob_score=False, random_state=None, verbose=0,\n",
      "            warm_start=False)\n",
      "{}\n",
      "Test data: 0.7466609220163722\n",
      "RandomForestClassifier(bootstrap=True, class_weight=None, criterion='gini',\n",
      "            max_depth=None, max_features='auto', max_leaf_nodes=None,\n",
      "            min_impurity_decrease=0.0, min_impurity_split=None,\n",
      "            min_samples_leaf=1, min_samples_split=2,\n",
      "            min_weight_fraction_leaf=0.0, n_estimators=10, n_jobs=1,\n",
      "            oob_score=False, random_state=None, verbose=0,\n",
      "            warm_start=False)\n",
      "{}\n",
      "\n",
      "\n",
      "\n",
      "Fitting cvec__n_gram_range_of_(1, 3)_max_df_of0.75\n",
      "Scores for cvec__n_gram_range_of_(1, 3)_max_df_of0.75 using bnb Classifier\n"
     ]
    },
    {
     "name": "stderr",
     "output_type": "stream",
     "text": [
      "C:\\Program Files\\Anaconda3\\lib\\site-packages\\sklearn\\utils\\validation.py:578: DataConversionWarning: A column-vector y was passed when a 1d array was expected. Please change the shape of y to (n_samples, ), for example using ravel().\n",
      "  y = column_or_1d(y, warn=True)\n"
     ]
    },
    {
     "name": "stdout",
     "output_type": "stream",
     "text": [
      "Train data: 0.9315363623306363\n",
      "BernoulliNB(alpha=0.7777777777777777, binarize=0.0, class_prior=None,\n",
      "      fit_prior=True)\n",
      "{'alpha': 0.7777777777777777}\n",
      "Test data: 0.7657618842452966\n",
      "BernoulliNB(alpha=0.7777777777777777, binarize=0.0, class_prior=None,\n",
      "      fit_prior=True)\n",
      "{'alpha': 0.7777777777777777}\n",
      "\n",
      "\n",
      "\n",
      "Scores for cvec__n_gram_range_of_(1, 3)_max_df_of0.75 using mnb Classifier\n"
     ]
    },
    {
     "name": "stderr",
     "output_type": "stream",
     "text": [
      "C:\\Program Files\\Anaconda3\\lib\\site-packages\\sklearn\\utils\\validation.py:578: DataConversionWarning: A column-vector y was passed when a 1d array was expected. Please change the shape of y to (n_samples, ), for example using ravel().\n",
      "  y = column_or_1d(y, warn=True)\n"
     ]
    },
    {
     "name": "stdout",
     "output_type": "stream",
     "text": [
      "Train data: 0.9331641691003973\n",
      "MultinomialNB(alpha=0.6666666666666666, class_prior=None, fit_prior=True)\n",
      "{'alpha': 0.6666666666666666}\n",
      "Test data: 0.7637512566422519\n",
      "MultinomialNB(alpha=0.6666666666666666, class_prior=None, fit_prior=True)\n",
      "{'alpha': 0.6666666666666666}\n",
      "\n",
      "\n",
      "\n",
      "Scores for cvec__n_gram_range_of_(1, 3)_max_df_of0.75 using logr Classifier\n"
     ]
    },
    {
     "name": "stderr",
     "output_type": "stream",
     "text": [
      "C:\\Program Files\\Anaconda3\\lib\\site-packages\\sklearn\\utils\\validation.py:578: DataConversionWarning: A column-vector y was passed when a 1d array was expected. Please change the shape of y to (n_samples, ), for example using ravel().\n",
      "  y = column_or_1d(y, warn=True)\n"
     ]
    },
    {
     "name": "stdout",
     "output_type": "stream",
     "text": [
      "Train data: 0.948245320055537\n",
      "LogisticRegression(C=1.0, class_weight=None, dual=False, fit_intercept=True,\n",
      "          intercept_scaling=1, max_iter=100, multi_class='ovr', n_jobs=1,\n",
      "          penalty='l2', random_state=None, solver='liblinear', tol=0.0001,\n",
      "          verbose=0, warm_start=False)\n",
      "{'C': 1.0, 'penalty': 'l2'}\n",
      "Test data: 0.7684905931351429\n",
      "LogisticRegression(C=1.0, class_weight=None, dual=False, fit_intercept=True,\n",
      "          intercept_scaling=1, max_iter=100, multi_class='ovr', n_jobs=1,\n",
      "          penalty='l2', random_state=None, solver='liblinear', tol=0.0001,\n",
      "          verbose=0, warm_start=False)\n",
      "{'C': 1.0, 'penalty': 'l2'}\n",
      "\n",
      "\n",
      "\n",
      "Scores for cvec__n_gram_range_of_(1, 3)_max_df_of0.75 using rfc Classifier\n"
     ]
    },
    {
     "name": "stderr",
     "output_type": "stream",
     "text": [
      "C:\\Program Files\\Anaconda3\\lib\\site-packages\\sklearn\\model_selection\\_search.py:739: DataConversionWarning: A column-vector y was passed when a 1d array was expected. Please change the shape of y to (n_samples,), for example using ravel().\n",
      "  self.best_estimator_.fit(X, y, **fit_params)\n"
     ]
    },
    {
     "name": "stdout",
     "output_type": "stream",
     "text": [
      "Train data: 0.9573897639680183\n",
      "RandomForestClassifier(bootstrap=True, class_weight=None, criterion='gini',\n",
      "            max_depth=None, max_features='auto', max_leaf_nodes=None,\n",
      "            min_impurity_decrease=0.0, min_impurity_split=None,\n",
      "            min_samples_leaf=1, min_samples_split=2,\n",
      "            min_weight_fraction_leaf=0.0, n_estimators=10, n_jobs=1,\n",
      "            oob_score=False, random_state=None, verbose=0,\n",
      "            warm_start=False)\n",
      "{}\n",
      "Test data: 0.7366077840011489\n",
      "RandomForestClassifier(bootstrap=True, class_weight=None, criterion='gini',\n",
      "            max_depth=None, max_features='auto', max_leaf_nodes=None,\n",
      "            min_impurity_decrease=0.0, min_impurity_split=None,\n",
      "            min_samples_leaf=1, min_samples_split=2,\n",
      "            min_weight_fraction_leaf=0.0, n_estimators=10, n_jobs=1,\n",
      "            oob_score=False, random_state=None, verbose=0,\n",
      "            warm_start=False)\n",
      "{}\n",
      "\n",
      "\n",
      "\n",
      "Fitting cvec__n_gram_range_of_(1, 4)_max_df_of0.75\n",
      "Scores for cvec__n_gram_range_of_(1, 4)_max_df_of0.75 using bnb Classifier\n"
     ]
    },
    {
     "name": "stderr",
     "output_type": "stream",
     "text": [
      "C:\\Program Files\\Anaconda3\\lib\\site-packages\\sklearn\\utils\\validation.py:578: DataConversionWarning: A column-vector y was passed when a 1d array was expected. Please change the shape of y to (n_samples, ), for example using ravel().\n",
      "  y = column_or_1d(y, warn=True)\n"
     ]
    },
    {
     "name": "stdout",
     "output_type": "stream",
     "text": [
      "Train data: 0.9300521855699717\n",
      "BernoulliNB(alpha=0.6666666666666666, binarize=0.0, class_prior=None,\n",
      "      fit_prior=True)\n",
      "{'alpha': 0.6666666666666666}\n",
      "Test data: 0.7618842452965676\n",
      "BernoulliNB(alpha=0.6666666666666666, binarize=0.0, class_prior=None,\n",
      "      fit_prior=True)\n",
      "{'alpha': 0.6666666666666666}\n",
      "\n",
      "\n",
      "\n",
      "Scores for cvec__n_gram_range_of_(1, 4)_max_df_of0.75 using mnb Classifier\n"
     ]
    },
    {
     "name": "stderr",
     "output_type": "stream",
     "text": [
      "C:\\Program Files\\Anaconda3\\lib\\site-packages\\sklearn\\utils\\validation.py:578: DataConversionWarning: A column-vector y was passed when a 1d array was expected. Please change the shape of y to (n_samples, ), for example using ravel().\n",
      "  y = column_or_1d(y, warn=True)\n"
     ]
    },
    {
     "name": "stdout",
     "output_type": "stream",
     "text": [
      "Train data: 0.9312012256427443\n",
      "MultinomialNB(alpha=0.8888888888888888, class_prior=None, fit_prior=True)\n",
      "{'alpha': 0.8888888888888888}\n",
      "Test data: 0.7656182679879362\n",
      "MultinomialNB(alpha=0.8888888888888888, class_prior=None, fit_prior=True)\n",
      "{'alpha': 0.8888888888888888}\n",
      "\n",
      "\n",
      "\n",
      "Scores for cvec__n_gram_range_of_(1, 4)_max_df_of0.75 using logr Classifier\n"
     ]
    },
    {
     "name": "stderr",
     "output_type": "stream",
     "text": [
      "C:\\Program Files\\Anaconda3\\lib\\site-packages\\sklearn\\utils\\validation.py:578: DataConversionWarning: A column-vector y was passed when a 1d array was expected. Please change the shape of y to (n_samples, ), for example using ravel().\n",
      "  y = column_or_1d(y, warn=True)\n"
     ]
    },
    {
     "name": "stdout",
     "output_type": "stream",
     "text": [
      "Train data: 0.9488677167616221\n",
      "LogisticRegression(C=1.0, class_weight=None, dual=False, fit_intercept=True,\n",
      "          intercept_scaling=1, max_iter=100, multi_class='ovr', n_jobs=1,\n",
      "          penalty='l2', random_state=None, solver='liblinear', tol=0.0001,\n",
      "          verbose=0, warm_start=False)\n",
      "{'C': 1.0, 'penalty': 'l2'}\n",
      "Test data: 0.7654746517305759\n",
      "LogisticRegression(C=1.0, class_weight=None, dual=False, fit_intercept=True,\n",
      "          intercept_scaling=1, max_iter=100, multi_class='ovr', n_jobs=1,\n",
      "          penalty='l2', random_state=None, solver='liblinear', tol=0.0001,\n",
      "          verbose=0, warm_start=False)\n",
      "{'C': 1.0, 'penalty': 'l2'}\n",
      "\n",
      "\n",
      "\n",
      "Scores for cvec__n_gram_range_of_(1, 4)_max_df_of0.75 using rfc Classifier\n"
     ]
    },
    {
     "name": "stderr",
     "output_type": "stream",
     "text": [
      "C:\\Program Files\\Anaconda3\\lib\\site-packages\\sklearn\\model_selection\\_search.py:739: DataConversionWarning: A column-vector y was passed when a 1d array was expected. Please change the shape of y to (n_samples,), for example using ravel().\n",
      "  self.best_estimator_.fit(X, y, **fit_params)\n"
     ]
    },
    {
     "name": "stdout",
     "output_type": "stream",
     "text": [
      "Train data: 0.9549001771436779\n",
      "RandomForestClassifier(bootstrap=True, class_weight=None, criterion='gini',\n",
      "            max_depth=None, max_features='auto', max_leaf_nodes=None,\n",
      "            min_impurity_decrease=0.0, min_impurity_split=None,\n",
      "            min_samples_leaf=1, min_samples_split=2,\n",
      "            min_weight_fraction_leaf=0.0, n_estimators=10, n_jobs=1,\n",
      "            oob_score=False, random_state=None, verbose=0,\n",
      "            warm_start=False)\n",
      "{}\n",
      "Test data: 0.7308631337067356\n",
      "RandomForestClassifier(bootstrap=True, class_weight=None, criterion='gini',\n",
      "            max_depth=None, max_features='auto', max_leaf_nodes=None,\n",
      "            min_impurity_decrease=0.0, min_impurity_split=None,\n",
      "            min_samples_leaf=1, min_samples_split=2,\n",
      "            min_weight_fraction_leaf=0.0, n_estimators=10, n_jobs=1,\n",
      "            oob_score=False, random_state=None, verbose=0,\n",
      "            warm_start=False)\n",
      "{}\n",
      "\n",
      "\n",
      "\n",
      "Fitting tfidf\n",
      "Scores for tfidf using bnb Classifier\n"
     ]
    },
    {
     "name": "stderr",
     "output_type": "stream",
     "text": [
      "C:\\Program Files\\Anaconda3\\lib\\site-packages\\sklearn\\utils\\validation.py:578: DataConversionWarning: A column-vector y was passed when a 1d array was expected. Please change the shape of y to (n_samples, ), for example using ravel().\n",
      "  y = column_or_1d(y, warn=True)\n"
     ]
    },
    {
     "name": "stdout",
     "output_type": "stream",
     "text": [
      "Train data: 0.8464116436060708\n",
      "BernoulliNB(alpha=0.7777777777777777, binarize=0.0, class_prior=None,\n",
      "      fit_prior=True)\n",
      "{'alpha': 0.7777777777777777}\n",
      "Test data: 0.7503949447077409\n",
      "BernoulliNB(alpha=0.7777777777777777, binarize=0.0, class_prior=None,\n",
      "      fit_prior=True)\n",
      "{'alpha': 0.7777777777777777}\n",
      "\n",
      "\n",
      "\n",
      "Scores for tfidf using mnb Classifier\n"
     ]
    },
    {
     "name": "stderr",
     "output_type": "stream",
     "text": [
      "C:\\Program Files\\Anaconda3\\lib\\site-packages\\sklearn\\utils\\validation.py:578: DataConversionWarning: A column-vector y was passed when a 1d array was expected. Please change the shape of y to (n_samples, ), for example using ravel().\n",
      "  y = column_or_1d(y, warn=True)\n"
     ]
    },
    {
     "name": "stdout",
     "output_type": "stream",
     "text": [
      "Train data: 0.8608703978551252\n",
      "MultinomialNB(alpha=0.4444444444444444, class_prior=None, fit_prior=True)\n",
      "{'alpha': 0.4444444444444444}\n",
      "Test data: 0.7492460146488582\n",
      "MultinomialNB(alpha=0.4444444444444444, class_prior=None, fit_prior=True)\n",
      "{'alpha': 0.4444444444444444}\n",
      "\n",
      "\n",
      "\n",
      "Scores for tfidf using logr Classifier\n"
     ]
    },
    {
     "name": "stderr",
     "output_type": "stream",
     "text": [
      "C:\\Program Files\\Anaconda3\\lib\\site-packages\\sklearn\\utils\\validation.py:578: DataConversionWarning: A column-vector y was passed when a 1d array was expected. Please change the shape of y to (n_samples, ), for example using ravel().\n",
      "  y = column_or_1d(y, warn=True)\n"
     ]
    },
    {
     "name": "stdout",
     "output_type": "stream",
     "text": [
      "Train data: 0.8786326423134007\n",
      "LogisticRegression(C=3.3598182862837818, class_weight=None, dual=False,\n",
      "          fit_intercept=True, intercept_scaling=1, max_iter=100,\n",
      "          multi_class='ovr', n_jobs=1, penalty='l2', random_state=None,\n",
      "          solver='liblinear', tol=0.0001, verbose=0, warm_start=False)\n",
      "{'C': 3.3598182862837818, 'penalty': 'l2'}\n",
      "Test data: 0.7511130259945425\n",
      "LogisticRegression(C=3.3598182862837818, class_weight=None, dual=False,\n",
      "          fit_intercept=True, intercept_scaling=1, max_iter=100,\n",
      "          multi_class='ovr', n_jobs=1, penalty='l2', random_state=None,\n",
      "          solver='liblinear', tol=0.0001, verbose=0, warm_start=False)\n",
      "{'C': 3.3598182862837818, 'penalty': 'l2'}\n",
      "\n",
      "\n",
      "\n",
      "Scores for tfidf using rfc Classifier\n"
     ]
    },
    {
     "name": "stderr",
     "output_type": "stream",
     "text": [
      "C:\\Program Files\\Anaconda3\\lib\\site-packages\\sklearn\\model_selection\\_search.py:739: DataConversionWarning: A column-vector y was passed when a 1d array was expected. Please change the shape of y to (n_samples,), for example using ravel().\n",
      "  self.best_estimator_.fit(X, y, **fit_params)\n"
     ]
    },
    {
     "name": "stdout",
     "output_type": "stream",
     "text": [
      "Train data: 0.9559055872073539\n",
      "RandomForestClassifier(bootstrap=True, class_weight=None, criterion='gini',\n",
      "            max_depth=None, max_features='auto', max_leaf_nodes=None,\n",
      "            min_impurity_decrease=0.0, min_impurity_split=None,\n",
      "            min_samples_leaf=1, min_samples_split=2,\n",
      "            min_weight_fraction_leaf=0.0, n_estimators=10, n_jobs=1,\n",
      "            oob_score=False, random_state=None, verbose=0,\n",
      "            warm_start=False)\n",
      "{}\n",
      "Test data: 0.7426396668102829\n",
      "RandomForestClassifier(bootstrap=True, class_weight=None, criterion='gini',\n",
      "            max_depth=None, max_features='auto', max_leaf_nodes=None,\n",
      "            min_impurity_decrease=0.0, min_impurity_split=None,\n",
      "            min_samples_leaf=1, min_samples_split=2,\n",
      "            min_weight_fraction_leaf=0.0, n_estimators=10, n_jobs=1,\n",
      "            oob_score=False, random_state=None, verbose=0,\n",
      "            warm_start=False)\n",
      "{}\n",
      "\n",
      "\n",
      "\n",
      "Fitting tfidf__max_df_of_0.25\n",
      "Scores for tfidf__max_df_of_0.25 using bnb Classifier\n"
     ]
    },
    {
     "name": "stderr",
     "output_type": "stream",
     "text": [
      "C:\\Program Files\\Anaconda3\\lib\\site-packages\\sklearn\\utils\\validation.py:578: DataConversionWarning: A column-vector y was passed when a 1d array was expected. Please change the shape of y to (n_samples, ), for example using ravel().\n",
      "  y = column_or_1d(y, warn=True)\n"
     ]
    },
    {
     "name": "stdout",
     "output_type": "stream",
     "text": [
      "Train data: 0.8420548666634748\n",
      "BernoulliNB(alpha=0.8888888888888888, binarize=0.0, class_prior=None,\n",
      "      fit_prior=True)\n",
      "{'alpha': 0.8888888888888888}\n",
      "Test data: 0.7577193738331179\n",
      "BernoulliNB(alpha=0.8888888888888888, binarize=0.0, class_prior=None,\n",
      "      fit_prior=True)\n",
      "{'alpha': 0.8888888888888888}\n",
      "\n",
      "\n",
      "\n",
      "Scores for tfidf__max_df_of_0.25 using mnb Classifier\n"
     ]
    },
    {
     "name": "stderr",
     "output_type": "stream",
     "text": [
      "C:\\Program Files\\Anaconda3\\lib\\site-packages\\sklearn\\utils\\validation.py:578: DataConversionWarning: A column-vector y was passed when a 1d array was expected. Please change the shape of y to (n_samples, ), for example using ravel().\n",
      "  y = column_or_1d(y, warn=True)\n"
     ]
    },
    {
     "name": "stdout",
     "output_type": "stream",
     "text": [
      "Train data: 0.8536888974002969\n",
      "MultinomialNB(alpha=0.6666666666666666, class_prior=None, fit_prior=True)\n",
      "{'alpha': 0.6666666666666666}\n",
      "Test data: 0.7558523624874336\n",
      "MultinomialNB(alpha=0.6666666666666666, class_prior=None, fit_prior=True)\n",
      "{'alpha': 0.6666666666666666}\n",
      "\n",
      "\n",
      "\n",
      "Scores for tfidf__max_df_of_0.25 using logr Classifier\n"
     ]
    },
    {
     "name": "stderr",
     "output_type": "stream",
     "text": [
      "C:\\Program Files\\Anaconda3\\lib\\site-packages\\sklearn\\utils\\validation.py:578: DataConversionWarning: A column-vector y was passed when a 1d array was expected. Please change the shape of y to (n_samples, ), for example using ravel().\n",
      "  y = column_or_1d(y, warn=True)\n"
     ]
    },
    {
     "name": "stdout",
     "output_type": "stream",
     "text": [
      "Train data: 0.8493799971273999\n",
      "LogisticRegression(C=1.0, class_weight=None, dual=False, fit_intercept=True,\n",
      "          intercept_scaling=1, max_iter=100, multi_class='ovr', n_jobs=1,\n",
      "          penalty='l2', random_state=None, solver='liblinear', tol=0.0001,\n",
      "          verbose=0, warm_start=False)\n",
      "{'C': 1.0, 'penalty': 'l2'}\n",
      "Test data: 0.7498204796782996\n",
      "LogisticRegression(C=1.0, class_weight=None, dual=False, fit_intercept=True,\n",
      "          intercept_scaling=1, max_iter=100, multi_class='ovr', n_jobs=1,\n",
      "          penalty='l2', random_state=None, solver='liblinear', tol=0.0001,\n",
      "          verbose=0, warm_start=False)\n",
      "{'C': 1.0, 'penalty': 'l2'}\n",
      "\n",
      "\n",
      "\n",
      "Scores for tfidf__max_df_of_0.25 using rfc Classifier\n"
     ]
    },
    {
     "name": "stderr",
     "output_type": "stream",
     "text": [
      "C:\\Program Files\\Anaconda3\\lib\\site-packages\\sklearn\\model_selection\\_search.py:739: DataConversionWarning: A column-vector y was passed when a 1d array was expected. Please change the shape of y to (n_samples,), for example using ravel().\n",
      "  self.best_estimator_.fit(X, y, **fit_params)\n"
     ]
    },
    {
     "name": "stdout",
     "output_type": "stream",
     "text": [
      "Train data: 0.9558098338679561\n",
      "RandomForestClassifier(bootstrap=True, class_weight=None, criterion='gini',\n",
      "            max_depth=None, max_features='auto', max_leaf_nodes=None,\n",
      "            min_impurity_decrease=0.0, min_impurity_split=None,\n",
      "            min_samples_leaf=1, min_samples_split=2,\n",
      "            min_weight_fraction_leaf=0.0, n_estimators=10, n_jobs=1,\n",
      "            oob_score=False, random_state=None, verbose=0,\n",
      "            warm_start=False)\n",
      "{}\n",
      "Test data: 0.7462300732442912\n",
      "RandomForestClassifier(bootstrap=True, class_weight=None, criterion='gini',\n",
      "            max_depth=None, max_features='auto', max_leaf_nodes=None,\n",
      "            min_impurity_decrease=0.0, min_impurity_split=None,\n",
      "            min_samples_leaf=1, min_samples_split=2,\n",
      "            min_weight_fraction_leaf=0.0, n_estimators=10, n_jobs=1,\n",
      "            oob_score=False, random_state=None, verbose=0,\n",
      "            warm_start=False)\n",
      "{}\n",
      "\n",
      "\n",
      "\n",
      "Fitting tfidf__n_gram_range_of_(1, 1)\n",
      "Scores for tfidf__n_gram_range_of_(1, 1) using bnb Classifier\n"
     ]
    },
    {
     "name": "stderr",
     "output_type": "stream",
     "text": [
      "C:\\Program Files\\Anaconda3\\lib\\site-packages\\sklearn\\utils\\validation.py:578: DataConversionWarning: A column-vector y was passed when a 1d array was expected. Please change the shape of y to (n_samples, ), for example using ravel().\n",
      "  y = column_or_1d(y, warn=True)\n"
     ]
    },
    {
     "name": "stdout",
     "output_type": "stream",
     "text": [
      "Train data: 0.8472255469909513\n",
      "BernoulliNB(alpha=0.5555555555555556, binarize=0.0, class_prior=None,\n",
      "      fit_prior=True)\n",
      "{'alpha': 0.5555555555555556}\n",
      "Test data: 0.7611661640097659\n",
      "BernoulliNB(alpha=0.5555555555555556, binarize=0.0, class_prior=None,\n",
      "      fit_prior=True)\n",
      "{'alpha': 0.5555555555555556}\n",
      "\n",
      "\n",
      "\n",
      "Scores for tfidf__n_gram_range_of_(1, 1) using mnb Classifier\n"
     ]
    },
    {
     "name": "stderr",
     "output_type": "stream",
     "text": [
      "C:\\Program Files\\Anaconda3\\lib\\site-packages\\sklearn\\utils\\validation.py:578: DataConversionWarning: A column-vector y was passed when a 1d array was expected. Please change the shape of y to (n_samples, ), for example using ravel().\n",
      "  y = column_or_1d(y, warn=True)\n"
     ]
    },
    {
     "name": "stdout",
     "output_type": "stream",
     "text": [
      "Train data: 0.8509120505577632\n",
      "MultinomialNB(alpha=0.7777777777777777, class_prior=None, fit_prior=True)\n",
      "{'alpha': 0.7777777777777777}\n",
      "Test data: 0.7617406290392073\n",
      "MultinomialNB(alpha=0.7777777777777777, class_prior=None, fit_prior=True)\n",
      "{'alpha': 0.7777777777777777}\n",
      "\n",
      "\n",
      "\n",
      "Scores for tfidf__n_gram_range_of_(1, 1) using logr Classifier\n"
     ]
    },
    {
     "name": "stderr",
     "output_type": "stream",
     "text": [
      "C:\\Program Files\\Anaconda3\\lib\\site-packages\\sklearn\\utils\\validation.py:578: DataConversionWarning: A column-vector y was passed when a 1d array was expected. Please change the shape of y to (n_samples, ), for example using ravel().\n",
      "  y = column_or_1d(y, warn=True)\n"
     ]
    },
    {
     "name": "stdout",
     "output_type": "stream",
     "text": [
      "Train data: 0.8756642887920716\n",
      "LogisticRegression(C=3.3598182862837818, class_weight=None, dual=False,\n",
      "          fit_intercept=True, intercept_scaling=1, max_iter=100,\n",
      "          multi_class='ovr', n_jobs=1, penalty='l2', random_state=None,\n",
      "          solver='liblinear', tol=0.0001, verbose=0, warm_start=False)\n",
      "{'C': 3.3598182862837818, 'penalty': 'l2'}\n",
      "Test data: 0.7637512566422519\n",
      "LogisticRegression(C=3.3598182862837818, class_weight=None, dual=False,\n",
      "          fit_intercept=True, intercept_scaling=1, max_iter=100,\n",
      "          multi_class='ovr', n_jobs=1, penalty='l2', random_state=None,\n",
      "          solver='liblinear', tol=0.0001, verbose=0, warm_start=False)\n",
      "{'C': 3.3598182862837818, 'penalty': 'l2'}\n",
      "\n",
      "\n",
      "\n",
      "Scores for tfidf__n_gram_range_of_(1, 1) using rfc Classifier\n"
     ]
    },
    {
     "name": "stderr",
     "output_type": "stream",
     "text": [
      "C:\\Program Files\\Anaconda3\\lib\\site-packages\\sklearn\\model_selection\\_search.py:739: DataConversionWarning: A column-vector y was passed when a 1d array was expected. Please change the shape of y to (n_samples,), for example using ravel().\n",
      "  self.best_estimator_.fit(X, y, **fit_params)\n"
     ]
    },
    {
     "name": "stdout",
     "output_type": "stream",
     "text": [
      "Train data: 0.956192847225547\n",
      "RandomForestClassifier(bootstrap=True, class_weight=None, criterion='gini',\n",
      "            max_depth=None, max_features='auto', max_leaf_nodes=None,\n",
      "            min_impurity_decrease=0.0, min_impurity_split=None,\n",
      "            min_samples_leaf=1, min_samples_split=2,\n",
      "            min_weight_fraction_leaf=0.0, n_estimators=10, n_jobs=1,\n",
      "            oob_score=False, random_state=None, verbose=0,\n",
      "            warm_start=False)\n",
      "{}\n",
      "Test data: 0.7475226195605342\n",
      "RandomForestClassifier(bootstrap=True, class_weight=None, criterion='gini',\n",
      "            max_depth=None, max_features='auto', max_leaf_nodes=None,\n",
      "            min_impurity_decrease=0.0, min_impurity_split=None,\n",
      "            min_samples_leaf=1, min_samples_split=2,\n",
      "            min_weight_fraction_leaf=0.0, n_estimators=10, n_jobs=1,\n",
      "            oob_score=False, random_state=None, verbose=0,\n",
      "            warm_start=False)\n",
      "{}\n",
      "\n",
      "\n",
      "\n",
      "Fitting tfidf__n_gram_range_of_(1, 1)_max_df_of0.25\n",
      "Scores for tfidf__n_gram_range_of_(1, 1)_max_df_of0.25 using bnb Classifier\n"
     ]
    },
    {
     "name": "stderr",
     "output_type": "stream",
     "text": [
      "C:\\Program Files\\Anaconda3\\lib\\site-packages\\sklearn\\utils\\validation.py:578: DataConversionWarning: A column-vector y was passed when a 1d array was expected. Please change the shape of y to (n_samples, ), for example using ravel().\n",
      "  y = column_or_1d(y, warn=True)\n"
     ]
    },
    {
     "name": "stdout",
     "output_type": "stream",
     "text": [
      "Train data: 0.8453583568726959\n",
      "BernoulliNB(alpha=0.6666666666666666, binarize=0.0, class_prior=None,\n",
      "      fit_prior=True)\n",
      "{'alpha': 0.6666666666666666}\n",
      "Test data: 0.7509694097371823\n",
      "BernoulliNB(alpha=0.6666666666666666, binarize=0.0, class_prior=None,\n",
      "      fit_prior=True)\n",
      "{'alpha': 0.6666666666666666}\n",
      "\n",
      "\n",
      "\n",
      "Scores for tfidf__n_gram_range_of_(1, 1)_max_df_of0.25 using mnb Classifier\n"
     ]
    },
    {
     "name": "stderr",
     "output_type": "stream",
     "text": [
      "C:\\Program Files\\Anaconda3\\lib\\site-packages\\sklearn\\utils\\validation.py:578: DataConversionWarning: A column-vector y was passed when a 1d array was expected. Please change the shape of y to (n_samples, ), for example using ravel().\n",
      "  y = column_or_1d(y, warn=True)\n"
     ]
    },
    {
     "name": "stdout",
     "output_type": "stream",
     "text": [
      "Train data: 0.8604873844975344\n",
      "MultinomialNB(alpha=0.4444444444444444, class_prior=None, fit_prior=True)\n",
      "{'alpha': 0.4444444444444444}\n",
      "Test data: 0.7499640959356599\n",
      "MultinomialNB(alpha=0.4444444444444444, class_prior=None, fit_prior=True)\n",
      "{'alpha': 0.4444444444444444}\n",
      "\n",
      "\n",
      "\n",
      "Scores for tfidf__n_gram_range_of_(1, 1)_max_df_of0.25 using logr Classifier\n"
     ]
    },
    {
     "name": "stderr",
     "output_type": "stream",
     "text": [
      "C:\\Program Files\\Anaconda3\\lib\\site-packages\\sklearn\\utils\\validation.py:578: DataConversionWarning: A column-vector y was passed when a 1d array was expected. Please change the shape of y to (n_samples, ), for example using ravel().\n",
      "  y = column_or_1d(y, warn=True)\n"
     ]
    },
    {
     "name": "stdout",
     "output_type": "stream",
     "text": [
      "Train data: 0.8517259539426437\n",
      "LogisticRegression(C=1.0, class_weight=None, dual=False, fit_intercept=True,\n",
      "          intercept_scaling=1, max_iter=100, multi_class='ovr', n_jobs=1,\n",
      "          penalty='l2', random_state=None, solver='liblinear', tol=0.0001,\n",
      "          verbose=0, warm_start=False)\n",
      "{'C': 1.0, 'penalty': 'l2'}\n",
      "Test data: 0.7535545023696683\n",
      "LogisticRegression(C=1.0, class_weight=None, dual=False, fit_intercept=True,\n",
      "          intercept_scaling=1, max_iter=100, multi_class='ovr', n_jobs=1,\n",
      "          penalty='l2', random_state=None, solver='liblinear', tol=0.0001,\n",
      "          verbose=0, warm_start=False)\n",
      "{'C': 1.0, 'penalty': 'l2'}\n",
      "\n",
      "\n",
      "\n",
      "Scores for tfidf__n_gram_range_of_(1, 1)_max_df_of0.25 using rfc Classifier\n"
     ]
    },
    {
     "name": "stderr",
     "output_type": "stream",
     "text": [
      "C:\\Program Files\\Anaconda3\\lib\\site-packages\\sklearn\\model_selection\\_search.py:739: DataConversionWarning: A column-vector y was passed when a 1d array was expected. Please change the shape of y to (n_samples,), for example using ravel().\n",
      "  self.best_estimator_.fit(X, y, **fit_params)\n"
     ]
    },
    {
     "name": "stdout",
     "output_type": "stream",
     "text": [
      "Train data: 0.957485517307416\n",
      "RandomForestClassifier(bootstrap=True, class_weight=None, criterion='gini',\n",
      "            max_depth=None, max_features='auto', max_leaf_nodes=None,\n",
      "            min_impurity_decrease=0.0, min_impurity_split=None,\n",
      "            min_samples_leaf=1, min_samples_split=2,\n",
      "            min_weight_fraction_leaf=0.0, n_estimators=10, n_jobs=1,\n",
      "            oob_score=False, random_state=None, verbose=0,\n",
      "            warm_start=False)\n",
      "{}\n",
      "Test data: 0.739623725405716\n",
      "RandomForestClassifier(bootstrap=True, class_weight=None, criterion='gini',\n",
      "            max_depth=None, max_features='auto', max_leaf_nodes=None,\n",
      "            min_impurity_decrease=0.0, min_impurity_split=None,\n",
      "            min_samples_leaf=1, min_samples_split=2,\n",
      "            min_weight_fraction_leaf=0.0, n_estimators=10, n_jobs=1,\n",
      "            oob_score=False, random_state=None, verbose=0,\n",
      "            warm_start=False)\n",
      "{}\n",
      "\n",
      "\n",
      "\n",
      "Fitting tfidf__n_gram_range_of_(1, 2)\n",
      "Scores for tfidf__n_gram_range_of_(1, 2) using bnb Classifier\n"
     ]
    },
    {
     "name": "stderr",
     "output_type": "stream",
     "text": [
      "C:\\Program Files\\Anaconda3\\lib\\site-packages\\sklearn\\utils\\validation.py:578: DataConversionWarning: A column-vector y was passed when a 1d array was expected. Please change the shape of y to (n_samples, ), for example using ravel().\n",
      "  y = column_or_1d(y, warn=True)\n"
     ]
    },
    {
     "name": "stdout",
     "output_type": "stream",
     "text": [
      "Train data: 0.91966294824532\n",
      "BernoulliNB(alpha=0.7777777777777777, binarize=0.0, class_prior=None,\n",
      "      fit_prior=True)\n",
      "{'alpha': 0.7777777777777777}\n",
      "Test data: 0.7686342093925033\n",
      "BernoulliNB(alpha=0.7777777777777777, binarize=0.0, class_prior=None,\n",
      "      fit_prior=True)\n",
      "{'alpha': 0.7777777777777777}\n",
      "\n",
      "\n",
      "\n",
      "Scores for tfidf__n_gram_range_of_(1, 2) using mnb Classifier\n"
     ]
    },
    {
     "name": "stderr",
     "output_type": "stream",
     "text": [
      "C:\\Program Files\\Anaconda3\\lib\\site-packages\\sklearn\\utils\\validation.py:578: DataConversionWarning: A column-vector y was passed when a 1d array was expected. Please change the shape of y to (n_samples, ), for example using ravel().\n",
      "  y = column_or_1d(y, warn=True)\n"
     ]
    },
    {
     "name": "stdout",
     "output_type": "stream",
     "text": [
      "Train data: 0.9443673098099297\n",
      "MultinomialNB(alpha=0.2222222222222222, class_prior=None, fit_prior=True)\n",
      "{'alpha': 0.2222222222222222}\n",
      "Test data: 0.7682033606204223\n",
      "MultinomialNB(alpha=0.2222222222222222, class_prior=None, fit_prior=True)\n",
      "{'alpha': 0.2222222222222222}\n",
      "\n",
      "\n",
      "\n",
      "Scores for tfidf__n_gram_range_of_(1, 2) using logr Classifier\n"
     ]
    },
    {
     "name": "stderr",
     "output_type": "stream",
     "text": [
      "C:\\Program Files\\Anaconda3\\lib\\site-packages\\sklearn\\utils\\validation.py:578: DataConversionWarning: A column-vector y was passed when a 1d array was expected. Please change the shape of y to (n_samples, ), for example using ravel().\n",
      "  y = column_or_1d(y, warn=True)\n"
     ]
    },
    {
     "name": "stdout",
     "output_type": "stream",
     "text": [
      "Train data: 0.9462823765978838\n",
      "LogisticRegression(C=3.3598182862837818, class_weight=None, dual=False,\n",
      "          fit_intercept=True, intercept_scaling=1, max_iter=100,\n",
      "          multi_class='ovr', n_jobs=1, penalty='l2', random_state=None,\n",
      "          solver='liblinear', tol=0.0001, verbose=0, warm_start=False)\n",
      "{'C': 3.3598182862837818, 'penalty': 'l2'}\n",
      "Test data: 0.7660491167600172\n",
      "LogisticRegression(C=3.3598182862837818, class_weight=None, dual=False,\n",
      "          fit_intercept=True, intercept_scaling=1, max_iter=100,\n",
      "          multi_class='ovr', n_jobs=1, penalty='l2', random_state=None,\n",
      "          solver='liblinear', tol=0.0001, verbose=0, warm_start=False)\n",
      "{'C': 3.3598182862837818, 'penalty': 'l2'}\n",
      "\n",
      "\n",
      "\n",
      "Scores for tfidf__n_gram_range_of_(1, 2) using rfc Classifier\n"
     ]
    },
    {
     "name": "stderr",
     "output_type": "stream",
     "text": [
      "C:\\Program Files\\Anaconda3\\lib\\site-packages\\sklearn\\model_selection\\_search.py:739: DataConversionWarning: A column-vector y was passed when a 1d array was expected. Please change the shape of y to (n_samples,), for example using ravel().\n",
      "  self.best_estimator_.fit(X, y, **fit_params)\n"
     ]
    },
    {
     "name": "stdout",
     "output_type": "stream",
     "text": [
      "Train data: 0.9563364772346435\n",
      "RandomForestClassifier(bootstrap=True, class_weight=None, criterion='gini',\n",
      "            max_depth=None, max_features='auto', max_leaf_nodes=None,\n",
      "            min_impurity_decrease=0.0, min_impurity_split=None,\n",
      "            min_samples_leaf=1, min_samples_split=2,\n",
      "            min_weight_fraction_leaf=0.0, n_estimators=10, n_jobs=1,\n",
      "            oob_score=False, random_state=None, verbose=0,\n",
      "            warm_start=False)\n",
      "{}\n",
      "Test data: 0.739192876633635\n",
      "RandomForestClassifier(bootstrap=True, class_weight=None, criterion='gini',\n",
      "            max_depth=None, max_features='auto', max_leaf_nodes=None,\n",
      "            min_impurity_decrease=0.0, min_impurity_split=None,\n",
      "            min_samples_leaf=1, min_samples_split=2,\n",
      "            min_weight_fraction_leaf=0.0, n_estimators=10, n_jobs=1,\n",
      "            oob_score=False, random_state=None, verbose=0,\n",
      "            warm_start=False)\n",
      "{}\n",
      "\n",
      "\n",
      "\n",
      "Fitting tfidf__n_gram_range_of_(1, 2)_max_df_of0.25\n",
      "Scores for tfidf__n_gram_range_of_(1, 2)_max_df_of0.25 using bnb Classifier\n"
     ]
    },
    {
     "name": "stderr",
     "output_type": "stream",
     "text": [
      "C:\\Program Files\\Anaconda3\\lib\\site-packages\\sklearn\\utils\\validation.py:578: DataConversionWarning: A column-vector y was passed when a 1d array was expected. Please change the shape of y to (n_samples, ), for example using ravel().\n",
      "  y = column_or_1d(y, warn=True)\n"
     ]
    },
    {
     "name": "stdout",
     "output_type": "stream",
     "text": [
      "Train data: 0.9295255422032843\n",
      "BernoulliNB(alpha=0.4444444444444444, binarize=0.0, class_prior=None,\n",
      "      fit_prior=True)\n",
      "{'alpha': 0.4444444444444444}\n",
      "Test data: 0.7686342093925033\n",
      "BernoulliNB(alpha=0.4444444444444444, binarize=0.0, class_prior=None,\n",
      "      fit_prior=True)\n",
      "{'alpha': 0.4444444444444444}\n",
      "\n",
      "\n",
      "\n",
      "Scores for tfidf__n_gram_range_of_(1, 2)_max_df_of0.25 using mnb Classifier\n"
     ]
    },
    {
     "name": "stderr",
     "output_type": "stream",
     "text": [
      "C:\\Program Files\\Anaconda3\\lib\\site-packages\\sklearn\\utils\\validation.py:578: DataConversionWarning: A column-vector y was passed when a 1d array was expected. Please change the shape of y to (n_samples, ), for example using ravel().\n",
      "  y = column_or_1d(y, warn=True)\n"
     ]
    },
    {
     "name": "stdout",
     "output_type": "stream",
     "text": [
      "Train data: 0.9388136161248624\n",
      "MultinomialNB(alpha=0.4444444444444444, class_prior=None, fit_prior=True)\n",
      "{'alpha': 0.4444444444444444}\n",
      "Test data: 0.7677725118483413\n",
      "MultinomialNB(alpha=0.4444444444444444, class_prior=None, fit_prior=True)\n",
      "{'alpha': 0.4444444444444444}\n",
      "\n",
      "\n",
      "\n",
      "Scores for tfidf__n_gram_range_of_(1, 2)_max_df_of0.25 using logr Classifier\n"
     ]
    },
    {
     "name": "stderr",
     "output_type": "stream",
     "text": [
      "C:\\Program Files\\Anaconda3\\lib\\site-packages\\sklearn\\utils\\validation.py:578: DataConversionWarning: A column-vector y was passed when a 1d array was expected. Please change the shape of y to (n_samples, ), for example using ravel().\n",
      "  y = column_or_1d(y, warn=True)\n"
     ]
    },
    {
     "name": "stdout",
     "output_type": "stream",
     "text": [
      "Train data: 0.9458514865705941\n",
      "LogisticRegression(C=3.3598182862837818, class_weight=None, dual=False,\n",
      "          fit_intercept=True, intercept_scaling=1, max_iter=100,\n",
      "          multi_class='ovr', n_jobs=1, penalty='l2', random_state=None,\n",
      "          solver='liblinear', tol=0.0001, verbose=0, warm_start=False)\n",
      "{'C': 3.3598182862837818, 'penalty': 'l2'}\n",
      "Test data: 0.7611661640097659\n",
      "LogisticRegression(C=3.3598182862837818, class_weight=None, dual=False,\n",
      "          fit_intercept=True, intercept_scaling=1, max_iter=100,\n",
      "          multi_class='ovr', n_jobs=1, penalty='l2', random_state=None,\n",
      "          solver='liblinear', tol=0.0001, verbose=0, warm_start=False)\n",
      "{'C': 3.3598182862837818, 'penalty': 'l2'}\n",
      "\n",
      "\n",
      "\n",
      "Scores for tfidf__n_gram_range_of_(1, 2)_max_df_of0.25 using rfc Classifier\n"
     ]
    },
    {
     "name": "stderr",
     "output_type": "stream",
     "text": [
      "C:\\Program Files\\Anaconda3\\lib\\site-packages\\sklearn\\model_selection\\_search.py:739: DataConversionWarning: A column-vector y was passed when a 1d array was expected. Please change the shape of y to (n_samples,), for example using ravel().\n",
      "  self.best_estimator_.fit(X, y, **fit_params)\n"
     ]
    },
    {
     "name": "stdout",
     "output_type": "stream",
     "text": [
      "Train data: 0.9580121606741036\n",
      "RandomForestClassifier(bootstrap=True, class_weight=None, criterion='gini',\n",
      "            max_depth=None, max_features='auto', max_leaf_nodes=None,\n",
      "            min_impurity_decrease=0.0, min_impurity_split=None,\n",
      "            min_samples_leaf=1, min_samples_split=2,\n",
      "            min_weight_fraction_leaf=0.0, n_estimators=10, n_jobs=1,\n",
      "            oob_score=False, random_state=None, verbose=0,\n",
      "            warm_start=False)\n",
      "{}\n",
      "Test data: 0.7420652017808416\n",
      "RandomForestClassifier(bootstrap=True, class_weight=None, criterion='gini',\n",
      "            max_depth=None, max_features='auto', max_leaf_nodes=None,\n",
      "            min_impurity_decrease=0.0, min_impurity_split=None,\n",
      "            min_samples_leaf=1, min_samples_split=2,\n",
      "            min_weight_fraction_leaf=0.0, n_estimators=10, n_jobs=1,\n",
      "            oob_score=False, random_state=None, verbose=0,\n",
      "            warm_start=False)\n",
      "{}\n",
      "\n",
      "\n",
      "\n",
      "Fitting tfidf__n_gram_range_of_(1, 3)\n",
      "Scores for tfidf__n_gram_range_of_(1, 3) using bnb Classifier\n"
     ]
    },
    {
     "name": "stderr",
     "output_type": "stream",
     "text": [
      "C:\\Program Files\\Anaconda3\\lib\\site-packages\\sklearn\\utils\\validation.py:578: DataConversionWarning: A column-vector y was passed when a 1d array was expected. Please change the shape of y to (n_samples, ), for example using ravel().\n",
      "  y = column_or_1d(y, warn=True)\n"
     ]
    },
    {
     "name": "stdout",
     "output_type": "stream",
     "text": [
      "Train data: 0.9323981423852157\n",
      "BernoulliNB(alpha=0.6666666666666666, binarize=0.0, class_prior=None,\n",
      "      fit_prior=True)\n",
      "{'alpha': 0.6666666666666666}\n",
      "Test data: 0.7722246158265116\n",
      "BernoulliNB(alpha=0.6666666666666666, binarize=0.0, class_prior=None,\n",
      "      fit_prior=True)\n",
      "{'alpha': 0.6666666666666666}\n",
      "\n",
      "\n",
      "\n",
      "Scores for tfidf__n_gram_range_of_(1, 3) using mnb Classifier\n"
     ]
    },
    {
     "name": "stderr",
     "output_type": "stream",
     "text": [
      "C:\\Program Files\\Anaconda3\\lib\\site-packages\\sklearn\\utils\\validation.py:578: DataConversionWarning: A column-vector y was passed when a 1d array was expected. Please change the shape of y to (n_samples, ), for example using ravel().\n",
      "  y = column_or_1d(y, warn=True)\n"
     ]
    },
    {
     "name": "stdout",
     "output_type": "stream",
     "text": [
      "Train data: 0.9514051802556615\n",
      "MultinomialNB(alpha=0.2222222222222222, class_prior=None, fit_prior=True)\n",
      "{'alpha': 0.2222222222222222}\n",
      "Test data: 0.7667671980468189\n",
      "MultinomialNB(alpha=0.2222222222222222, class_prior=None, fit_prior=True)\n",
      "{'alpha': 0.2222222222222222}\n",
      "\n",
      "\n",
      "\n",
      "Scores for tfidf__n_gram_range_of_(1, 3) using logr Classifier\n"
     ]
    },
    {
     "name": "stderr",
     "output_type": "stream",
     "text": [
      "C:\\Program Files\\Anaconda3\\lib\\site-packages\\sklearn\\utils\\validation.py:578: DataConversionWarning: A column-vector y was passed when a 1d array was expected. Please change the shape of y to (n_samples, ), for example using ravel().\n",
      "  y = column_or_1d(y, warn=True)\n"
     ]
    },
    {
     "name": "stdout",
     "output_type": "stream",
     "text": [
      "Train data: 0.9530329870254225\n",
      "LogisticRegression(C=3.3598182862837818, class_weight=None, dual=False,\n",
      "          fit_intercept=True, intercept_scaling=1, max_iter=100,\n",
      "          multi_class='ovr', n_jobs=1, penalty='l2', random_state=None,\n",
      "          solver='liblinear', tol=0.0001, verbose=0, warm_start=False)\n",
      "{'C': 3.3598182862837818, 'penalty': 'l2'}\n",
      "Test data: 0.7684905931351429\n",
      "LogisticRegression(C=3.3598182862837818, class_weight=None, dual=False,\n",
      "          fit_intercept=True, intercept_scaling=1, max_iter=100,\n",
      "          multi_class='ovr', n_jobs=1, penalty='l2', random_state=None,\n",
      "          solver='liblinear', tol=0.0001, verbose=0, warm_start=False)\n",
      "{'C': 3.3598182862837818, 'penalty': 'l2'}\n",
      "\n",
      "\n",
      "\n",
      "Scores for tfidf__n_gram_range_of_(1, 3) using rfc Classifier\n"
     ]
    },
    {
     "name": "stderr",
     "output_type": "stream",
     "text": [
      "C:\\Program Files\\Anaconda3\\lib\\site-packages\\sklearn\\model_selection\\_search.py:739: DataConversionWarning: A column-vector y was passed when a 1d array was expected. Please change the shape of y to (n_samples,), for example using ravel().\n",
      "  self.best_estimator_.fit(X, y, **fit_params)\n"
     ]
    },
    {
     "name": "stdout",
     "output_type": "stream",
     "text": [
      "Train data: 0.9576770239862116\n",
      "RandomForestClassifier(bootstrap=True, class_weight=None, criterion='gini',\n",
      "            max_depth=None, max_features='auto', max_leaf_nodes=None,\n",
      "            min_impurity_decrease=0.0, min_impurity_split=None,\n",
      "            min_samples_leaf=1, min_samples_split=2,\n",
      "            min_weight_fraction_leaf=0.0, n_estimators=10, n_jobs=1,\n",
      "            oob_score=False, random_state=None, verbose=0,\n",
      "            warm_start=False)\n",
      "{}\n",
      "Test data: 0.7498204796782996\n",
      "RandomForestClassifier(bootstrap=True, class_weight=None, criterion='gini',\n",
      "            max_depth=None, max_features='auto', max_leaf_nodes=None,\n",
      "            min_impurity_decrease=0.0, min_impurity_split=None,\n",
      "            min_samples_leaf=1, min_samples_split=2,\n",
      "            min_weight_fraction_leaf=0.0, n_estimators=10, n_jobs=1,\n",
      "            oob_score=False, random_state=None, verbose=0,\n",
      "            warm_start=False)\n",
      "{}\n",
      "\n",
      "\n",
      "\n",
      "Fitting tfidf__n_gram_range_of_(1, 3)_max_df_of0.25\n",
      "Scores for tfidf__n_gram_range_of_(1, 3)_max_df_of0.25 using bnb Classifier\n"
     ]
    },
    {
     "name": "stderr",
     "output_type": "stream",
     "text": [
      "C:\\Program Files\\Anaconda3\\lib\\site-packages\\sklearn\\utils\\validation.py:578: DataConversionWarning: A column-vector y was passed when a 1d array was expected. Please change the shape of y to (n_samples, ), for example using ravel().\n",
      "  y = column_or_1d(y, warn=True)\n"
     ]
    },
    {
     "name": "stdout",
     "output_type": "stream",
     "text": [
      "Train data: 0.9339301958155791\n",
      "BernoulliNB(alpha=0.5555555555555556, binarize=0.0, class_prior=None,\n",
      "      fit_prior=True)\n",
      "{'alpha': 0.5555555555555556}\n",
      "Test data: 0.7689214419072239\n",
      "BernoulliNB(alpha=0.5555555555555556, binarize=0.0, class_prior=None,\n",
      "      fit_prior=True)\n",
      "{'alpha': 0.5555555555555556}\n",
      "\n",
      "\n",
      "\n",
      "Scores for tfidf__n_gram_range_of_(1, 3)_max_df_of0.25 using mnb Classifier\n"
     ]
    },
    {
     "name": "stderr",
     "output_type": "stream",
     "text": [
      "C:\\Program Files\\Anaconda3\\lib\\site-packages\\sklearn\\utils\\validation.py:578: DataConversionWarning: A column-vector y was passed when a 1d array was expected. Please change the shape of y to (n_samples, ), for example using ravel().\n",
      "  y = column_or_1d(y, warn=True)\n"
     ]
    },
    {
     "name": "stdout",
     "output_type": "stream",
     "text": [
      "Train data: 0.9500167568343946\n",
      "MultinomialNB(alpha=0.3333333333333333, class_prior=None, fit_prior=True)\n",
      "{'alpha': 0.3333333333333333}\n",
      "Test data: 0.7673416630762603\n",
      "MultinomialNB(alpha=0.3333333333333333, class_prior=None, fit_prior=True)\n",
      "{'alpha': 0.3333333333333333}\n",
      "\n",
      "\n",
      "\n",
      "Scores for tfidf__n_gram_range_of_(1, 3)_max_df_of0.25 using logr Classifier\n"
     ]
    },
    {
     "name": "stderr",
     "output_type": "stream",
     "text": [
      "C:\\Program Files\\Anaconda3\\lib\\site-packages\\sklearn\\utils\\validation.py:578: DataConversionWarning: A column-vector y was passed when a 1d array was expected. Please change the shape of y to (n_samples, ), for example using ravel().\n",
      "  y = column_or_1d(y, warn=True)\n"
     ]
    },
    {
     "name": "stdout",
     "output_type": "stream",
     "text": [
      "Train data: 0.9534160003830133\n",
      "LogisticRegression(C=3.3598182862837818, class_weight=None, dual=False,\n",
      "          fit_intercept=True, intercept_scaling=1, max_iter=100,\n",
      "          multi_class='ovr', n_jobs=1, penalty='l2', random_state=None,\n",
      "          solver='liblinear', tol=0.0001, verbose=0, warm_start=False)\n",
      "{'C': 3.3598182862837818, 'penalty': 'l2'}\n",
      "Test data: 0.7651874192158552\n",
      "LogisticRegression(C=3.3598182862837818, class_weight=None, dual=False,\n",
      "          fit_intercept=True, intercept_scaling=1, max_iter=100,\n",
      "          multi_class='ovr', n_jobs=1, penalty='l2', random_state=None,\n",
      "          solver='liblinear', tol=0.0001, verbose=0, warm_start=False)\n",
      "{'C': 3.3598182862837818, 'penalty': 'l2'}\n",
      "\n",
      "\n",
      "\n",
      "Scores for tfidf__n_gram_range_of_(1, 3)_max_df_of0.25 using rfc Classifier\n"
     ]
    },
    {
     "name": "stderr",
     "output_type": "stream",
     "text": [
      "C:\\Program Files\\Anaconda3\\lib\\site-packages\\sklearn\\model_selection\\_search.py:739: DataConversionWarning: A column-vector y was passed when a 1d array was expected. Please change the shape of y to (n_samples,), for example using ravel().\n",
      "  self.best_estimator_.fit(X, y, **fit_params)\n"
     ]
    },
    {
     "name": "stdout",
     "output_type": "stream",
     "text": [
      "Train data: 0.9584430507013932\n",
      "RandomForestClassifier(bootstrap=True, class_weight=None, criterion='gini',\n",
      "            max_depth=None, max_features='auto', max_leaf_nodes=None,\n",
      "            min_impurity_decrease=0.0, min_impurity_split=None,\n",
      "            min_samples_leaf=1, min_samples_split=2,\n",
      "            min_weight_fraction_leaf=0.0, n_estimators=10, n_jobs=1,\n",
      "            oob_score=False, random_state=None, verbose=0,\n",
      "            warm_start=False)\n",
      "{}\n",
      "Test data: 0.740485422949878\n",
      "RandomForestClassifier(bootstrap=True, class_weight=None, criterion='gini',\n",
      "            max_depth=None, max_features='auto', max_leaf_nodes=None,\n",
      "            min_impurity_decrease=0.0, min_impurity_split=None,\n",
      "            min_samples_leaf=1, min_samples_split=2,\n",
      "            min_weight_fraction_leaf=0.0, n_estimators=10, n_jobs=1,\n",
      "            oob_score=False, random_state=None, verbose=0,\n",
      "            warm_start=False)\n",
      "{}\n",
      "\n",
      "\n",
      "\n",
      "Fitting tfidf__n_gram_range_of_(1, 4)\n",
      "Scores for tfidf__n_gram_range_of_(1, 4) using bnb Classifier\n"
     ]
    },
    {
     "name": "stderr",
     "output_type": "stream",
     "text": [
      "C:\\Program Files\\Anaconda3\\lib\\site-packages\\sklearn\\utils\\validation.py:578: DataConversionWarning: A column-vector y was passed when a 1d array was expected. Please change the shape of y to (n_samples, ), for example using ravel().\n",
      "  y = column_or_1d(y, warn=True)\n"
     ]
    },
    {
     "name": "stdout",
     "output_type": "stream",
     "text": [
      "Train data: 0.9339301958155791\n",
      "BernoulliNB(alpha=0.5555555555555556, binarize=0.0, class_prior=None,\n",
      "      fit_prior=True)\n",
      "{'alpha': 0.5555555555555556}\n",
      "Test data: 0.7601608502082435\n",
      "BernoulliNB(alpha=0.5555555555555556, binarize=0.0, class_prior=None,\n",
      "      fit_prior=True)\n",
      "{'alpha': 0.5555555555555556}\n",
      "\n",
      "\n",
      "\n",
      "Scores for tfidf__n_gram_range_of_(1, 4) using mnb Classifier\n"
     ]
    },
    {
     "name": "stderr",
     "output_type": "stream",
     "text": [
      "C:\\Program Files\\Anaconda3\\lib\\site-packages\\sklearn\\utils\\validation.py:578: DataConversionWarning: A column-vector y was passed when a 1d array was expected. Please change the shape of y to (n_samples, ), for example using ravel().\n",
      "  y = column_or_1d(y, warn=True)\n"
     ]
    },
    {
     "name": "stdout",
     "output_type": "stream",
     "text": [
      "Train data: 0.9499688801646957\n",
      "MultinomialNB(alpha=0.3333333333333333, class_prior=None, fit_prior=True)\n",
      "{'alpha': 0.3333333333333333}\n",
      "Test data: 0.7786873474077266\n",
      "MultinomialNB(alpha=0.3333333333333333, class_prior=None, fit_prior=True)\n",
      "{'alpha': 0.3333333333333333}\n",
      "\n",
      "\n",
      "\n",
      "Scores for tfidf__n_gram_range_of_(1, 4) using logr Classifier\n"
     ]
    },
    {
     "name": "stderr",
     "output_type": "stream",
     "text": [
      "C:\\Program Files\\Anaconda3\\lib\\site-packages\\sklearn\\utils\\validation.py:578: DataConversionWarning: A column-vector y was passed when a 1d array was expected. Please change the shape of y to (n_samples, ), for example using ravel().\n",
      "  y = column_or_1d(y, warn=True)\n"
     ]
    },
    {
     "name": "stdout",
     "output_type": "stream",
     "text": [
      "Train data: 0.9532244937042179\n",
      "LogisticRegression(C=3.3598182862837818, class_weight=None, dual=False,\n",
      "          fit_intercept=True, intercept_scaling=1, max_iter=100,\n",
      "          multi_class='ovr', n_jobs=1, penalty='l2', random_state=None,\n",
      "          solver='liblinear', tol=0.0001, verbose=0, warm_start=False)\n",
      "{'C': 3.3598182862837818, 'penalty': 'l2'}\n",
      "Test data: 0.7792618124371679\n",
      "LogisticRegression(C=3.3598182862837818, class_weight=None, dual=False,\n",
      "          fit_intercept=True, intercept_scaling=1, max_iter=100,\n",
      "          multi_class='ovr', n_jobs=1, penalty='l2', random_state=None,\n",
      "          solver='liblinear', tol=0.0001, verbose=0, warm_start=False)\n",
      "{'C': 3.3598182862837818, 'penalty': 'l2'}\n",
      "\n",
      "\n",
      "\n",
      "Scores for tfidf__n_gram_range_of_(1, 4) using rfc Classifier\n"
     ]
    },
    {
     "name": "stderr",
     "output_type": "stream",
     "text": [
      "C:\\Program Files\\Anaconda3\\lib\\site-packages\\sklearn\\model_selection\\_search.py:739: DataConversionWarning: A column-vector y was passed when a 1d array was expected. Please change the shape of y to (n_samples,), for example using ravel().\n",
      "  self.best_estimator_.fit(X, y, **fit_params)\n"
     ]
    },
    {
     "name": "stdout",
     "output_type": "stream",
     "text": [
      "Train data: 0.9584430507013932\n",
      "RandomForestClassifier(bootstrap=True, class_weight=None, criterion='gini',\n",
      "            max_depth=None, max_features='auto', max_leaf_nodes=None,\n",
      "            min_impurity_decrease=0.0, min_impurity_split=None,\n",
      "            min_samples_leaf=1, min_samples_split=2,\n",
      "            min_weight_fraction_leaf=0.0, n_estimators=10, n_jobs=1,\n",
      "            oob_score=False, random_state=None, verbose=0,\n",
      "            warm_start=False)\n",
      "{}\n",
      "Test data: 0.7447939106706879\n",
      "RandomForestClassifier(bootstrap=True, class_weight=None, criterion='gini',\n",
      "            max_depth=None, max_features='auto', max_leaf_nodes=None,\n",
      "            min_impurity_decrease=0.0, min_impurity_split=None,\n",
      "            min_samples_leaf=1, min_samples_split=2,\n",
      "            min_weight_fraction_leaf=0.0, n_estimators=10, n_jobs=1,\n",
      "            oob_score=False, random_state=None, verbose=0,\n",
      "            warm_start=False)\n",
      "{}\n",
      "\n",
      "\n",
      "\n",
      "Fitting tfidf__n_gram_range_of_(1, 4)_max_df_of0.25\n",
      "Scores for tfidf__n_gram_range_of_(1, 4)_max_df_of0.25 using bnb Classifier\n"
     ]
    },
    {
     "name": "stderr",
     "output_type": "stream",
     "text": [
      "C:\\Program Files\\Anaconda3\\lib\\site-packages\\sklearn\\utils\\validation.py:578: DataConversionWarning: A column-vector y was passed when a 1d array was expected. Please change the shape of y to (n_samples, ), for example using ravel().\n",
      "  y = column_or_1d(y, warn=True)\n"
     ]
    },
    {
     "name": "stdout",
     "output_type": "stream",
     "text": [
      "Train data: 0.9338823191458802\n",
      "BernoulliNB(alpha=0.5555555555555556, binarize=0.0, class_prior=None,\n",
      "      fit_prior=True)\n",
      "{'alpha': 0.5555555555555556}\n",
      "Test data: 0.772799080855953\n",
      "BernoulliNB(alpha=0.5555555555555556, binarize=0.0, class_prior=None,\n",
      "      fit_prior=True)\n",
      "{'alpha': 0.5555555555555556}\n",
      "\n",
      "\n",
      "\n",
      "Scores for tfidf__n_gram_range_of_(1, 4)_max_df_of0.25 using mnb Classifier\n"
     ]
    },
    {
     "name": "stderr",
     "output_type": "stream",
     "text": [
      "C:\\Program Files\\Anaconda3\\lib\\site-packages\\sklearn\\utils\\validation.py:578: DataConversionWarning: A column-vector y was passed when a 1d array was expected. Please change the shape of y to (n_samples, ), for example using ravel().\n",
      "  y = column_or_1d(y, warn=True)\n"
     ]
    },
    {
     "name": "stdout",
     "output_type": "stream",
     "text": [
      "Train data: 0.9514051802556615\n",
      "MultinomialNB(alpha=0.3333333333333333, class_prior=None, fit_prior=True)\n",
      "{'alpha': 0.3333333333333333}\n",
      "Test data: 0.7723682320838718\n",
      "MultinomialNB(alpha=0.3333333333333333, class_prior=None, fit_prior=True)\n",
      "{'alpha': 0.3333333333333333}\n",
      "\n",
      "\n",
      "\n",
      "Scores for tfidf__n_gram_range_of_(1, 4)_max_df_of0.25 using logr Classifier\n"
     ]
    },
    {
     "name": "stderr",
     "output_type": "stream",
     "text": [
      "C:\\Program Files\\Anaconda3\\lib\\site-packages\\sklearn\\utils\\validation.py:578: DataConversionWarning: A column-vector y was passed when a 1d array was expected. Please change the shape of y to (n_samples, ), for example using ravel().\n",
      "  y = column_or_1d(y, warn=True)\n"
     ]
    },
    {
     "name": "stdout",
     "output_type": "stream",
     "text": [
      "Train data: 0.9540862737587973\n",
      "LogisticRegression(C=3.3598182862837818, class_weight=None, dual=False,\n",
      "          fit_intercept=True, intercept_scaling=1, max_iter=100,\n",
      "          multi_class='ovr', n_jobs=1, penalty='l2', random_state=None,\n",
      "          solver='liblinear', tol=0.0001, verbose=0, warm_start=False)\n",
      "{'C': 3.3598182862837818, 'penalty': 'l2'}\n",
      "Test data: 0.7707884532529082\n",
      "LogisticRegression(C=3.3598182862837818, class_weight=None, dual=False,\n",
      "          fit_intercept=True, intercept_scaling=1, max_iter=100,\n",
      "          multi_class='ovr', n_jobs=1, penalty='l2', random_state=None,\n",
      "          solver='liblinear', tol=0.0001, verbose=0, warm_start=False)\n",
      "{'C': 3.3598182862837818, 'penalty': 'l2'}\n",
      "\n",
      "\n",
      "\n",
      "Scores for tfidf__n_gram_range_of_(1, 4)_max_df_of0.25 using rfc Classifier\n"
     ]
    },
    {
     "name": "stderr",
     "output_type": "stream",
     "text": [
      "C:\\Program Files\\Anaconda3\\lib\\site-packages\\sklearn\\model_selection\\_search.py:739: DataConversionWarning: A column-vector y was passed when a 1d array was expected. Please change the shape of y to (n_samples,), for example using ravel().\n",
      "  self.best_estimator_.fit(X, y, **fit_params)\n"
     ]
    },
    {
     "name": "stdout",
     "output_type": "stream",
     "text": [
      "Train data: 0.9586824340498875\n",
      "RandomForestClassifier(bootstrap=True, class_weight=None, criterion='gini',\n",
      "            max_depth=None, max_features='auto', max_leaf_nodes=None,\n",
      "            min_impurity_decrease=0.0, min_impurity_split=None,\n",
      "            min_samples_leaf=1, min_samples_split=2,\n",
      "            min_weight_fraction_leaf=0.0, n_estimators=10, n_jobs=1,\n",
      "            oob_score=False, random_state=None, verbose=0,\n",
      "            warm_start=False)\n",
      "{}\n",
      "Test data: 0.7449375269280483\n",
      "RandomForestClassifier(bootstrap=True, class_weight=None, criterion='gini',\n",
      "            max_depth=None, max_features='auto', max_leaf_nodes=None,\n",
      "            min_impurity_decrease=0.0, min_impurity_split=None,\n",
      "            min_samples_leaf=1, min_samples_split=2,\n",
      "            min_weight_fraction_leaf=0.0, n_estimators=10, n_jobs=1,\n",
      "            oob_score=False, random_state=None, verbose=0,\n",
      "            warm_start=False)\n",
      "{}\n",
      "\n",
      "\n",
      "\n",
      "Fitting tfidf__max_df_of_0.5\n",
      "Scores for tfidf__max_df_of_0.5 using bnb Classifier\n"
     ]
    },
    {
     "name": "stderr",
     "output_type": "stream",
     "text": [
      "C:\\Program Files\\Anaconda3\\lib\\site-packages\\sklearn\\utils\\validation.py:578: DataConversionWarning: A column-vector y was passed when a 1d array was expected. Please change the shape of y to (n_samples, ), for example using ravel().\n",
      "  y = column_or_1d(y, warn=True)\n"
     ]
    },
    {
     "name": "stdout",
     "output_type": "stream",
     "text": [
      "Train data: 0.8501460238425815\n",
      "BernoulliNB(alpha=0.6666666666666666, binarize=0.0, class_prior=None,\n",
      "      fit_prior=True)\n",
      "{'alpha': 0.6666666666666666}\n",
      "Test data: 0.7501077121930203\n",
      "BernoulliNB(alpha=0.6666666666666666, binarize=0.0, class_prior=None,\n",
      "      fit_prior=True)\n",
      "{'alpha': 0.6666666666666666}\n",
      "\n",
      "\n",
      "\n",
      "Scores for tfidf__max_df_of_0.5 using mnb Classifier\n"
     ]
    },
    {
     "name": "stderr",
     "output_type": "stream",
     "text": [
      "C:\\Program Files\\Anaconda3\\lib\\site-packages\\sklearn\\utils\\validation.py:578: DataConversionWarning: A column-vector y was passed when a 1d array was expected. Please change the shape of y to (n_samples, ), for example using ravel().\n",
      "  y = column_or_1d(y, warn=True)\n"
     ]
    },
    {
     "name": "stdout",
     "output_type": "stream",
     "text": [
      "Train data: 0.8512471872456552\n",
      "MultinomialNB(alpha=0.8888888888888888, class_prior=None, fit_prior=True)\n",
      "{'alpha': 0.8888888888888888}\n",
      "Test data: 0.7479534683326152\n",
      "MultinomialNB(alpha=0.8888888888888888, class_prior=None, fit_prior=True)\n",
      "{'alpha': 0.8888888888888888}\n",
      "\n",
      "\n",
      "\n",
      "Scores for tfidf__max_df_of_0.5 using logr Classifier\n"
     ]
    },
    {
     "name": "stderr",
     "output_type": "stream",
     "text": [
      "C:\\Program Files\\Anaconda3\\lib\\site-packages\\sklearn\\utils\\validation.py:578: DataConversionWarning: A column-vector y was passed when a 1d array was expected. Please change the shape of y to (n_samples, ), for example using ravel().\n",
      "  y = column_or_1d(y, warn=True)\n"
     ]
    },
    {
     "name": "stdout",
     "output_type": "stream",
     "text": [
      "Train data: 0.8532580073730072\n",
      "LogisticRegression(C=1.0, class_weight=None, dual=False, fit_intercept=True,\n",
      "          intercept_scaling=1, max_iter=100, multi_class='ovr', n_jobs=1,\n",
      "          penalty='l2', random_state=None, solver='liblinear', tol=0.0001,\n",
      "          verbose=0, warm_start=False)\n",
      "{'C': 1.0, 'penalty': 'l2'}\n",
      "Test data: 0.7496768634209392\n",
      "LogisticRegression(C=1.0, class_weight=None, dual=False, fit_intercept=True,\n",
      "          intercept_scaling=1, max_iter=100, multi_class='ovr', n_jobs=1,\n",
      "          penalty='l2', random_state=None, solver='liblinear', tol=0.0001,\n",
      "          verbose=0, warm_start=False)\n",
      "{'C': 1.0, 'penalty': 'l2'}\n",
      "\n",
      "\n",
      "\n",
      "Scores for tfidf__max_df_of_0.5 using rfc Classifier\n"
     ]
    },
    {
     "name": "stderr",
     "output_type": "stream",
     "text": [
      "C:\\Program Files\\Anaconda3\\lib\\site-packages\\sklearn\\model_selection\\_search.py:739: DataConversionWarning: A column-vector y was passed when a 1d array was expected. Please change the shape of y to (n_samples,), for example using ravel().\n",
      "  self.best_estimator_.fit(X, y, **fit_params)\n"
     ]
    },
    {
     "name": "stdout",
     "output_type": "stream",
     "text": [
      "Train data: 0.9569109972710298\n",
      "RandomForestClassifier(bootstrap=True, class_weight=None, criterion='gini',\n",
      "            max_depth=None, max_features='auto', max_leaf_nodes=None,\n",
      "            min_impurity_decrease=0.0, min_impurity_split=None,\n",
      "            min_samples_leaf=1, min_samples_split=2,\n",
      "            min_weight_fraction_leaf=0.0, n_estimators=10, n_jobs=1,\n",
      "            oob_score=False, random_state=None, verbose=0,\n",
      "            warm_start=False)\n",
      "{}\n",
      "Test data: 0.7394801091483556\n",
      "RandomForestClassifier(bootstrap=True, class_weight=None, criterion='gini',\n",
      "            max_depth=None, max_features='auto', max_leaf_nodes=None,\n",
      "            min_impurity_decrease=0.0, min_impurity_split=None,\n",
      "            min_samples_leaf=1, min_samples_split=2,\n",
      "            min_weight_fraction_leaf=0.0, n_estimators=10, n_jobs=1,\n",
      "            oob_score=False, random_state=None, verbose=0,\n",
      "            warm_start=False)\n",
      "{}\n",
      "\n",
      "\n",
      "\n",
      "Fitting tfidf__n_gram_range_of_(1, 1)_max_df_of0.5\n",
      "Scores for tfidf__n_gram_range_of_(1, 1)_max_df_of0.5 using bnb Classifier\n"
     ]
    },
    {
     "name": "stderr",
     "output_type": "stream",
     "text": [
      "C:\\Program Files\\Anaconda3\\lib\\site-packages\\sklearn\\utils\\validation.py:578: DataConversionWarning: A column-vector y was passed when a 1d array was expected. Please change the shape of y to (n_samples, ), for example using ravel().\n",
      "  y = column_or_1d(y, warn=True)\n"
     ]
    },
    {
     "name": "stdout",
     "output_type": "stream",
     "text": [
      "Train data: 0.8481352037152295\n",
      "BernoulliNB(alpha=0.5555555555555556, binarize=0.0, class_prior=None,\n",
      "      fit_prior=True)\n",
      "{'alpha': 0.5555555555555556}\n",
      "Test data: 0.7581502226051989\n",
      "BernoulliNB(alpha=0.5555555555555556, binarize=0.0, class_prior=None,\n",
      "      fit_prior=True)\n",
      "{'alpha': 0.5555555555555556}\n",
      "\n",
      "\n",
      "\n",
      "Scores for tfidf__n_gram_range_of_(1, 1)_max_df_of0.5 using mnb Classifier\n"
     ]
    },
    {
     "name": "stderr",
     "output_type": "stream",
     "text": [
      "C:\\Program Files\\Anaconda3\\lib\\site-packages\\sklearn\\utils\\validation.py:578: DataConversionWarning: A column-vector y was passed when a 1d array was expected. Please change the shape of y to (n_samples, ), for example using ravel().\n",
      "  y = column_or_1d(y, warn=True)\n"
     ]
    },
    {
     "name": "stdout",
     "output_type": "stream",
     "text": [
      "Train data: 0.8584765643701824\n",
      "MultinomialNB(alpha=0.4444444444444444, class_prior=None, fit_prior=True)\n",
      "{'alpha': 0.4444444444444444}\n",
      "Test data: 0.7582938388625592\n",
      "MultinomialNB(alpha=0.4444444444444444, class_prior=None, fit_prior=True)\n",
      "{'alpha': 0.4444444444444444}\n",
      "\n",
      "\n",
      "\n",
      "Scores for tfidf__n_gram_range_of_(1, 1)_max_df_of0.5 using logr Classifier\n"
     ]
    },
    {
     "name": "stderr",
     "output_type": "stream",
     "text": [
      "C:\\Program Files\\Anaconda3\\lib\\site-packages\\sklearn\\utils\\validation.py:578: DataConversionWarning: A column-vector y was passed when a 1d array was expected. Please change the shape of y to (n_samples, ), for example using ravel().\n",
      "  y = column_or_1d(y, warn=True)\n"
     ]
    },
    {
     "name": "stdout",
     "output_type": "stream",
     "text": [
      "Train data: 0.8493799971273999\n",
      "LogisticRegression(C=1.0, class_weight=None, dual=False, fit_intercept=True,\n",
      "          intercept_scaling=1, max_iter=100, multi_class='ovr', n_jobs=1,\n",
      "          penalty='l2', random_state=None, solver='liblinear', tol=0.0001,\n",
      "          verbose=0, warm_start=False)\n",
      "{'C': 1.0, 'penalty': 'l2'}\n",
      "Test data: 0.7610225477524055\n",
      "LogisticRegression(C=1.0, class_weight=None, dual=False, fit_intercept=True,\n",
      "          intercept_scaling=1, max_iter=100, multi_class='ovr', n_jobs=1,\n",
      "          penalty='l2', random_state=None, solver='liblinear', tol=0.0001,\n",
      "          verbose=0, warm_start=False)\n",
      "{'C': 1.0, 'penalty': 'l2'}\n",
      "\n",
      "\n",
      "\n",
      "Scores for tfidf__n_gram_range_of_(1, 1)_max_df_of0.5 using rfc Classifier\n"
     ]
    },
    {
     "name": "stderr",
     "output_type": "stream",
     "text": [
      "C:\\Program Files\\Anaconda3\\lib\\site-packages\\sklearn\\model_selection\\_search.py:739: DataConversionWarning: A column-vector y was passed when a 1d array was expected. Please change the shape of y to (n_samples,), for example using ravel().\n",
      "  self.best_estimator_.fit(X, y, **fit_params)\n"
     ]
    },
    {
     "name": "stdout",
     "output_type": "stream",
     "text": [
      "Train data: 0.9563843539043424\n",
      "RandomForestClassifier(bootstrap=True, class_weight=None, criterion='gini',\n",
      "            max_depth=None, max_features='auto', max_leaf_nodes=None,\n",
      "            min_impurity_decrease=0.0, min_impurity_split=None,\n",
      "            min_samples_leaf=1, min_samples_split=2,\n",
      "            min_weight_fraction_leaf=0.0, n_estimators=10, n_jobs=1,\n",
      "            oob_score=False, random_state=None, verbose=0,\n",
      "            warm_start=False)\n",
      "{}\n",
      "Test data: 0.7446502944133276\n",
      "RandomForestClassifier(bootstrap=True, class_weight=None, criterion='gini',\n",
      "            max_depth=None, max_features='auto', max_leaf_nodes=None,\n",
      "            min_impurity_decrease=0.0, min_impurity_split=None,\n",
      "            min_samples_leaf=1, min_samples_split=2,\n",
      "            min_weight_fraction_leaf=0.0, n_estimators=10, n_jobs=1,\n",
      "            oob_score=False, random_state=None, verbose=0,\n",
      "            warm_start=False)\n",
      "{}\n",
      "\n",
      "\n",
      "\n",
      "Fitting tfidf__n_gram_range_of_(1, 2)_max_df_of0.5\n",
      "Scores for tfidf__n_gram_range_of_(1, 2)_max_df_of0.5 using bnb Classifier\n"
     ]
    },
    {
     "name": "stderr",
     "output_type": "stream",
     "text": [
      "C:\\Program Files\\Anaconda3\\lib\\site-packages\\sklearn\\utils\\validation.py:578: DataConversionWarning: A column-vector y was passed when a 1d array was expected. Please change the shape of y to (n_samples, ), for example using ravel().\n",
      "  y = column_or_1d(y, warn=True)\n"
     ]
    },
    {
     "name": "stdout",
     "output_type": "stream",
     "text": [
      "Train data: 0.922679178436348\n",
      "BernoulliNB(alpha=0.6666666666666666, binarize=0.0, class_prior=None,\n",
      "      fit_prior=True)\n",
      "{'alpha': 0.6666666666666666}\n",
      "Test data: 0.7659055005026569\n",
      "BernoulliNB(alpha=0.6666666666666666, binarize=0.0, class_prior=None,\n",
      "      fit_prior=True)\n",
      "{'alpha': 0.6666666666666666}\n",
      "\n",
      "\n",
      "\n",
      "Scores for tfidf__n_gram_range_of_(1, 2)_max_df_of0.5 using mnb Classifier\n"
     ]
    },
    {
     "name": "stderr",
     "output_type": "stream",
     "text": [
      "C:\\Program Files\\Anaconda3\\lib\\site-packages\\sklearn\\utils\\validation.py:578: DataConversionWarning: A column-vector y was passed when a 1d array was expected. Please change the shape of y to (n_samples, ), for example using ravel().\n",
      "  y = column_or_1d(y, warn=True)\n"
     ]
    },
    {
     "name": "stdout",
     "output_type": "stream",
     "text": [
      "Train data: 0.941255326279504\n",
      "MultinomialNB(alpha=0.3333333333333333, class_prior=None, fit_prior=True)\n",
      "{'alpha': 0.3333333333333333}\n",
      "Test data: 0.7657618842452966\n",
      "MultinomialNB(alpha=0.3333333333333333, class_prior=None, fit_prior=True)\n",
      "{'alpha': 0.3333333333333333}\n",
      "\n",
      "\n",
      "\n",
      "Scores for tfidf__n_gram_range_of_(1, 2)_max_df_of0.5 using logr Classifier\n"
     ]
    },
    {
     "name": "stderr",
     "output_type": "stream",
     "text": [
      "C:\\Program Files\\Anaconda3\\lib\\site-packages\\sklearn\\utils\\validation.py:578: DataConversionWarning: A column-vector y was passed when a 1d array was expected. Please change the shape of y to (n_samples, ), for example using ravel().\n",
      "  y = column_or_1d(y, warn=True)\n"
     ]
    },
    {
     "name": "stdout",
     "output_type": "stream",
     "text": [
      "Train data: 0.9456599798917987\n",
      "LogisticRegression(C=3.3598182862837818, class_weight=None, dual=False,\n",
      "          fit_intercept=True, intercept_scaling=1, max_iter=100,\n",
      "          multi_class='ovr', n_jobs=1, penalty='l2', random_state=None,\n",
      "          solver='liblinear', tol=0.0001, verbose=0, warm_start=False)\n",
      "{'C': 3.3598182862837818, 'penalty': 'l2'}\n",
      "Test data: 0.7663363492747379\n",
      "LogisticRegression(C=3.3598182862837818, class_weight=None, dual=False,\n",
      "          fit_intercept=True, intercept_scaling=1, max_iter=100,\n",
      "          multi_class='ovr', n_jobs=1, penalty='l2', random_state=None,\n",
      "          solver='liblinear', tol=0.0001, verbose=0, warm_start=False)\n",
      "{'C': 3.3598182862837818, 'penalty': 'l2'}\n",
      "\n",
      "\n",
      "\n",
      "Scores for tfidf__n_gram_range_of_(1, 2)_max_df_of0.5 using rfc Classifier\n"
     ]
    },
    {
     "name": "stderr",
     "output_type": "stream",
     "text": [
      "C:\\Program Files\\Anaconda3\\lib\\site-packages\\sklearn\\model_selection\\_search.py:739: DataConversionWarning: A column-vector y was passed when a 1d array was expected. Please change the shape of y to (n_samples,), for example using ravel().\n",
      "  self.best_estimator_.fit(X, y, **fit_params)\n"
     ]
    },
    {
     "name": "stdout",
     "output_type": "stream",
     "text": [
      "Train data: 0.958203667352899\n",
      "RandomForestClassifier(bootstrap=True, class_weight=None, criterion='gini',\n",
      "            max_depth=None, max_features='auto', max_leaf_nodes=None,\n",
      "            min_impurity_decrease=0.0, min_impurity_split=None,\n",
      "            min_samples_leaf=1, min_samples_split=2,\n",
      "            min_weight_fraction_leaf=0.0, n_estimators=10, n_jobs=1,\n",
      "            oob_score=False, random_state=None, verbose=0,\n",
      "            warm_start=False)\n",
      "{}\n",
      "Test data: 0.7424960505529226\n",
      "RandomForestClassifier(bootstrap=True, class_weight=None, criterion='gini',\n",
      "            max_depth=None, max_features='auto', max_leaf_nodes=None,\n",
      "            min_impurity_decrease=0.0, min_impurity_split=None,\n",
      "            min_samples_leaf=1, min_samples_split=2,\n",
      "            min_weight_fraction_leaf=0.0, n_estimators=10, n_jobs=1,\n",
      "            oob_score=False, random_state=None, verbose=0,\n",
      "            warm_start=False)\n",
      "{}\n",
      "\n",
      "\n",
      "\n",
      "Fitting tfidf__n_gram_range_of_(1, 3)_max_df_of0.5\n",
      "Scores for tfidf__n_gram_range_of_(1, 3)_max_df_of0.5 using bnb Classifier\n"
     ]
    },
    {
     "name": "stderr",
     "output_type": "stream",
     "text": [
      "C:\\Program Files\\Anaconda3\\lib\\site-packages\\sklearn\\utils\\validation.py:578: DataConversionWarning: A column-vector y was passed when a 1d array was expected. Please change the shape of y to (n_samples, ), for example using ravel().\n",
      "  y = column_or_1d(y, warn=True)\n"
     ]
    },
    {
     "name": "stdout",
     "output_type": "stream",
     "text": [
      "Train data: 0.9338344424761813\n",
      "BernoulliNB(alpha=0.5555555555555556, binarize=0.0, class_prior=None,\n",
      "      fit_prior=True)\n",
      "{'alpha': 0.5555555555555556}\n",
      "Test data: 0.7752405572310785\n",
      "BernoulliNB(alpha=0.5555555555555556, binarize=0.0, class_prior=None,\n",
      "      fit_prior=True)\n",
      "{'alpha': 0.5555555555555556}\n",
      "\n",
      "\n",
      "\n",
      "Scores for tfidf__n_gram_range_of_(1, 3)_max_df_of0.5 using mnb Classifier\n"
     ]
    },
    {
     "name": "stderr",
     "output_type": "stream",
     "text": [
      "C:\\Program Files\\Anaconda3\\lib\\site-packages\\sklearn\\utils\\validation.py:578: DataConversionWarning: A column-vector y was passed when a 1d array was expected. Please change the shape of y to (n_samples, ), for example using ravel().\n",
      "  y = column_or_1d(y, warn=True)\n"
     ]
    },
    {
     "name": "stdout",
     "output_type": "stream",
     "text": [
      "Train data: 0.9486762100828267\n",
      "MultinomialNB(alpha=0.4444444444444444, class_prior=None, fit_prior=True)\n",
      "{'alpha': 0.4444444444444444}\n",
      "Test data: 0.7742352434295562\n",
      "MultinomialNB(alpha=0.4444444444444444, class_prior=None, fit_prior=True)\n",
      "{'alpha': 0.4444444444444444}\n",
      "\n",
      "\n",
      "\n",
      "Scores for tfidf__n_gram_range_of_(1, 3)_max_df_of0.5 using logr Classifier\n"
     ]
    },
    {
     "name": "stderr",
     "output_type": "stream",
     "text": [
      "C:\\Program Files\\Anaconda3\\lib\\site-packages\\sklearn\\utils\\validation.py:578: DataConversionWarning: A column-vector y was passed when a 1d array was expected. Please change the shape of y to (n_samples, ), for example using ravel().\n",
      "  y = column_or_1d(y, warn=True)\n"
     ]
    },
    {
     "name": "stdout",
     "output_type": "stream",
     "text": [
      "Train data: 0.9527936036769282\n",
      "LogisticRegression(C=3.3598182862837818, class_weight=None, dual=False,\n",
      "          fit_intercept=True, intercept_scaling=1, max_iter=100,\n",
      "          multi_class='ovr', n_jobs=1, penalty='l2', random_state=None,\n",
      "          solver='liblinear', tol=0.0001, verbose=0, warm_start=False)\n",
      "{'C': 3.3598182862837818, 'penalty': 'l2'}\n",
      "Test data: 0.7670544305615395\n",
      "LogisticRegression(C=3.3598182862837818, class_weight=None, dual=False,\n",
      "          fit_intercept=True, intercept_scaling=1, max_iter=100,\n",
      "          multi_class='ovr', n_jobs=1, penalty='l2', random_state=None,\n",
      "          solver='liblinear', tol=0.0001, verbose=0, warm_start=False)\n",
      "{'C': 3.3598182862837818, 'penalty': 'l2'}\n",
      "\n",
      "\n",
      "\n",
      "Scores for tfidf__n_gram_range_of_(1, 3)_max_df_of0.5 using rfc Classifier\n"
     ]
    },
    {
     "name": "stderr",
     "output_type": "stream",
     "text": [
      "C:\\Program Files\\Anaconda3\\lib\\site-packages\\sklearn\\model_selection\\_search.py:739: DataConversionWarning: A column-vector y was passed when a 1d array was expected. Please change the shape of y to (n_samples,), for example using ravel().\n",
      "  self.best_estimator_.fit(X, y, **fit_params)\n"
     ]
    },
    {
     "name": "stdout",
     "output_type": "stream",
     "text": [
      "Train data: 0.9594484607650692\n",
      "RandomForestClassifier(bootstrap=True, class_weight=None, criterion='gini',\n",
      "            max_depth=None, max_features='auto', max_leaf_nodes=None,\n",
      "            min_impurity_decrease=0.0, min_impurity_split=None,\n",
      "            min_samples_leaf=1, min_samples_split=2,\n",
      "            min_weight_fraction_leaf=0.0, n_estimators=10, n_jobs=1,\n",
      "            oob_score=False, random_state=None, verbose=0,\n",
      "            warm_start=False)\n",
      "{}\n",
      "Test data: 0.7449375269280483\n",
      "RandomForestClassifier(bootstrap=True, class_weight=None, criterion='gini',\n",
      "            max_depth=None, max_features='auto', max_leaf_nodes=None,\n",
      "            min_impurity_decrease=0.0, min_impurity_split=None,\n",
      "            min_samples_leaf=1, min_samples_split=2,\n",
      "            min_weight_fraction_leaf=0.0, n_estimators=10, n_jobs=1,\n",
      "            oob_score=False, random_state=None, verbose=0,\n",
      "            warm_start=False)\n",
      "{}\n",
      "\n",
      "\n",
      "\n",
      "Fitting tfidf__n_gram_range_of_(1, 4)_max_df_of0.5\n",
      "Scores for tfidf__n_gram_range_of_(1, 4)_max_df_of0.5 using bnb Classifier\n"
     ]
    },
    {
     "name": "stderr",
     "output_type": "stream",
     "text": [
      "C:\\Program Files\\Anaconda3\\lib\\site-packages\\sklearn\\utils\\validation.py:578: DataConversionWarning: A column-vector y was passed when a 1d array was expected. Please change the shape of y to (n_samples, ), for example using ravel().\n",
      "  y = column_or_1d(y, warn=True)\n"
     ]
    },
    {
     "name": "stdout",
     "output_type": "stream",
     "text": [
      "Train data: 0.9330205390913008\n",
      "BernoulliNB(alpha=0.5555555555555556, binarize=0.0, class_prior=None,\n",
      "      fit_prior=True)\n",
      "{'alpha': 0.5555555555555556}\n",
      "Test data: 0.7581502226051989\n",
      "BernoulliNB(alpha=0.5555555555555556, binarize=0.0, class_prior=None,\n",
      "      fit_prior=True)\n",
      "{'alpha': 0.5555555555555556}\n",
      "\n",
      "\n",
      "\n",
      "Scores for tfidf__n_gram_range_of_(1, 4)_max_df_of0.5 using mnb Classifier\n"
     ]
    },
    {
     "name": "stderr",
     "output_type": "stream",
     "text": [
      "C:\\Program Files\\Anaconda3\\lib\\site-packages\\sklearn\\utils\\validation.py:578: DataConversionWarning: A column-vector y was passed when a 1d array was expected. Please change the shape of y to (n_samples, ), for example using ravel().\n",
      "  y = column_or_1d(y, warn=True)\n"
     ]
    },
    {
     "name": "stdout",
     "output_type": "stream",
     "text": [
      "Train data: 0.948245320055537\n",
      "MultinomialNB(alpha=0.4444444444444444, class_prior=None, fit_prior=True)\n",
      "{'alpha': 0.4444444444444444}\n",
      "Test data: 0.7705012207381876\n",
      "MultinomialNB(alpha=0.4444444444444444, class_prior=None, fit_prior=True)\n",
      "{'alpha': 0.4444444444444444}\n",
      "\n",
      "\n",
      "\n",
      "Scores for tfidf__n_gram_range_of_(1, 4)_max_df_of0.5 using logr Classifier\n"
     ]
    },
    {
     "name": "stderr",
     "output_type": "stream",
     "text": [
      "C:\\Program Files\\Anaconda3\\lib\\site-packages\\sklearn\\utils\\validation.py:578: DataConversionWarning: A column-vector y was passed when a 1d array was expected. Please change the shape of y to (n_samples, ), for example using ravel().\n",
      "  y = column_or_1d(y, warn=True)\n"
     ]
    },
    {
     "name": "stdout",
     "output_type": "stream",
     "text": [
      "Train data: 0.9539905204193996\n",
      "LogisticRegression(C=3.3598182862837818, class_weight=None, dual=False,\n",
      "          fit_intercept=True, intercept_scaling=1, max_iter=100,\n",
      "          multi_class='ovr', n_jobs=1, penalty='l2', random_state=None,\n",
      "          solver='liblinear', tol=0.0001, verbose=0, warm_start=False)\n",
      "{'C': 3.3598182862837818, 'penalty': 'l2'}\n",
      "Test data: 0.764182105414333\n",
      "LogisticRegression(C=3.3598182862837818, class_weight=None, dual=False,\n",
      "          fit_intercept=True, intercept_scaling=1, max_iter=100,\n",
      "          multi_class='ovr', n_jobs=1, penalty='l2', random_state=None,\n",
      "          solver='liblinear', tol=0.0001, verbose=0, warm_start=False)\n",
      "{'C': 3.3598182862837818, 'penalty': 'l2'}\n",
      "\n",
      "\n",
      "\n",
      "Scores for tfidf__n_gram_range_of_(1, 4)_max_df_of0.5 using rfc Classifier\n"
     ]
    },
    {
     "name": "stderr",
     "output_type": "stream",
     "text": [
      "C:\\Program Files\\Anaconda3\\lib\\site-packages\\sklearn\\model_selection\\_search.py:739: DataConversionWarning: A column-vector y was passed when a 1d array was expected. Please change the shape of y to (n_samples,), for example using ravel().\n",
      "  self.best_estimator_.fit(X, y, **fit_params)\n"
     ]
    },
    {
     "name": "stdout",
     "output_type": "stream",
     "text": [
      "Train data: 0.9583951740316944\n",
      "RandomForestClassifier(bootstrap=True, class_weight=None, criterion='gini',\n",
      "            max_depth=None, max_features='auto', max_leaf_nodes=None,\n",
      "            min_impurity_decrease=0.0, min_impurity_split=None,\n",
      "            min_samples_leaf=1, min_samples_split=2,\n",
      "            min_weight_fraction_leaf=0.0, n_estimators=10, n_jobs=1,\n",
      "            oob_score=False, random_state=None, verbose=0,\n",
      "            warm_start=False)\n",
      "{}\n",
      "Test data: 0.7436449806118053\n",
      "RandomForestClassifier(bootstrap=True, class_weight=None, criterion='gini',\n",
      "            max_depth=None, max_features='auto', max_leaf_nodes=None,\n",
      "            min_impurity_decrease=0.0, min_impurity_split=None,\n",
      "            min_samples_leaf=1, min_samples_split=2,\n",
      "            min_weight_fraction_leaf=0.0, n_estimators=10, n_jobs=1,\n",
      "            oob_score=False, random_state=None, verbose=0,\n",
      "            warm_start=False)\n",
      "{}\n",
      "\n",
      "\n",
      "\n",
      "Fitting tfidf__max_df_of_0.75\n",
      "Scores for tfidf__max_df_of_0.75 using bnb Classifier\n"
     ]
    },
    {
     "name": "stderr",
     "output_type": "stream",
     "text": [
      "C:\\Program Files\\Anaconda3\\lib\\site-packages\\sklearn\\utils\\validation.py:578: DataConversionWarning: A column-vector y was passed when a 1d array was expected. Please change the shape of y to (n_samples, ), for example using ravel().\n",
      "  y = column_or_1d(y, warn=True)\n"
     ]
    },
    {
     "name": "stdout",
     "output_type": "stream",
     "text": [
      "Train data: 0.8505290372001724\n",
      "BernoulliNB(alpha=0.5555555555555556, binarize=0.0, class_prior=None,\n",
      "      fit_prior=True)\n",
      "{'alpha': 0.5555555555555556}\n",
      "Test data: 0.756426827516875\n",
      "BernoulliNB(alpha=0.5555555555555556, binarize=0.0, class_prior=None,\n",
      "      fit_prior=True)\n",
      "{'alpha': 0.5555555555555556}\n",
      "\n",
      "\n",
      "\n",
      "Scores for tfidf__max_df_of_0.75 using mnb Classifier\n"
     ]
    },
    {
     "name": "stderr",
     "output_type": "stream",
     "text": [
      "C:\\Program Files\\Anaconda3\\lib\\site-packages\\sklearn\\utils\\validation.py:578: DataConversionWarning: A column-vector y was passed when a 1d array was expected. Please change the shape of y to (n_samples, ), for example using ravel().\n",
      "  y = column_or_1d(y, warn=True)\n"
     ]
    },
    {
     "name": "stdout",
     "output_type": "stream",
     "text": [
      "Train data: 0.8607746445157275\n",
      "MultinomialNB(alpha=0.4444444444444444, class_prior=None, fit_prior=True)\n",
      "{'alpha': 0.4444444444444444}\n",
      "Test data: 0.7535545023696683\n",
      "MultinomialNB(alpha=0.4444444444444444, class_prior=None, fit_prior=True)\n",
      "{'alpha': 0.4444444444444444}\n",
      "\n",
      "\n",
      "\n",
      "Scores for tfidf__max_df_of_0.75 using logr Classifier\n"
     ]
    },
    {
     "name": "stderr",
     "output_type": "stream",
     "text": [
      "C:\\Program Files\\Anaconda3\\lib\\site-packages\\sklearn\\utils\\validation.py:578: DataConversionWarning: A column-vector y was passed when a 1d array was expected. Please change the shape of y to (n_samples, ), for example using ravel().\n",
      "  y = column_or_1d(y, warn=True)\n"
     ]
    },
    {
     "name": "stdout",
     "output_type": "stream",
     "text": [
      "Train data: 0.8525877339972232\n",
      "LogisticRegression(C=1.0, class_weight=None, dual=False, fit_intercept=True,\n",
      "          intercept_scaling=1, max_iter=100, multi_class='ovr', n_jobs=1,\n",
      "          penalty='l2', random_state=None, solver='liblinear', tol=0.0001,\n",
      "          verbose=0, warm_start=False)\n",
      "{'C': 1.0, 'penalty': 'l2'}\n",
      "Test data: 0.7574321413183972\n",
      "LogisticRegression(C=1.0, class_weight=None, dual=False, fit_intercept=True,\n",
      "          intercept_scaling=1, max_iter=100, multi_class='ovr', n_jobs=1,\n",
      "          penalty='l2', random_state=None, solver='liblinear', tol=0.0001,\n",
      "          verbose=0, warm_start=False)\n",
      "{'C': 1.0, 'penalty': 'l2'}\n",
      "\n",
      "\n",
      "\n",
      "Scores for tfidf__max_df_of_0.75 using rfc Classifier\n"
     ]
    },
    {
     "name": "stderr",
     "output_type": "stream",
     "text": [
      "C:\\Program Files\\Anaconda3\\lib\\site-packages\\sklearn\\model_selection\\_search.py:739: DataConversionWarning: A column-vector y was passed when a 1d array was expected. Please change the shape of y to (n_samples,), for example using ravel().\n",
      "  self.best_estimator_.fit(X, y, **fit_params)\n"
     ]
    },
    {
     "name": "stdout",
     "output_type": "stream",
     "text": [
      "Train data: 0.9562407238952458\n",
      "RandomForestClassifier(bootstrap=True, class_weight=None, criterion='gini',\n",
      "            max_depth=None, max_features='auto', max_leaf_nodes=None,\n",
      "            min_impurity_decrease=0.0, min_impurity_split=None,\n",
      "            min_samples_leaf=1, min_samples_split=2,\n",
      "            min_weight_fraction_leaf=0.0, n_estimators=10, n_jobs=1,\n",
      "            oob_score=False, random_state=None, verbose=0,\n",
      "            warm_start=False)\n",
      "{}\n",
      "Test data: 0.7356024701996265\n",
      "RandomForestClassifier(bootstrap=True, class_weight=None, criterion='gini',\n",
      "            max_depth=None, max_features='auto', max_leaf_nodes=None,\n",
      "            min_impurity_decrease=0.0, min_impurity_split=None,\n",
      "            min_samples_leaf=1, min_samples_split=2,\n",
      "            min_weight_fraction_leaf=0.0, n_estimators=10, n_jobs=1,\n",
      "            oob_score=False, random_state=None, verbose=0,\n",
      "            warm_start=False)\n",
      "{}\n",
      "\n",
      "\n",
      "\n",
      "Fitting tfidf__n_gram_range_of_(1, 1)_max_df_of0.75\n",
      "Scores for tfidf__n_gram_range_of_(1, 1)_max_df_of0.75 using bnb Classifier\n"
     ]
    },
    {
     "name": "stderr",
     "output_type": "stream",
     "text": [
      "C:\\Program Files\\Anaconda3\\lib\\site-packages\\sklearn\\utils\\validation.py:578: DataConversionWarning: A column-vector y was passed when a 1d array was expected. Please change the shape of y to (n_samples, ), for example using ravel().\n",
      "  y = column_or_1d(y, warn=True)\n"
     ]
    },
    {
     "name": "stdout",
     "output_type": "stream",
     "text": [
      "Train data: 0.8455019868817925\n",
      "BernoulliNB(alpha=0.7777777777777777, binarize=0.0, class_prior=None,\n",
      "      fit_prior=True)\n",
      "{'alpha': 0.7777777777777777}\n",
      "Test data: 0.7515438747666235\n",
      "BernoulliNB(alpha=0.7777777777777777, binarize=0.0, class_prior=None,\n",
      "      fit_prior=True)\n",
      "{'alpha': 0.7777777777777777}\n",
      "\n",
      "\n",
      "\n",
      "Scores for tfidf__n_gram_range_of_(1, 1)_max_df_of0.75 using mnb Classifier\n"
     ]
    },
    {
     "name": "stderr",
     "output_type": "stream",
     "text": [
      "C:\\Program Files\\Anaconda3\\lib\\site-packages\\sklearn\\utils\\validation.py:578: DataConversionWarning: A column-vector y was passed when a 1d array was expected. Please change the shape of y to (n_samples, ), for example using ravel().\n",
      "  y = column_or_1d(y, warn=True)\n"
     ]
    },
    {
     "name": "stdout",
     "output_type": "stream",
     "text": [
      "Train data: 0.8499545171637861\n",
      "MultinomialNB(alpha=0.8888888888888888, class_prior=None, fit_prior=True)\n",
      "{'alpha': 0.8888888888888888}\n",
      "Test data: 0.7493896309062186\n",
      "MultinomialNB(alpha=0.8888888888888888, class_prior=None, fit_prior=True)\n",
      "{'alpha': 0.8888888888888888}\n",
      "\n",
      "\n",
      "\n",
      "Scores for tfidf__n_gram_range_of_(1, 1)_max_df_of0.75 using logr Classifier\n"
     ]
    },
    {
     "name": "stderr",
     "output_type": "stream",
     "text": [
      "C:\\Program Files\\Anaconda3\\lib\\site-packages\\sklearn\\utils\\validation.py:578: DataConversionWarning: A column-vector y was passed when a 1d array was expected. Please change the shape of y to (n_samples, ), for example using ravel().\n",
      "  y = column_or_1d(y, warn=True)\n"
     ]
    },
    {
     "name": "stdout",
     "output_type": "stream",
     "text": [
      "Train data: 0.8517259539426437\n",
      "LogisticRegression(C=1.0, class_weight=None, dual=False, fit_intercept=True,\n",
      "          intercept_scaling=1, max_iter=100, multi_class='ovr', n_jobs=1,\n",
      "          penalty='l2', random_state=None, solver='liblinear', tol=0.0001,\n",
      "          verbose=0, warm_start=False)\n",
      "{'C': 1.0, 'penalty': 'l2'}\n",
      "Test data: 0.7531236535975873\n",
      "LogisticRegression(C=1.0, class_weight=None, dual=False, fit_intercept=True,\n",
      "          intercept_scaling=1, max_iter=100, multi_class='ovr', n_jobs=1,\n",
      "          penalty='l2', random_state=None, solver='liblinear', tol=0.0001,\n",
      "          verbose=0, warm_start=False)\n",
      "{'C': 1.0, 'penalty': 'l2'}\n",
      "\n",
      "\n",
      "\n",
      "Scores for tfidf__n_gram_range_of_(1, 1)_max_df_of0.75 using rfc Classifier\n"
     ]
    },
    {
     "name": "stderr",
     "output_type": "stream",
     "text": [
      "C:\\Program Files\\Anaconda3\\lib\\site-packages\\sklearn\\model_selection\\_search.py:739: DataConversionWarning: A column-vector y was passed when a 1d array was expected. Please change the shape of y to (n_samples,), for example using ravel().\n",
      "  self.best_estimator_.fit(X, y, **fit_params)\n"
     ]
    },
    {
     "name": "stdout",
     "output_type": "stream",
     "text": [
      "Train data: 0.9558098338679561\n",
      "RandomForestClassifier(bootstrap=True, class_weight=None, criterion='gini',\n",
      "            max_depth=None, max_features='auto', max_leaf_nodes=None,\n",
      "            min_impurity_decrease=0.0, min_impurity_split=None,\n",
      "            min_samples_leaf=1, min_samples_split=2,\n",
      "            min_weight_fraction_leaf=0.0, n_estimators=10, n_jobs=1,\n",
      "            oob_score=False, random_state=None, verbose=0,\n",
      "            warm_start=False)\n",
      "{}\n",
      "Test data: 0.7442194456412465\n",
      "RandomForestClassifier(bootstrap=True, class_weight=None, criterion='gini',\n",
      "            max_depth=None, max_features='auto', max_leaf_nodes=None,\n",
      "            min_impurity_decrease=0.0, min_impurity_split=None,\n",
      "            min_samples_leaf=1, min_samples_split=2,\n",
      "            min_weight_fraction_leaf=0.0, n_estimators=10, n_jobs=1,\n",
      "            oob_score=False, random_state=None, verbose=0,\n",
      "            warm_start=False)\n",
      "{}\n",
      "\n",
      "\n",
      "\n",
      "Fitting tfidf__n_gram_range_of_(1, 2)_max_df_of0.75\n",
      "Scores for tfidf__n_gram_range_of_(1, 2)_max_df_of0.75 using bnb Classifier\n"
     ]
    },
    {
     "name": "stderr",
     "output_type": "stream",
     "text": [
      "C:\\Program Files\\Anaconda3\\lib\\site-packages\\sklearn\\utils\\validation.py:578: DataConversionWarning: A column-vector y was passed when a 1d array was expected. Please change the shape of y to (n_samples, ), for example using ravel().\n",
      "  y = column_or_1d(y, warn=True)\n"
     ]
    },
    {
     "name": "stdout",
     "output_type": "stream",
     "text": [
      "Train data: 0.9233973284818308\n",
      "BernoulliNB(alpha=0.6666666666666666, binarize=0.0, class_prior=None,\n",
      "      fit_prior=True)\n",
      "{'alpha': 0.6666666666666666}\n",
      "Test data: 0.7692086744219445\n",
      "BernoulliNB(alpha=0.6666666666666666, binarize=0.0, class_prior=None,\n",
      "      fit_prior=True)\n",
      "{'alpha': 0.6666666666666666}\n",
      "\n",
      "\n",
      "\n",
      "Scores for tfidf__n_gram_range_of_(1, 2)_max_df_of0.75 using mnb Classifier\n"
     ]
    },
    {
     "name": "stderr",
     "output_type": "stream",
     "text": [
      "C:\\Program Files\\Anaconda3\\lib\\site-packages\\sklearn\\utils\\validation.py:578: DataConversionWarning: A column-vector y was passed when a 1d array was expected. Please change the shape of y to (n_samples, ), for example using ravel().\n",
      "  y = column_or_1d(y, warn=True)\n"
     ]
    },
    {
     "name": "stdout",
     "output_type": "stream",
     "text": [
      "Train data: 0.9412074496098052\n",
      "MultinomialNB(alpha=0.3333333333333333, class_prior=None, fit_prior=True)\n",
      "{'alpha': 0.3333333333333333}\n",
      "Test data: 0.7705012207381876\n",
      "MultinomialNB(alpha=0.3333333333333333, class_prior=None, fit_prior=True)\n",
      "{'alpha': 0.3333333333333333}\n",
      "\n",
      "\n",
      "\n",
      "Scores for tfidf__n_gram_range_of_(1, 2)_max_df_of0.75 using logr Classifier\n"
     ]
    },
    {
     "name": "stderr",
     "output_type": "stream",
     "text": [
      "C:\\Program Files\\Anaconda3\\lib\\site-packages\\sklearn\\utils\\validation.py:578: DataConversionWarning: A column-vector y was passed when a 1d array was expected. Please change the shape of y to (n_samples, ), for example using ravel().\n",
      "  y = column_or_1d(y, warn=True)\n"
     ]
    },
    {
     "name": "stdout",
     "output_type": "stream",
     "text": [
      "Train data: 0.962177430937904\n",
      "LogisticRegression(C=11.28837891684689, class_weight=None, dual=False,\n",
      "          fit_intercept=True, intercept_scaling=1, max_iter=100,\n",
      "          multi_class='ovr', n_jobs=1, penalty='l2', random_state=None,\n",
      "          solver='liblinear', tol=0.0001, verbose=0, warm_start=False)\n",
      "{'C': 11.28837891684689, 'penalty': 'l2'}\n",
      "Test data: 0.7651874192158552\n",
      "LogisticRegression(C=11.28837891684689, class_weight=None, dual=False,\n",
      "          fit_intercept=True, intercept_scaling=1, max_iter=100,\n",
      "          multi_class='ovr', n_jobs=1, penalty='l2', random_state=None,\n",
      "          solver='liblinear', tol=0.0001, verbose=0, warm_start=False)\n",
      "{'C': 11.28837891684689, 'penalty': 'l2'}\n",
      "\n",
      "\n",
      "\n",
      "Scores for tfidf__n_gram_range_of_(1, 2)_max_df_of0.75 using rfc Classifier\n"
     ]
    },
    {
     "name": "stderr",
     "output_type": "stream",
     "text": [
      "C:\\Program Files\\Anaconda3\\lib\\site-packages\\sklearn\\model_selection\\_search.py:739: DataConversionWarning: A column-vector y was passed when a 1d array was expected. Please change the shape of y to (n_samples,), for example using ravel().\n",
      "  self.best_estimator_.fit(X, y, **fit_params)\n"
     ]
    },
    {
     "name": "stdout",
     "output_type": "stream",
     "text": [
      "Train data: 0.959496337434768\n",
      "RandomForestClassifier(bootstrap=True, class_weight=None, criterion='gini',\n",
      "            max_depth=None, max_features='auto', max_leaf_nodes=None,\n",
      "            min_impurity_decrease=0.0, min_impurity_split=None,\n",
      "            min_samples_leaf=1, min_samples_split=2,\n",
      "            min_weight_fraction_leaf=0.0, n_estimators=10, n_jobs=1,\n",
      "            oob_score=False, random_state=None, verbose=0,\n",
      "            warm_start=False)\n",
      "{}\n",
      "Test data: 0.7386184116041936\n",
      "RandomForestClassifier(bootstrap=True, class_weight=None, criterion='gini',\n",
      "            max_depth=None, max_features='auto', max_leaf_nodes=None,\n",
      "            min_impurity_decrease=0.0, min_impurity_split=None,\n",
      "            min_samples_leaf=1, min_samples_split=2,\n",
      "            min_weight_fraction_leaf=0.0, n_estimators=10, n_jobs=1,\n",
      "            oob_score=False, random_state=None, verbose=0,\n",
      "            warm_start=False)\n",
      "{}\n",
      "\n",
      "\n",
      "\n",
      "Fitting tfidf__n_gram_range_of_(1, 3)_max_df_of0.75\n",
      "Scores for tfidf__n_gram_range_of_(1, 3)_max_df_of0.75 using bnb Classifier\n"
     ]
    },
    {
     "name": "stderr",
     "output_type": "stream",
     "text": [
      "C:\\Program Files\\Anaconda3\\lib\\site-packages\\sklearn\\utils\\validation.py:578: DataConversionWarning: A column-vector y was passed when a 1d array was expected. Please change the shape of y to (n_samples, ), for example using ravel().\n",
      "  y = column_or_1d(y, warn=True)\n"
     ]
    },
    {
     "name": "stdout",
     "output_type": "stream",
     "text": [
      "Train data: 0.9350792358883516\n",
      "BernoulliNB(alpha=0.5555555555555556, binarize=0.0, class_prior=None,\n",
      "      fit_prior=True)\n",
      "{'alpha': 0.5555555555555556}\n",
      "Test data: 0.764612954186414\n",
      "BernoulliNB(alpha=0.5555555555555556, binarize=0.0, class_prior=None,\n",
      "      fit_prior=True)\n",
      "{'alpha': 0.5555555555555556}\n",
      "\n",
      "\n",
      "\n",
      "Scores for tfidf__n_gram_range_of_(1, 3)_max_df_of0.75 using mnb Classifier\n"
     ]
    },
    {
     "name": "stderr",
     "output_type": "stream",
     "text": [
      "C:\\Program Files\\Anaconda3\\lib\\site-packages\\sklearn\\utils\\validation.py:578: DataConversionWarning: A column-vector y was passed when a 1d array was expected. Please change the shape of y to (n_samples, ), for example using ravel().\n",
      "  y = column_or_1d(y, warn=True)\n"
     ]
    },
    {
     "name": "stdout",
     "output_type": "stream",
     "text": [
      "Train data: 0.9522669603102408\n",
      "MultinomialNB(alpha=0.2222222222222222, class_prior=None, fit_prior=True)\n",
      "{'alpha': 0.2222222222222222}\n",
      "Test data: 0.7697831394513859\n",
      "MultinomialNB(alpha=0.2222222222222222, class_prior=None, fit_prior=True)\n",
      "{'alpha': 0.2222222222222222}\n",
      "\n",
      "\n",
      "\n",
      "Scores for tfidf__n_gram_range_of_(1, 3)_max_df_of0.75 using logr Classifier\n"
     ]
    },
    {
     "name": "stderr",
     "output_type": "stream",
     "text": [
      "C:\\Program Files\\Anaconda3\\lib\\site-packages\\sklearn\\utils\\validation.py:578: DataConversionWarning: A column-vector y was passed when a 1d array was expected. Please change the shape of y to (n_samples, ), for example using ravel().\n",
      "  y = column_or_1d(y, warn=True)\n"
     ]
    },
    {
     "name": "stdout",
     "output_type": "stream",
     "text": [
      "Train data: 0.9528414803466271\n",
      "LogisticRegression(C=3.3598182862837818, class_weight=None, dual=False,\n",
      "          fit_intercept=True, intercept_scaling=1, max_iter=100,\n",
      "          multi_class='ovr', n_jobs=1, penalty='l2', random_state=None,\n",
      "          solver='liblinear', tol=0.0001, verbose=0, warm_start=False)\n",
      "{'C': 3.3598182862837818, 'penalty': 'l2'}\n",
      "Test data: 0.7621714778112882\n",
      "LogisticRegression(C=3.3598182862837818, class_weight=None, dual=False,\n",
      "          fit_intercept=True, intercept_scaling=1, max_iter=100,\n",
      "          multi_class='ovr', n_jobs=1, penalty='l2', random_state=None,\n",
      "          solver='liblinear', tol=0.0001, verbose=0, warm_start=False)\n",
      "{'C': 3.3598182862837818, 'penalty': 'l2'}\n",
      "\n",
      "\n",
      "\n",
      "Scores for tfidf__n_gram_range_of_(1, 3)_max_df_of0.75 using rfc Classifier\n"
     ]
    },
    {
     "name": "stderr",
     "output_type": "stream",
     "text": [
      "C:\\Program Files\\Anaconda3\\lib\\site-packages\\sklearn\\model_selection\\_search.py:739: DataConversionWarning: A column-vector y was passed when a 1d array was expected. Please change the shape of y to (n_samples,), for example using ravel().\n",
      "  self.best_estimator_.fit(X, y, **fit_params)\n"
     ]
    },
    {
     "name": "stdout",
     "output_type": "stream",
     "text": [
      "Train data: 0.9587303107195864\n",
      "RandomForestClassifier(bootstrap=True, class_weight=None, criterion='gini',\n",
      "            max_depth=None, max_features='auto', max_leaf_nodes=None,\n",
      "            min_impurity_decrease=0.0, min_impurity_split=None,\n",
      "            min_samples_leaf=1, min_samples_split=2,\n",
      "            min_weight_fraction_leaf=0.0, n_estimators=10, n_jobs=1,\n",
      "            oob_score=False, random_state=None, verbose=0,\n",
      "            warm_start=False)\n",
      "{}\n",
      "Test data: 0.7440758293838863\n",
      "RandomForestClassifier(bootstrap=True, class_weight=None, criterion='gini',\n",
      "            max_depth=None, max_features='auto', max_leaf_nodes=None,\n",
      "            min_impurity_decrease=0.0, min_impurity_split=None,\n",
      "            min_samples_leaf=1, min_samples_split=2,\n",
      "            min_weight_fraction_leaf=0.0, n_estimators=10, n_jobs=1,\n",
      "            oob_score=False, random_state=None, verbose=0,\n",
      "            warm_start=False)\n",
      "{}\n",
      "\n",
      "\n",
      "\n",
      "Fitting tfidf__n_gram_range_of_(1, 4)_max_df_of0.75\n",
      "Scores for tfidf__n_gram_range_of_(1, 4)_max_df_of0.75 using bnb Classifier\n"
     ]
    },
    {
     "name": "stderr",
     "output_type": "stream",
     "text": [
      "C:\\Program Files\\Anaconda3\\lib\\site-packages\\sklearn\\utils\\validation.py:578: DataConversionWarning: A column-vector y was passed when a 1d array was expected. Please change the shape of y to (n_samples, ), for example using ravel().\n",
      "  y = column_or_1d(y, warn=True)\n"
     ]
    },
    {
     "name": "stdout",
     "output_type": "stream",
     "text": [
      "Train data: 0.9338823191458802\n",
      "BernoulliNB(alpha=0.5555555555555556, binarize=0.0, class_prior=None,\n",
      "      fit_prior=True)\n",
      "{'alpha': 0.5555555555555556}\n",
      "Test data: 0.7608789314950453\n",
      "BernoulliNB(alpha=0.5555555555555556, binarize=0.0, class_prior=None,\n",
      "      fit_prior=True)\n",
      "{'alpha': 0.5555555555555556}\n",
      "\n",
      "\n",
      "\n",
      "Scores for tfidf__n_gram_range_of_(1, 4)_max_df_of0.75 using mnb Classifier\n"
     ]
    },
    {
     "name": "stderr",
     "output_type": "stream",
     "text": [
      "C:\\Program Files\\Anaconda3\\lib\\site-packages\\sklearn\\utils\\validation.py:578: DataConversionWarning: A column-vector y was passed when a 1d array was expected. Please change the shape of y to (n_samples, ), for example using ravel().\n",
      "  y = column_or_1d(y, warn=True)\n"
     ]
    },
    {
     "name": "stdout",
     "output_type": "stream",
     "text": [
      "Train data: 0.9520754536314454\n",
      "MultinomialNB(alpha=0.3333333333333333, class_prior=None, fit_prior=True)\n",
      "{'alpha': 0.3333333333333333}\n",
      "Test data: 0.7664799655320982\n",
      "MultinomialNB(alpha=0.3333333333333333, class_prior=None, fit_prior=True)\n",
      "{'alpha': 0.3333333333333333}\n",
      "\n",
      "\n",
      "\n",
      "Scores for tfidf__n_gram_range_of_(1, 4)_max_df_of0.75 using logr Classifier\n"
     ]
    },
    {
     "name": "stderr",
     "output_type": "stream",
     "text": [
      "C:\\Program Files\\Anaconda3\\lib\\site-packages\\sklearn\\utils\\validation.py:578: DataConversionWarning: A column-vector y was passed when a 1d array was expected. Please change the shape of y to (n_samples, ), for example using ravel().\n",
      "  y = column_or_1d(y, warn=True)\n"
     ]
    },
    {
     "name": "stdout",
     "output_type": "stream",
     "text": [
      "Train data: 0.9548044238042802\n",
      "LogisticRegression(C=3.3598182862837818, class_weight=None, dual=False,\n",
      "          fit_intercept=True, intercept_scaling=1, max_iter=100,\n",
      "          multi_class='ovr', n_jobs=1, penalty='l2', random_state=None,\n",
      "          solver='liblinear', tol=0.0001, verbose=0, warm_start=False)\n",
      "{'C': 3.3598182862837818, 'penalty': 'l2'}\n",
      "Test data: 0.7663363492747379\n",
      "LogisticRegression(C=3.3598182862837818, class_weight=None, dual=False,\n",
      "          fit_intercept=True, intercept_scaling=1, max_iter=100,\n",
      "          multi_class='ovr', n_jobs=1, penalty='l2', random_state=None,\n",
      "          solver='liblinear', tol=0.0001, verbose=0, warm_start=False)\n",
      "{'C': 3.3598182862837818, 'penalty': 'l2'}\n",
      "\n",
      "\n",
      "\n",
      "Scores for tfidf__n_gram_range_of_(1, 4)_max_df_of0.75 using rfc Classifier\n"
     ]
    },
    {
     "name": "stderr",
     "output_type": "stream",
     "text": [
      "C:\\Program Files\\Anaconda3\\lib\\site-packages\\sklearn\\model_selection\\_search.py:739: DataConversionWarning: A column-vector y was passed when a 1d array was expected. Please change the shape of y to (n_samples,), for example using ravel().\n",
      "  self.best_estimator_.fit(X, y, **fit_params)\n"
     ]
    },
    {
     "name": "stdout",
     "output_type": "stream",
     "text": [
      "Train data: 0.9603581174893474\n",
      "RandomForestClassifier(bootstrap=True, class_weight=None, criterion='gini',\n",
      "            max_depth=None, max_features='auto', max_leaf_nodes=None,\n",
      "            min_impurity_decrease=0.0, min_impurity_split=None,\n",
      "            min_samples_leaf=1, min_samples_split=2,\n",
      "            min_weight_fraction_leaf=0.0, n_estimators=10, n_jobs=1,\n",
      "            oob_score=False, random_state=None, verbose=0,\n",
      "            warm_start=False)\n",
      "{}\n",
      "Test data: 0.7381875628321126\n",
      "RandomForestClassifier(bootstrap=True, class_weight=None, criterion='gini',\n",
      "            max_depth=None, max_features='auto', max_leaf_nodes=None,\n",
      "            min_impurity_decrease=0.0, min_impurity_split=None,\n",
      "            min_samples_leaf=1, min_samples_split=2,\n",
      "            min_weight_fraction_leaf=0.0, n_estimators=10, n_jobs=1,\n",
      "            oob_score=False, random_state=None, verbose=0,\n",
      "            warm_start=False)\n",
      "{}\n",
      "\n",
      "\n",
      "\n"
     ]
    }
   ],
   "source": [
    "vectorizers_start = {\n",
    "    \"cvec\" : CountVectorizer,\n",
    "    \"tfidf\" : TfidfVectorizer,\n",
    "}\n",
    "\n",
    "vectorizers = {}\n",
    "\n",
    "for key,vec in vectorizers_start.items():\n",
    "    vectorizers[key] = vec(stop_words='english')\n",
    "    for max_df in (0.25, 0.5, 0.75):\n",
    "        vectorizers[f\"{key}__max_df_of_{max_df}\"] = vec(stop_words='english', max_df=max_df)\n",
    "        for n_gram_range in [(1, 1), (1, 2), (1, 3), (1, 4)]:\n",
    "            vectorizers[f\"{key}__n_gram_range_of_{n_gram_range}\"] = vec(stop_words='english', ngram_range=n_gram_range)\n",
    "            vectorizers[f\"{key}__n_gram_range_of_{n_gram_range}_max_df_of{max_df}\"] = vec(stop_words='english', ngram_range=n_gram_range, max_df=max_df)\n",
    "\n",
    "classifiers = {\n",
    "    \"bnb\" : BernoulliNB(), #=> Fast and good enough score\n",
    "    \"mnb\" : MultinomialNB(), #=> Fast and good enough score\n",
    "    \"logr\": LogisticRegression(), #=> Best score, but super slow\n",
    "#     \"knn\" : KNeighborsClassifier(), #=> Super overfit, not great scores\n",
    "#     \"tree\" : DecisionTreeClassifier(),\n",
    "    \"rfc\" : RandomForestClassifier(), #=> Very overfit, not much better than Naive Bayes\n",
    "#     \"gbc\" : GradientBoostingClassifier(), #=> Not great, worse than Naive Bayes\n",
    "#     \"ada\" : AdaBoostClassifier(), #=> Not great, worse than Naive Bayes\n",
    "#     \"svm\" : SVC(), #=> painstakingly slow, couldn't run on my computer :/\n",
    "}\n",
    "\n",
    "# Borrowed from https://www.kaggle.com/mayu0116/hyper-parameters-tuning-of-dtree-rf-svm-knn\n",
    "# and https://optunity.readthedocs.io/en/stable/notebooks/notebooks/sklearn-automated-classification.html\n",
    "hyper_parameters = {\n",
    "    \"bnb\" : {\n",
    "        \"alpha\": np.linspace(0.0,1.0,10)\n",
    "    },\n",
    "    \"mnb\" : {\n",
    "        \"alpha\": np.linspace(0.0,1.0,10)\n",
    "    },\n",
    "    \"logr\": {\n",
    "        \"penalty\" : ['l1', 'l2'],\n",
    "        \"C\": np.logspace(0, 10, 20)\n",
    "    },\n",
    "    \"knn\" : {\n",
    "        'n_neighbors':[1,2,3,4,5],\n",
    "        'weights':['uniform', 'distance'],\n",
    "    },\n",
    "    \"svm\" : {\n",
    "        'kernel': ['linear', 'poly', 'rbf'],\n",
    "        'C': [1, 2, 10, 50],\n",
    "        'gamma': [0, 1],\n",
    "        'degree': [2, 5],\n",
    "        'coef0': [0, 1]\n",
    "    },\n",
    "    \"tree\": {\n",
    "        \n",
    "    },\n",
    "    \"rfc\":{\n",
    "        \n",
    "    },\n",
    "    \"gbc\":{\n",
    "        \"n_estimators\" : [50,100,150]\n",
    "    },\n",
    "    \"ada\":{\n",
    "        \"base_estimator\": [BernoulliNB(), MultinomialNB(), LogisticRegression()],\n",
    "        \"n_estimators\" : [50,100,150]\n",
    "    }\n",
    "}\n",
    "\n",
    "for key,val in vectorizers.items():\n",
    "    print(f\"Fitting {key}\")\n",
    "    val.fit(corpus)\n",
    "    # Transform the corpus\n",
    "    X  = val.transform(corpus)\n",
    "    y = meme_titles[[\"is_sequel_meme\"]]\n",
    "    X_train, X_test, y_train, y_test = train_test_split(X, y)\n",
    "    for class_key, classifier in classifiers.items():\n",
    "        print(f\"Scores for {key} using {class_key} Classifier\")\n",
    "        gs = GridSearchCV(classifier, param_grid=hyper_parameters[class_key], n_jobs=-1);\n",
    "        gs.fit(X_train,y_train);\n",
    "        print(f\"Train data: {gs.score(X_train, y_train)}\")\n",
    "        print(f\"{gs.best_estimator_}\")\n",
    "        print(f\"{gs.best_params_}\")\n",
    "        print(f\"Test data: {gs.score(X_test, y_test)}\")\n",
    "        print(f\"{gs.best_estimator_}\")\n",
    "        print(f\"{gs.best_params_}\")\n",
    "        [print() for i in range(0,3)]"
   ]
  },
  {
   "cell_type": "markdown",
   "metadata": {
    "focus": false,
    "id": "04563b69-f7b6-466f-9d65-fc62c9ddee6a"
   },
   "source": [
    "## Predicting subreddit using Random Forests + Another Classifier"
   ]
  },
  {
   "cell_type": "code",
   "execution_count": 10,
   "metadata": {
    "focus": false,
    "id": "588f9845-6143-4bcc-bfd1-85d45b79303d"
   },
   "outputs": [],
   "source": [
    "# ## YOUR CODE HERE\n",
    "# from sklearn.cross_validation import train_test_split\n",
    "# from sklearn.ensemble import RandomForestClassifier\n",
    "# from sklearn.tree import DecisionTreeClassifier\n",
    "\n",
    "# X = meme_titles[[\"title\"]]\n",
    "# y = meme_titles[[\"is_sequel_meme\"]]\n",
    "\n",
    "# X_train, X_test, y_train, y_test = train_test_split(X, y)"
   ]
  },
  {
   "cell_type": "code",
   "execution_count": 11,
   "metadata": {},
   "outputs": [],
   "source": [
    "# rf = RandomForestClassifier()\n",
    "# rf.fit(X_train,y_train)\n"
   ]
  },
  {
   "cell_type": "markdown",
   "metadata": {
    "focus": false,
    "id": "c7631f51-07f2-4c79-a093-3e9bc7849a48"
   },
   "source": [
    "#### We want to predict a binary variable - class `0` for one of your subreddits and `1` for the other."
   ]
  },
  {
   "cell_type": "code",
   "execution_count": 12,
   "metadata": {
    "focus": false,
    "id": "c20d2498-151c-44c3-a453-3a333c79a0ac"
   },
   "outputs": [],
   "source": [
    "## YOUR CODE HERE"
   ]
  },
  {
   "cell_type": "markdown",
   "metadata": {
    "focus": false,
    "id": "a7afb2c0-d41e-4779-8216-91cd8dd4473f"
   },
   "source": [
    "#### Thought experiment: What is the baseline accuracy for this model?"
   ]
  },
  {
   "cell_type": "code",
   "execution_count": 23,
   "metadata": {
    "focus": false,
    "id": "87a17d3d-b7f4-4747-9f75-f9af1d18a174"
   },
   "outputs": [],
   "source": [
    "# a Coin flip"
   ]
  },
  {
   "cell_type": "markdown",
   "metadata": {
    "focus": false,
    "id": "4fb29de2-5b98-474c-a4ad-5170b72b9aea"
   },
   "source": [
    "#### Create a `RandomForestClassifier` model to predict which subreddit a given post belongs to."
   ]
  },
  {
   "cell_type": "code",
   "execution_count": 14,
   "metadata": {
    "focus": false,
    "id": "ddbc6159-6854-4ca7-857f-bfecdaf6d9c2"
   },
   "outputs": [],
   "source": [
    "## YOUR CODE HERE"
   ]
  },
  {
   "cell_type": "markdown",
   "metadata": {
    "focus": false,
    "id": "9367beff-72ba-4768-a0ba-a50b335de61d"
   },
   "source": [
    "#### Use cross-validation in scikit-learn to evaluate the model above. \n",
    "- Evaluate the accuracy of the model, as well as any other metrics you feel are appropriate. \n",
    "- **Bonus**: Use `GridSearchCV` with `Pipeline` to optimize your `CountVectorizer`/`TfidfVectorizer` and classification model."
   ]
  },
  {
   "cell_type": "code",
   "execution_count": 15,
   "metadata": {
    "focus": false,
    "id": "269b9e7c-60b5-4a06-8255-881d7395bc1b"
   },
   "outputs": [],
   "source": [
    "## YOUR CODE HERE"
   ]
  },
  {
   "cell_type": "markdown",
   "metadata": {},
   "source": [
    "#### Repeat the model-building process using a different classifier (e.g. `MultinomialNB`, `LogisticRegression`, etc)"
   ]
  },
  {
   "cell_type": "code",
   "execution_count": 16,
   "metadata": {},
   "outputs": [],
   "source": [
    "## YOUR CODE HERE"
   ]
  },
  {
   "cell_type": "markdown",
   "metadata": {},
   "source": [
    "# Executive Summary\n",
    "---\n",
    "Put your executive summary in a Markdown cell below."
   ]
  },
  {
   "cell_type": "markdown",
   "metadata": {},
   "source": []
  }
 ],
 "metadata": {
  "anaconda-cloud": {},
  "kernelspec": {
   "display_name": "Python 3",
   "language": "python",
   "name": "python3"
  },
  "language_info": {
   "codemirror_mode": {
    "name": "ipython",
    "version": 3
   },
   "file_extension": ".py",
   "mimetype": "text/x-python",
   "name": "python",
   "nbconvert_exporter": "python",
   "pygments_lexer": "ipython3",
   "version": "3.6.6"
  },
  "varInspector": {
   "cols": {
    "lenName": 16,
    "lenType": 16,
    "lenVar": 40
   },
   "kernels_config": {
    "python": {
     "delete_cmd_postfix": "",
     "delete_cmd_prefix": "del ",
     "library": "var_list.py",
     "varRefreshCmd": "print(var_dic_list())"
    },
    "r": {
     "delete_cmd_postfix": ") ",
     "delete_cmd_prefix": "rm(",
     "library": "var_list.r",
     "varRefreshCmd": "cat(var_dic_list()) "
    }
   },
   "types_to_exclude": [
    "module",
    "function",
    "builtin_function_or_method",
    "instance",
    "_Feature"
   ],
   "window_display": false
  }
 },
 "nbformat": 4,
 "nbformat_minor": 1
}
