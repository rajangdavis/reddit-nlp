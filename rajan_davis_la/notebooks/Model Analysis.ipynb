{
 "cells": [
  {
   "cell_type": "markdown",
   "metadata": {
    "focus": false,
    "id": "a948d79c-5527-4c0d-ab23-f5d43ce72056"
   },
   "source": [
    "# Analyzing Models and Tuning Hyper Parameters"
   ]
  },
  {
   "cell_type": "markdown",
   "metadata": {},
   "source": [
    "## This notebook takes a stab at identifying which model to use in production"
   ]
  },
  {
   "cell_type": "markdown",
   "metadata": {},
   "source": [
    "First, I import some dependencies for data manipulation; for numerical computations; for plotting charts; and finally, for a whole bunch of machine learning classification and text vectorization."
   ]
  },
  {
   "cell_type": "code",
   "execution_count": 20,
   "metadata": {},
   "outputs": [],
   "source": [
    "# Manipulates data\n",
    "import pandas as pd\n",
    "import re\n",
    "\n",
    "# Performs numerical computations\n",
    "import numpy as np\n",
    "\n",
    "# Plotting charts\n",
    "import matplotlib.pyplot as plt\n",
    "import matplotlib.patches as mpatches\n",
    "\n",
    "# Machine Learning things \n",
    "# The vectorizers are for performing analysis on word counts/frequencies\n",
    "from sklearn.feature_extraction.text import TfidfVectorizer, CountVectorizer\n",
    "\n",
    "# These are for classification and statistical analysis\n",
    "from sklearn.neighbors import KNeighborsClassifier\n",
    "from sklearn.svm import SVC\n",
    "from sklearn.linear_model import LogisticRegression\n",
    "from sklearn.model_selection import train_test_split, GridSearchCV\n",
    "from sklearn.tree import DecisionTreeClassifier\n",
    "from sklearn.ensemble import RandomForestClassifier, AdaBoostClassifier, GradientBoostingClassifier\n",
    "from sklearn.naive_bayes import BernoulliNB, MultinomialNB"
   ]
  },
  {
   "cell_type": "markdown",
   "metadata": {},
   "source": [
    "Next I will load in JSON files of the subreddit posts for text analysis"
   ]
  },
  {
   "cell_type": "code",
   "execution_count": 21,
   "metadata": {
    "scrolled": false
   },
   "outputs": [],
   "source": [
    "sm = pd.read_json(\"../data_fetching/json2/SequelMemes.json\")\n",
    "pm = pd.read_json(\"../data_fetching/json2/PrequelMemes.json\")"
   ]
  },
  {
   "cell_type": "markdown",
   "metadata": {},
   "source": [
    "I will grab the posts' titles, create a feature for identifying whether a post came from r/SequelMemes, and create a corpus for vectorizing (getting word counts and frequencies for machine learning purposes)."
   ]
  },
  {
   "cell_type": "code",
   "execution_count": 22,
   "metadata": {},
   "outputs": [
    {
     "name": "stderr",
     "output_type": "stream",
     "text": [
      "C:\\Program Files\\Anaconda3\\lib\\site-packages\\ipykernel_launcher.py:4: SettingWithCopyWarning: \n",
      "A value is trying to be set on a copy of a slice from a DataFrame.\n",
      "Try using .loc[row_indexer,col_indexer] = value instead\n",
      "\n",
      "See the caveats in the documentation: http://pandas.pydata.org/pandas-docs/stable/indexing.html#indexing-view-versus-copy\n",
      "  after removing the cwd from sys.path.\n",
      "C:\\Program Files\\Anaconda3\\lib\\site-packages\\ipykernel_launcher.py:5: SettingWithCopyWarning: \n",
      "A value is trying to be set on a copy of a slice from a DataFrame.\n",
      "Try using .loc[row_indexer,col_indexer] = value instead\n",
      "\n",
      "See the caveats in the documentation: http://pandas.pydata.org/pandas-docs/stable/indexing.html#indexing-view-versus-copy\n",
      "  \"\"\"\n"
     ]
    }
   ],
   "source": [
    "sm_titles = sm[[\"title\"]]\n",
    "pm_titles = pm[[\"title\"]]\n",
    "\n",
    "sm_titles[\"is_sequel_meme\"] = 1\n",
    "pm_titles[\"is_sequel_meme\"] = 0\n",
    "\n",
    "meme_titles = pd.concat([pm_titles,sm_titles])\n",
    "corpus = [title[0] for title in meme_titles[[\"title\"]].values]"
   ]
  },
  {
   "cell_type": "markdown",
   "metadata": {},
   "source": [
    "This is an attempt to create Pipelines and Feature Unions without using [Pipelines and Feature Unions](http://scikit-learn.org/stable/modules/pipeline.html).\n",
    "\n",
    "I am not skilled enough (yet) to understand the intricacies of pipelines and feature unions; however, I can create the data structures I need to get something going.\n",
    "\n",
    "I am basically testing every variation of of every parameter that can be passed into a CountVectorizer and TfidfVectorizer and then testing those against as many classifiers as I can. Ultimately, I pare down the classifiers either because some of them ran too slowly or froze my computer."
   ]
  },
  {
   "cell_type": "code",
   "execution_count": 23,
   "metadata": {
    "scrolled": false
   },
   "outputs": [],
   "source": [
    "vectorizers_start = {\n",
    "    \"cvec\" : CountVectorizer,\n",
    "    \"tfidf\" : TfidfVectorizer,\n",
    "}\n",
    "\n",
    "vectorizers = {}\n",
    "\n",
    "for key,vec in vectorizers_start.items():\n",
    "    vectorizers[key] = vec(stop_words='english')\n",
    "    for max_df in (0.25, 0.5, 0.75):\n",
    "        vectorizers[f\"{key}__max_df_of_{max_df}\"] = vec(stop_words='english', max_df=max_df)\n",
    "        for n_gram_range in [(1, 1), (1, 2), (1, 3), (1, 4)]:\n",
    "            vectorizers[f\"{key}__n_gram_range_of_{n_gram_range}\"] = vec(stop_words='english', ngram_range=n_gram_range)\n",
    "            vectorizers[f\"{key}__n_gram_range_of_{n_gram_range}_max_df_of{max_df}\"] = vec(stop_words='english', ngram_range=n_gram_range, max_df=max_df)\n",
    "\n",
    "classifiers = {\n",
    "    \"bnb\" : BernoulliNB(), #=> Fast and good enough score\n",
    "    \"mnb\" : MultinomialNB(), #=> Fast and good enough score\n",
    "    \"logr\": LogisticRegression(), #=> Best score, but super slow\n",
    "#     \"knn\" : KNeighborsClassifier(), #=> Super overfit, not great scores\n",
    "#     \"tree\" : DecisionTreeClassifier(), #=> Could not run successfully\n",
    "    \"rfc\" : RandomForestClassifier(), #=> Very overfit, not much better than Naive Bayes\n",
    "#     \"gbc\" : GradientBoostingClassifier(), #=> Not great, worse than Naive Bayes\n",
    "#     \"ada\" : AdaBoostClassifier(), #=> Not great, worse than Naive Bayes\n",
    "#     \"svm\" : SVC(), #=> painstakingly slow, couldn't run on my computer :/\n",
    "}\n",
    "\n",
    "# Borrowed from https://www.kaggle.com/mayu0116/hyper-parameters-tuning-of-dtree-rf-svm-knn\n",
    "# and https://optunity.readthedocs.io/en/stable/notebooks/notebooks/sklearn-automated-classification.html\n",
    "hyper_parameters = {\n",
    "    \"bnb\" : {\n",
    "        \"alpha\": np.linspace(0.0,1.0,10)\n",
    "    },\n",
    "    \"mnb\" : {\n",
    "        \"alpha\": np.linspace(0.0,1.0,10)\n",
    "    },\n",
    "    \"logr\": {\n",
    "        \"penalty\" : ['l1', 'l2'],\n",
    "        \"C\": np.logspace(0, 10, 20)\n",
    "    },\n",
    "    \"knn\" : {\n",
    "        'n_neighbors':[1,2,3,4,5],\n",
    "        'weights':['uniform', 'distance'],\n",
    "    },\n",
    "    \"svm\" : {\n",
    "        'kernel': ['linear', 'poly', 'rbf'],\n",
    "        'C': [1, 2, 10, 50],\n",
    "        'gamma': [0, 1],\n",
    "        'degree': [2, 5],\n",
    "        'coef0': [0, 1]\n",
    "    },\n",
    "    \"tree\": {\n",
    "        \n",
    "    },\n",
    "    \"rfc\":{\n",
    "        \n",
    "    },\n",
    "    \"gbc\":{\n",
    "        \"n_estimators\" : [50,100,150]\n",
    "    },\n",
    "    \"ada\":{\n",
    "        \"base_estimator\": [BernoulliNB(), MultinomialNB(), LogisticRegression()],\n",
    "        \"n_estimators\" : [50,100,150]\n",
    "    }\n",
    "}\n",
    "\n",
    "for key,val in vectorizers.items():\n",
    "    print(f\"Fitting {key}\")\n",
    "    val.fit(corpus)\n",
    "    # Transform the corpus\n",
    "    X  = val.transform(corpus)\n",
    "    y = meme_titles[[\"is_sequel_meme\"]]\n",
    "    X_train, X_test, y_train, y_test = train_test_split(X, y)\n",
    "    for class_key, classifier in classifiers.items():\n",
    "        print(f\"Scores for {key} using {class_key} Classifier\")\n",
    "        gs = GridSearchCV(classifier, param_grid=hyper_parameters[class_key], n_jobs=-1);\n",
    "        gs.fit(X_train,y_train);\n",
    "        print(f\"Train data: {gs.score(X_train, y_train)}\")\n",
    "        print(f\"{gs.best_estimator_}\")\n",
    "        print(f\"{gs.best_params_}\")\n",
    "        print(f\"Test data: {gs.score(X_test, y_test)}\")\n",
    "        print(f\"{gs.best_estimator_}\")\n",
    "        print(f\"{gs.best_params_}\")\n",
    "        [print() for i in range(0,3)]"
   ]
  },
  {
   "cell_type": "markdown",
   "metadata": {
    "focus": false,
    "id": "04563b69-f7b6-466f-9d65-fc62c9ddee6a"
   },
   "source": [
    "## Scores\n",
    "\n",
    "I copied the outputted scores, cleaned them up in Sublime Text and created the following data structure so that I could plot the differences in training and test scores:"
   ]
  },
  {
   "cell_type": "code",
   "execution_count": 24,
   "metadata": {},
   "outputs": [],
   "source": [
    "from pickle import load\n",
    "\n",
    "pickle_in = open(\"scores.pickle\",\"rb\")\n",
    "scores = load(pickle_in)"
   ]
  },
  {
   "cell_type": "markdown",
   "metadata": {},
   "source": [
    "I made a way to map the classifiers to certain colors so I can identify which is which in a chart"
   ]
  },
  {
   "cell_type": "code",
   "execution_count": 25,
   "metadata": {},
   "outputs": [],
   "source": [
    "classifiers = [re.search(r'using (.*?) Classifier', score[\"classifier\"]).group(1) for score in scores]\n",
    "\n",
    "color_map = dict(zip(list(set(classifiers)),['#e66101','#5e3c99','#fdb863','#b2abd2']))"
   ]
  },
  {
   "cell_type": "markdown",
   "metadata": {},
   "source": [
    "I embed a shortened name of the classifier into the list of dictionaries that I created above so that I can create a legend that shows the color and the differentation of each classifier."
   ]
  },
  {
   "cell_type": "code",
   "execution_count": 26,
   "metadata": {},
   "outputs": [],
   "source": [
    "for score in scores:\n",
    "    score[\"short_class\"] = re.search(r'using (.*?) Classifier', score[\"classifier\"]).group(1)"
   ]
  },
  {
   "cell_type": "markdown",
   "metadata": {},
   "source": [
    "Now I will create a dataframe of the scores and chart it so that I can see how the various classifiers generally perform."
   ]
  },
  {
   "cell_type": "code",
   "execution_count": 29,
   "metadata": {
    "scrolled": false
   },
   "outputs": [
    {
     "name": "stdout",
     "output_type": "stream",
     "text": [
      "\n"
     ]
    },
    {
     "data": {
      "image/png": "[encoded data removed]",
      "text/plain": [
       "<Figure size 864x864 with 1 Axes>"
      ]
     },
     "metadata": {},
     "output_type": "display_data"
    }
   ],
   "source": [
    "scores_df = pd.DataFrame(scores)\n",
    "\n",
    "sorted_scores = scores_df.sort_values(\n",
    "    by=\"test_score\",\n",
    "    ascending=False)\n",
    "\n",
    "plt.figure(figsize=(12,12))\n",
    "plt.title(\"Scores by Classifier\", fontsize=30, pad=50)\n",
    "plt.xlabel(\"Train score\", fontsize=20)\n",
    "plt.ylabel(\"Test score\", fontsize=20)\n",
    "handles = [mpatches.Patch(color=val, label=key) for key, val in color_map.items()]\n",
    "plt.legend(handles=handles)\n",
    "for key, val in color_map.items():\n",
    "    for score in scores:\n",
    "        if score[\"short_class\"] == key:\n",
    "            plt.scatter(\n",
    "                x=score[\"train_score\"],\n",
    "                y=score[\"test_score\"],\n",
    "                color=val)\n",
    "plt.savefig(\"../presentation/images/scores_by_classifier.png\")\n",
    "print()"
   ]
  },
  {
   "cell_type": "markdown",
   "metadata": {},
   "source": [
    "Finally a look at the hyperparameters and classifiers that were the top 10"
   ]
  },
  {
   "cell_type": "code",
   "execution_count": 9,
   "metadata": {},
   "outputs": [
    {
     "data": {
      "text/html": [
       "<div>\n",
       "<style scoped>\n",
       "    .dataframe tbody tr th:only-of-type {\n",
       "        vertical-align: middle;\n",
       "    }\n",
       "\n",
       "    .dataframe tbody tr th {\n",
       "        vertical-align: top;\n",
       "    }\n",
       "\n",
       "    .dataframe thead th {\n",
       "        text-align: right;\n",
       "    }\n",
       "</style>\n",
       "<table border=\"1\" class=\"dataframe\">\n",
       "  <thead>\n",
       "    <tr style=\"text-align: right;\">\n",
       "      <th></th>\n",
       "      <th>classifier</th>\n",
       "      <th>short_class</th>\n",
       "      <th>test_score</th>\n",
       "      <th>train_score</th>\n",
       "    </tr>\n",
       "  </thead>\n",
       "  <tbody>\n",
       "    <tr>\n",
       "      <th>30</th>\n",
       "      <td>cvec__n_gram_range_of_(1, 3)_max_df_of0.25 usi...</td>\n",
       "      <td>logr</td>\n",
       "      <td>0.780554</td>\n",
       "      <td>0.946905</td>\n",
       "    </tr>\n",
       "    <tr>\n",
       "      <th>28</th>\n",
       "      <td>cvec__n_gram_range_of_(1, 3)_max_df_of0.25 usi...</td>\n",
       "      <td>bnb</td>\n",
       "      <td>0.779549</td>\n",
       "      <td>0.932015</td>\n",
       "    </tr>\n",
       "    <tr>\n",
       "      <th>114</th>\n",
       "      <td>tfidf__n_gram_range_of_(1, 4) using logr Class...</td>\n",
       "      <td>logr</td>\n",
       "      <td>0.779262</td>\n",
       "      <td>0.953224</td>\n",
       "    </tr>\n",
       "    <tr>\n",
       "      <th>113</th>\n",
       "      <td>tfidf__n_gram_range_of_(1, 4) using mnb Classi...</td>\n",
       "      <td>mnb</td>\n",
       "      <td>0.778687</td>\n",
       "      <td>0.949969</td>\n",
       "    </tr>\n",
       "    <tr>\n",
       "      <th>29</th>\n",
       "      <td>cvec__n_gram_range_of_(1, 3)_max_df_of0.25 usi...</td>\n",
       "      <td>mnb</td>\n",
       "      <td>0.777251</td>\n",
       "      <td>0.930004</td>\n",
       "    </tr>\n",
       "    <tr>\n",
       "      <th>50</th>\n",
       "      <td>cvec__n_gram_range_of_(1, 2)_max_df_of0.5 usin...</td>\n",
       "      <td>logr</td>\n",
       "      <td>0.776246</td>\n",
       "      <td>0.939963</td>\n",
       "    </tr>\n",
       "    <tr>\n",
       "      <th>132</th>\n",
       "      <td>tfidf__n_gram_range_of_(1, 3)_max_df_of0.5 usi...</td>\n",
       "      <td>bnb</td>\n",
       "      <td>0.775241</td>\n",
       "      <td>0.933834</td>\n",
       "    </tr>\n",
       "    <tr>\n",
       "      <th>133</th>\n",
       "      <td>tfidf__n_gram_range_of_(1, 3)_max_df_of0.5 usi...</td>\n",
       "      <td>mnb</td>\n",
       "      <td>0.774235</td>\n",
       "      <td>0.948676</td>\n",
       "    </tr>\n",
       "    <tr>\n",
       "      <th>48</th>\n",
       "      <td>cvec__n_gram_range_of_(1, 2)_max_df_of0.5 usin...</td>\n",
       "      <td>bnb</td>\n",
       "      <td>0.773804</td>\n",
       "      <td>0.925360</td>\n",
       "    </tr>\n",
       "    <tr>\n",
       "      <th>116</th>\n",
       "      <td>tfidf__n_gram_range_of_(1, 4)_max_df_of0.25 us...</td>\n",
       "      <td>bnb</td>\n",
       "      <td>0.772799</td>\n",
       "      <td>0.933882</td>\n",
       "    </tr>\n",
       "  </tbody>\n",
       "</table>\n",
       "</div>"
      ],
      "text/plain": [
       "                                            classifier short_class  \\\n",
       "30   cvec__n_gram_range_of_(1, 3)_max_df_of0.25 usi...        logr   \n",
       "28   cvec__n_gram_range_of_(1, 3)_max_df_of0.25 usi...         bnb   \n",
       "114  tfidf__n_gram_range_of_(1, 4) using logr Class...        logr   \n",
       "113  tfidf__n_gram_range_of_(1, 4) using mnb Classi...         mnb   \n",
       "29   cvec__n_gram_range_of_(1, 3)_max_df_of0.25 usi...         mnb   \n",
       "50   cvec__n_gram_range_of_(1, 2)_max_df_of0.5 usin...        logr   \n",
       "132  tfidf__n_gram_range_of_(1, 3)_max_df_of0.5 usi...         bnb   \n",
       "133  tfidf__n_gram_range_of_(1, 3)_max_df_of0.5 usi...         mnb   \n",
       "48   cvec__n_gram_range_of_(1, 2)_max_df_of0.5 usin...         bnb   \n",
       "116  tfidf__n_gram_range_of_(1, 4)_max_df_of0.25 us...         bnb   \n",
       "\n",
       "     test_score  train_score  \n",
       "30     0.780554     0.946905  \n",
       "28     0.779549     0.932015  \n",
       "114    0.779262     0.953224  \n",
       "113    0.778687     0.949969  \n",
       "29     0.777251     0.930004  \n",
       "50     0.776246     0.939963  \n",
       "132    0.775241     0.933834  \n",
       "133    0.774235     0.948676  \n",
       "48     0.773804     0.925360  \n",
       "116    0.772799     0.933882  "
      ]
     },
     "execution_count": 9,
     "metadata": {},
     "output_type": "execute_result"
    }
   ],
   "source": [
    "sorted_scores.head(10)"
   ]
  }
 ],
 "metadata": {
  "anaconda-cloud": {},
  "kernelspec": {
   "display_name": "Python 3",
   "language": "python",
   "name": "python3"
  },
  "language_info": {
   "codemirror_mode": {
    "name": "ipython",
    "version": 3
   },
   "file_extension": ".py",
   "mimetype": "text/x-python",
   "name": "python",
   "nbconvert_exporter": "python",
   "pygments_lexer": "ipython3",
   "version": "3.6.5"
  },
  "varInspector": {
   "cols": {
    "lenName": 16,
    "lenType": 16,
    "lenVar": 40
   },
   "kernels_config": {
    "python": {
     "delete_cmd_postfix": "",
     "delete_cmd_prefix": "del ",
     "library": "var_list.py",
     "varRefreshCmd": "print(var_dic_list())"
    },
    "r": {
     "delete_cmd_postfix": ") ",
     "delete_cmd_prefix": "rm(",
     "library": "var_list.r",
     "varRefreshCmd": "cat(var_dic_list()) "
    }
   },
   "types_to_exclude": [
    "module",
    "function",
    "builtin_function_or_method",
    "instance",
    "_Feature"
   ],
   "window_display": false
  }
 },
 "nbformat": 4,
 "nbformat_minor": 1
}
