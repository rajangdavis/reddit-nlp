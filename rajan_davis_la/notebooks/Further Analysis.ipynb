{
 "cells": [
  {
   "cell_type": "markdown",
   "metadata": {},
   "source": [
    "# Further Analysis"
   ]
  },
  {
   "cell_type": "markdown",
   "metadata": {},
   "source": [
    "## This notebook is for interpretting my model for production"
   ]
  },
  {
   "cell_type": "markdown",
   "metadata": {},
   "source": [
    "First I import my dependencies in order to manipulate data, performing calculations, getting word counts and frequencies, and machine learning classification testing and modeling."
   ]
  },
  {
   "cell_type": "code",
   "execution_count": 39,
   "metadata": {},
   "outputs": [],
   "source": [
    "# Manipulates data\n",
    "import pandas as pd\n",
    "\n",
    "# Performs numerical computations\n",
    "import numpy as np\n",
    "\n",
    "# Machine Learning things \n",
    "# The vectorizers are for performing analysis on word counts/frequencies\n",
    "from sklearn.feature_extraction.text import CountVectorizer\n",
    "\n",
    "# These are for classification and statistical analysis\n",
    "from sklearn.naive_bayes import BernoulliNB\n",
    "from sklearn.model_selection import train_test_split\n",
    "from sklearn.metrics import confusion_matrix, accuracy_score"
   ]
  },
  {
   "cell_type": "markdown",
   "metadata": {},
   "source": [
    "Next, I will import my JSON and prepare it to be stemmed and vectorized."
   ]
  },
  {
   "cell_type": "code",
   "execution_count": 40,
   "metadata": {},
   "outputs": [
    {
     "name": "stderr",
     "output_type": "stream",
     "text": [
      "C:\\Program Files\\Anaconda3\\lib\\site-packages\\ipykernel_launcher.py:6: SettingWithCopyWarning: \n",
      "A value is trying to be set on a copy of a slice from a DataFrame.\n",
      "Try using .loc[row_indexer,col_indexer] = value instead\n",
      "\n",
      "See the caveats in the documentation: http://pandas.pydata.org/pandas-docs/stable/indexing.html#indexing-view-versus-copy\n",
      "  \n",
      "C:\\Program Files\\Anaconda3\\lib\\site-packages\\ipykernel_launcher.py:7: SettingWithCopyWarning: \n",
      "A value is trying to be set on a copy of a slice from a DataFrame.\n",
      "Try using .loc[row_indexer,col_indexer] = value instead\n",
      "\n",
      "See the caveats in the documentation: http://pandas.pydata.org/pandas-docs/stable/indexing.html#indexing-view-versus-copy\n",
      "  import sys\n"
     ]
    }
   ],
   "source": [
    "sm = pd.read_json(\"../data_fetching/json2/SequelMemes.json\")\n",
    "pm = pd.read_json(\"../data_fetching/json2/PrequelMemes.json\")\n",
    "sm_titles = sm[[\"title\"]]\n",
    "pm_titles = pm[[\"title\"]]\n",
    "\n",
    "sm_titles[\"is_sequel_meme\"] = 1\n",
    "pm_titles[\"is_sequel_meme\"] = 0\n",
    "\n",
    "meme_titles = pd.concat([pm_titles,sm_titles])\n",
    "corpus = [title[0] for title in meme_titles[[\"title\"]].values]"
   ]
  },
  {
   "cell_type": "markdown",
   "metadata": {},
   "source": [
    "Then I will vectorize the titles and fit them to a Bernoulli Naive Bayes Classification Model"
   ]
  },
  {
   "cell_type": "code",
   "execution_count": 41,
   "metadata": {},
   "outputs": [
    {
     "name": "stderr",
     "output_type": "stream",
     "text": [
      "C:\\Program Files\\Anaconda3\\lib\\site-packages\\sklearn\\utils\\validation.py:578: DataConversionWarning: A column-vector y was passed when a 1d array was expected. Please change the shape of y to (n_samples, ), for example using ravel().\n",
      "  y = column_or_1d(y, warn=True)\n"
     ]
    },
    {
     "data": {
      "text/plain": [
       "BernoulliNB(alpha=1.0, binarize=0.0, class_prior=None, fit_prior=True)"
      ]
     },
     "execution_count": 41,
     "metadata": {},
     "output_type": "execute_result"
    }
   ],
   "source": [
    "cvec = CountVectorizer(ngram_range=(1,3),max_df=.25, stop_words='english')\n",
    "cvec.fit(corpus)\n",
    "# Transform the corpus\n",
    "X  = cvec.transform(corpus)\n",
    "y = meme_titles[[\"is_sequel_meme\"]]\n",
    "X_train, X_test, y_train, y_test = train_test_split(X, y)\n",
    "\n",
    "bnb = BernoulliNB()\n",
    "bnb.fit(X_train, y_train)"
   ]
  },
  {
   "cell_type": "markdown",
   "metadata": {},
   "source": [
    "Finally, I will create a confusion matrix along with measuring the accuracy score"
   ]
  },
  {
   "cell_type": "code",
   "execution_count": 42,
   "metadata": {},
   "outputs": [
    {
     "name": "stdout",
     "output_type": "stream",
     "text": [
      "0.7657618842452966\n",
      "[[2558  763]\n",
      " [ 868 2774]]\n"
     ]
    }
   ],
   "source": [
    "predictions = bnb.predict(X_test)\n",
    "\n",
    "# https://stackoverflow.com/a/48412991/2548452\n",
    "acc_score = accuracy_score(y_test, predictions)\n",
    "conf_mat = confusion_matrix(\n",
    "        y_test, predictions)\n",
    "\n",
    "print(acc_score)\n",
    "print(conf_mat)"
   ]
  },
  {
   "cell_type": "markdown",
   "metadata": {},
   "source": [
    "Generally speaking, this model is 77% accurate with higher disposition of misclassification towards false positives rather than false negatives. This means that it generally mistakes posts titles from r/SequelMemes as if they were posts titles from r/PrequelMemes.\n",
    "\n",
    "I think this makes sense because r/PrequelMemes is an older subreddit and has a larger number of posts. It may also be that there is shared language that may increase this misclassification rate given that both of these subreddits are very referenced based.\n",
    "\n",
    "I also think that these subreddits have a very similar sense of humor and that gets encoded in the titles albeit with different sets of references."
   ]
  }
 ],
 "metadata": {
  "kernelspec": {
   "display_name": "Python 3",
   "language": "python",
   "name": "python3"
  },
  "language_info": {
   "codemirror_mode": {
    "name": "ipython",
    "version": 3
   },
   "file_extension": ".py",
   "mimetype": "text/x-python",
   "name": "python",
   "nbconvert_exporter": "python",
   "pygments_lexer": "ipython3",
   "version": "3.6.6"
  }
 },
 "nbformat": 4,
 "nbformat_minor": 2
}
